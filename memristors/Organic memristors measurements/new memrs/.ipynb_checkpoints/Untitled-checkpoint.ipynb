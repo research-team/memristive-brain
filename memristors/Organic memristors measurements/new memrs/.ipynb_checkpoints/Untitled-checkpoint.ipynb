{
 "cells": [
  {
   "cell_type": "code",
   "execution_count": 62,
   "metadata": {},
   "outputs": [],
   "source": [
    "# отключим предупреждения Anaconda\n",
    "import warnings\n",
    "warnings.simplefilter('ignore')\n",
    "\n",
    "# будем отображать графики прямо в jupyter'e\n",
    "%matplotlib inline\n",
    "import seaborn as sns\n",
    "import matplotlib.pyplot as plt\n",
    "#графики в svg выглядят более четкими\n",
    "%config InlineBackend.figure_format = 'svg' \n",
    "\n",
    "#увеличим дефолтный размер графиков\n",
    "from pylab import rcParams\n",
    "rcParams['figure.figsize'] = 8, 5\n",
    "import pandas as pd"
   ]
  },
  {
   "cell_type": "code",
   "execution_count": 63,
   "metadata": {},
   "outputs": [
    {
     "data": {
      "text/html": [
       "        <script type=\"text/javascript\">\n",
       "        window.PlotlyConfig = {MathJaxConfig: 'local'};\n",
       "        if (window.MathJax) {MathJax.Hub.Config({SVG: {font: \"STIX-Web\"}});}\n",
       "        if (typeof require !== 'undefined') {\n",
       "        require.undef(\"plotly\");\n",
       "        requirejs.config({\n",
       "            paths: {\n",
       "                'plotly': ['https://cdn.plot.ly/plotly-latest.min']\n",
       "            }\n",
       "        });\n",
       "        require(['plotly'], function(Plotly) {\n",
       "            window._Plotly = Plotly;\n",
       "        });\n",
       "        }\n",
       "        </script>\n",
       "        "
      ]
     },
     "metadata": {},
     "output_type": "display_data"
    }
   ],
   "source": [
    "from plotly.offline import download_plotlyjs, init_notebook_mode, plot, iplot\n",
    "import plotly\n",
    "import plotly.graph_objs as go\n",
    "\n",
    "init_notebook_mode(connected=True)"
   ]
  },
  {
   "cell_type": "code",
   "execution_count": 64,
   "metadata": {},
   "outputs": [
    {
     "ename": "KeyError",
     "evalue": "'Fractional Seconds'",
     "output_type": "error",
     "traceback": [
      "\u001b[0;31m---------------------------------------------------------------------------\u001b[0m",
      "\u001b[0;31mKeyError\u001b[0m                                  Traceback (most recent call last)",
      "\u001b[0;32m/home/yura/anaconda3/lib/python3.7/site-packages/pandas/core/indexes/base.py\u001b[0m in \u001b[0;36mget_loc\u001b[0;34m(self, key, method, tolerance)\u001b[0m\n\u001b[1;32m   2896\u001b[0m             \u001b[0;32mtry\u001b[0m\u001b[0;34m:\u001b[0m\u001b[0;34m\u001b[0m\u001b[0;34m\u001b[0m\u001b[0m\n\u001b[0;32m-> 2897\u001b[0;31m                 \u001b[0;32mreturn\u001b[0m \u001b[0mself\u001b[0m\u001b[0;34m.\u001b[0m\u001b[0m_engine\u001b[0m\u001b[0;34m.\u001b[0m\u001b[0mget_loc\u001b[0m\u001b[0;34m(\u001b[0m\u001b[0mkey\u001b[0m\u001b[0;34m)\u001b[0m\u001b[0;34m\u001b[0m\u001b[0;34m\u001b[0m\u001b[0m\n\u001b[0m\u001b[1;32m   2898\u001b[0m             \u001b[0;32mexcept\u001b[0m \u001b[0mKeyError\u001b[0m\u001b[0;34m:\u001b[0m\u001b[0;34m\u001b[0m\u001b[0;34m\u001b[0m\u001b[0m\n",
      "\u001b[0;32mpandas/_libs/index.pyx\u001b[0m in \u001b[0;36mpandas._libs.index.IndexEngine.get_loc\u001b[0;34m()\u001b[0m\n",
      "\u001b[0;32mpandas/_libs/index.pyx\u001b[0m in \u001b[0;36mpandas._libs.index.IndexEngine.get_loc\u001b[0;34m()\u001b[0m\n",
      "\u001b[0;32mpandas/_libs/hashtable_class_helper.pxi\u001b[0m in \u001b[0;36mpandas._libs.hashtable.PyObjectHashTable.get_item\u001b[0;34m()\u001b[0m\n",
      "\u001b[0;32mpandas/_libs/hashtable_class_helper.pxi\u001b[0m in \u001b[0;36mpandas._libs.hashtable.PyObjectHashTable.get_item\u001b[0;34m()\u001b[0m\n",
      "\u001b[0;31mKeyError\u001b[0m: 'Fractional Seconds'",
      "\nDuring handling of the above exception, another exception occurred:\n",
      "\u001b[0;31mKeyError\u001b[0m                                  Traceback (most recent call last)",
      "\u001b[0;32m<ipython-input-64-48fcaf1c747f>\u001b[0m in \u001b[0;36m<module>\u001b[0;34m\u001b[0m\n\u001b[1;32m      3\u001b[0m \u001b[0mfile\u001b[0m \u001b[0;34m=\u001b[0m \u001b[0;34m\"memr-3_18#11#2019#20#20#16_steptime_90.csv\"\u001b[0m\u001b[0;34m\u001b[0m\u001b[0;34m\u001b[0m\u001b[0m\n\u001b[1;32m      4\u001b[0m \u001b[0mdf\u001b[0m\u001b[0;34m=\u001b[0m\u001b[0mpd\u001b[0m\u001b[0;34m.\u001b[0m\u001b[0mread_csv\u001b[0m\u001b[0;34m(\u001b[0m\u001b[0;34m\"{}/{}\"\u001b[0m\u001b[0;34m.\u001b[0m\u001b[0mformat\u001b[0m\u001b[0;34m(\u001b[0m\u001b[0mfolder\u001b[0m\u001b[0;34m,\u001b[0m \u001b[0mfile\u001b[0m\u001b[0;34m)\u001b[0m\u001b[0;34m,\u001b[0m \u001b[0mdtype\u001b[0m\u001b[0;34m=\u001b[0m\u001b[0;34m'object'\u001b[0m\u001b[0;34m,\u001b[0m \u001b[0mcomment\u001b[0m\u001b[0;34m=\u001b[0m\u001b[0;34m'#'\u001b[0m\u001b[0;34m)\u001b[0m\u001b[0;34m\u001b[0m\u001b[0;34m\u001b[0m\u001b[0m\n\u001b[0;32m----> 5\u001b[0;31m \u001b[0mdf\u001b[0m\u001b[0;34m[\u001b[0m\u001b[0;34m'Fractional Seconds'\u001b[0m\u001b[0;34m]\u001b[0m\u001b[0;34m=\u001b[0m\u001b[0mdf\u001b[0m\u001b[0;34m[\u001b[0m\u001b[0;34m'Fractional Seconds'\u001b[0m\u001b[0;34m]\u001b[0m\u001b[0;34m.\u001b[0m\u001b[0mastype\u001b[0m\u001b[0;34m(\u001b[0m\u001b[0;34m'object'\u001b[0m\u001b[0;34m)\u001b[0m\u001b[0;34m\u001b[0m\u001b[0;34m\u001b[0m\u001b[0m\n\u001b[0m\u001b[1;32m      6\u001b[0m \u001b[0mstep_time\u001b[0m \u001b[0;34m=\u001b[0m \u001b[0;36m90\u001b[0m\u001b[0;34m\u001b[0m\u001b[0;34m\u001b[0m\u001b[0m\n\u001b[1;32m      7\u001b[0m \u001b[0mfirst_level_time\u001b[0m \u001b[0;34m=\u001b[0m \u001b[0;36m15\u001b[0m\u001b[0;34m\u001b[0m\u001b[0;34m\u001b[0m\u001b[0m\n",
      "\u001b[0;32m/home/yura/anaconda3/lib/python3.7/site-packages/pandas/core/frame.py\u001b[0m in \u001b[0;36m__getitem__\u001b[0;34m(self, key)\u001b[0m\n\u001b[1;32m   2978\u001b[0m             \u001b[0;32mif\u001b[0m \u001b[0mself\u001b[0m\u001b[0;34m.\u001b[0m\u001b[0mcolumns\u001b[0m\u001b[0;34m.\u001b[0m\u001b[0mnlevels\u001b[0m \u001b[0;34m>\u001b[0m \u001b[0;36m1\u001b[0m\u001b[0;34m:\u001b[0m\u001b[0;34m\u001b[0m\u001b[0;34m\u001b[0m\u001b[0m\n\u001b[1;32m   2979\u001b[0m                 \u001b[0;32mreturn\u001b[0m \u001b[0mself\u001b[0m\u001b[0;34m.\u001b[0m\u001b[0m_getitem_multilevel\u001b[0m\u001b[0;34m(\u001b[0m\u001b[0mkey\u001b[0m\u001b[0;34m)\u001b[0m\u001b[0;34m\u001b[0m\u001b[0;34m\u001b[0m\u001b[0m\n\u001b[0;32m-> 2980\u001b[0;31m             \u001b[0mindexer\u001b[0m \u001b[0;34m=\u001b[0m \u001b[0mself\u001b[0m\u001b[0;34m.\u001b[0m\u001b[0mcolumns\u001b[0m\u001b[0;34m.\u001b[0m\u001b[0mget_loc\u001b[0m\u001b[0;34m(\u001b[0m\u001b[0mkey\u001b[0m\u001b[0;34m)\u001b[0m\u001b[0;34m\u001b[0m\u001b[0;34m\u001b[0m\u001b[0m\n\u001b[0m\u001b[1;32m   2981\u001b[0m             \u001b[0;32mif\u001b[0m \u001b[0mis_integer\u001b[0m\u001b[0;34m(\u001b[0m\u001b[0mindexer\u001b[0m\u001b[0;34m)\u001b[0m\u001b[0;34m:\u001b[0m\u001b[0;34m\u001b[0m\u001b[0;34m\u001b[0m\u001b[0m\n\u001b[1;32m   2982\u001b[0m                 \u001b[0mindexer\u001b[0m \u001b[0;34m=\u001b[0m \u001b[0;34m[\u001b[0m\u001b[0mindexer\u001b[0m\u001b[0;34m]\u001b[0m\u001b[0;34m\u001b[0m\u001b[0;34m\u001b[0m\u001b[0m\n",
      "\u001b[0;32m/home/yura/anaconda3/lib/python3.7/site-packages/pandas/core/indexes/base.py\u001b[0m in \u001b[0;36mget_loc\u001b[0;34m(self, key, method, tolerance)\u001b[0m\n\u001b[1;32m   2897\u001b[0m                 \u001b[0;32mreturn\u001b[0m \u001b[0mself\u001b[0m\u001b[0;34m.\u001b[0m\u001b[0m_engine\u001b[0m\u001b[0;34m.\u001b[0m\u001b[0mget_loc\u001b[0m\u001b[0;34m(\u001b[0m\u001b[0mkey\u001b[0m\u001b[0;34m)\u001b[0m\u001b[0;34m\u001b[0m\u001b[0;34m\u001b[0m\u001b[0m\n\u001b[1;32m   2898\u001b[0m             \u001b[0;32mexcept\u001b[0m \u001b[0mKeyError\u001b[0m\u001b[0;34m:\u001b[0m\u001b[0;34m\u001b[0m\u001b[0;34m\u001b[0m\u001b[0m\n\u001b[0;32m-> 2899\u001b[0;31m                 \u001b[0;32mreturn\u001b[0m \u001b[0mself\u001b[0m\u001b[0;34m.\u001b[0m\u001b[0m_engine\u001b[0m\u001b[0;34m.\u001b[0m\u001b[0mget_loc\u001b[0m\u001b[0;34m(\u001b[0m\u001b[0mself\u001b[0m\u001b[0;34m.\u001b[0m\u001b[0m_maybe_cast_indexer\u001b[0m\u001b[0;34m(\u001b[0m\u001b[0mkey\u001b[0m\u001b[0;34m)\u001b[0m\u001b[0;34m)\u001b[0m\u001b[0;34m\u001b[0m\u001b[0;34m\u001b[0m\u001b[0m\n\u001b[0m\u001b[1;32m   2900\u001b[0m         \u001b[0mindexer\u001b[0m \u001b[0;34m=\u001b[0m \u001b[0mself\u001b[0m\u001b[0;34m.\u001b[0m\u001b[0mget_indexer\u001b[0m\u001b[0;34m(\u001b[0m\u001b[0;34m[\u001b[0m\u001b[0mkey\u001b[0m\u001b[0;34m]\u001b[0m\u001b[0;34m,\u001b[0m \u001b[0mmethod\u001b[0m\u001b[0;34m=\u001b[0m\u001b[0mmethod\u001b[0m\u001b[0;34m,\u001b[0m \u001b[0mtolerance\u001b[0m\u001b[0;34m=\u001b[0m\u001b[0mtolerance\u001b[0m\u001b[0;34m)\u001b[0m\u001b[0;34m\u001b[0m\u001b[0;34m\u001b[0m\u001b[0m\n\u001b[1;32m   2901\u001b[0m         \u001b[0;32mif\u001b[0m \u001b[0mindexer\u001b[0m\u001b[0;34m.\u001b[0m\u001b[0mndim\u001b[0m \u001b[0;34m>\u001b[0m \u001b[0;36m1\u001b[0m \u001b[0;32mor\u001b[0m \u001b[0mindexer\u001b[0m\u001b[0;34m.\u001b[0m\u001b[0msize\u001b[0m \u001b[0;34m>\u001b[0m \u001b[0;36m1\u001b[0m\u001b[0;34m:\u001b[0m\u001b[0;34m\u001b[0m\u001b[0;34m\u001b[0m\u001b[0m\n",
      "\u001b[0;32mpandas/_libs/index.pyx\u001b[0m in \u001b[0;36mpandas._libs.index.IndexEngine.get_loc\u001b[0;34m()\u001b[0m\n",
      "\u001b[0;32mpandas/_libs/index.pyx\u001b[0m in \u001b[0;36mpandas._libs.index.IndexEngine.get_loc\u001b[0;34m()\u001b[0m\n",
      "\u001b[0;32mpandas/_libs/hashtable_class_helper.pxi\u001b[0m in \u001b[0;36mpandas._libs.hashtable.PyObjectHashTable.get_item\u001b[0;34m()\u001b[0m\n",
      "\u001b[0;32mpandas/_libs/hashtable_class_helper.pxi\u001b[0m in \u001b[0;36mpandas._libs.hashtable.PyObjectHashTable.get_item\u001b[0;34m()\u001b[0m\n",
      "\u001b[0;31mKeyError\u001b[0m: 'Fractional Seconds'"
     ]
    }
   ],
   "source": [
    "# Переделать с рекурсивным обходом всех файлов в директории\n",
    "folder = \"memr_8_at_18#11#2019\"\n",
    "file = \"memr-8_18#11#2019#20#20#16_steptime_90.csv\"\n",
    "df=pd.read_csv(\"{}/{}\".format(folder, file), dtype='object', comment='#')\n",
    "df['Fractional Seconds']=df['Fractional Seconds'].astype('object')\n",
    "step_time = 90\n",
    "first_level_time = 15\n",
    "#print(df.info())"
   ]
  },
  {
   "cell_type": "code",
   "execution_count": 51,
   "metadata": {},
   "outputs": [],
   "source": [
    "e=df['Fractional Seconds'][0]\n",
    "df['Fractional Seconds']=df['Fractional Seconds'].map(lambda x:int(float(x)*10**(len(x)-1))//1000)"
   ]
  },
  {
   "cell_type": "code",
   "execution_count": 52,
   "metadata": {},
   "outputs": [],
   "source": [
    "df['Reading']=df['Reading'].astype('float64')\n",
    "df['Value']=df['Value'].astype('float64')\n",
    "#print(df.info())"
   ]
  },
  {
   "cell_type": "code",
   "execution_count": 53,
   "metadata": {},
   "outputs": [],
   "source": [
    "from datetime import datetime as dt\n",
    "import numpy as np\n",
    "arr=[dt.strptime(df['Date'][i]+\" \"+df['Time'][i]+\" \"+str(df['Fractional Seconds'][i]),\"%m/%d/%Y %H:%M:%S %f\") for i in range(len(df['Date']))]\n",
    "data=np.array(arr)\n",
    "df['Datetime']=pd.Series(data)"
   ]
  },
  {
   "cell_type": "code",
   "execution_count": 54,
   "metadata": {},
   "outputs": [],
   "source": [
    "df['TimeDelta']=(df['Datetime']-df['Datetime'][0])\n",
    "df['TimeDelta']=df['TimeDelta'].map(lambda x:x.total_seconds())"
   ]
  },
  {
   "cell_type": "code",
   "execution_count": 55,
   "metadata": {},
   "outputs": [],
   "source": [
    "df['Resistance']=df['Value']/df['Reading']\n",
    "#print(df['Resistance'])"
   ]
  },
  {
   "cell_type": "code",
   "execution_count": 56,
   "metadata": {},
   "outputs": [
    {
     "name": "stdout",
     "output_type": "stream",
     "text": [
      "          Value       Reading    TimeDelta        Date  \\\n",
      "311   -0.000010  2.794877e-09    14.971042  11/18/2019   \n",
      "2182   0.100024  1.127464e-08   104.983076  11/18/2019   \n",
      "4058   0.200016  7.364306e-08   194.986060  11/18/2019   \n",
      "5931   0.300026  1.238708e-07   284.973533  11/18/2019   \n",
      "7803   0.400026  1.675640e-07   374.955246  11/18/2019   \n",
      "9680   0.500058  2.021867e-07   464.990860  11/18/2019   \n",
      "11555  0.600048  2.185143e-07   554.966626  11/18/2019   \n",
      "13428  0.700045  2.201457e-07   644.976316  11/18/2019   \n",
      "15300  0.800077  2.225117e-07   734.988759  11/18/2019   \n",
      "17176  0.900068  2.286692e-07   824.952359  11/18/2019   \n",
      "19051  1.000093  2.519784e-07   914.980172  11/18/2019   \n",
      "20924  0.900072  2.476567e-07  1004.965034  11/18/2019   \n",
      "22799  0.800085  2.390663e-07  1094.990180  11/18/2019   \n",
      "24670  0.700061  2.274463e-07  1184.996124  11/18/2019   \n",
      "26541  0.600068  2.075201e-07  1274.971843  11/18/2019   \n",
      "28415  0.500083  1.864177e-07  1364.958489  11/18/2019   \n",
      "30291  0.400042  1.565737e-07  1454.982914  11/18/2019   \n",
      "32161  0.300049  1.244402e-07  1544.976868  11/18/2019   \n",
      "34034  0.200040  8.137613e-08  1634.999183  11/18/2019   \n",
      "35908  0.100045  4.241283e-08  1724.963632  11/18/2019   \n",
      "37784  0.000012 -4.883259e-09  1814.966018  11/18/2019   \n",
      "39655 -0.099964 -4.811827e-08  1904.973631  11/18/2019   \n",
      "41529 -0.199977 -9.376636e-08  1994.967130  11/18/2019   \n",
      "43404 -0.299978 -1.405897e-07  2084.981254  11/18/2019   \n",
      "45274 -0.399985 -1.868086e-07  2174.968291  11/18/2019   \n",
      "47147 -0.499997 -2.370703e-07  2264.987423  11/18/2019   \n",
      "49022 -0.600006 -2.778646e-07  2354.991494  11/18/2019   \n",
      "50898 -0.700010 -3.010211e-07  2444.992795  11/18/2019   \n",
      "52769 -0.800018 -2.730518e-07  2534.973393  11/18/2019   \n",
      "54643 -0.900021 -2.267034e-07  2624.987338  11/18/2019   \n",
      "56517 -1.000036 -2.087580e-07  2714.955862  11/18/2019   \n",
      "58388 -0.900019 -1.864559e-07  2804.980802  11/18/2019   \n",
      "60263 -0.800017 -1.790371e-07  2894.971881  11/18/2019   \n",
      "62136 -0.700012 -1.706259e-07  2984.974204  11/18/2019   \n",
      "64008 -0.600007 -1.603006e-07  3074.983363  11/18/2019   \n",
      "65884 -0.499999 -1.485641e-07  3164.964215  11/18/2019   \n",
      "67758 -0.399987 -1.301960e-07  3254.954485  11/18/2019   \n",
      "69630 -0.299981 -1.089780e-07  3344.956560  11/18/2019   \n",
      "71501 -0.199976 -7.344515e-08  3434.966597  11/18/2019   \n",
      "73377 -0.099961 -4.017347e-08  3524.999254  11/18/2019   \n",
      "75250  0.000049  2.605520e-09  3614.980925  11/18/2019   \n",
      "\n",
      "                        Datetime Digits Disp Digits  Fractional Seconds  \\\n",
      "311   2019-11-18 16:24:50.908481      1         6.5            908481.0   \n",
      "2182  2019-11-18 16:26:20.920515      1         6.5            920515.0   \n",
      "4058  2019-11-18 16:27:50.923499      1         6.5            923499.0   \n",
      "5931  2019-11-18 16:29:20.910972      1         6.5            910972.0   \n",
      "7803  2019-11-18 16:30:50.892685      1         6.5            892685.0   \n",
      "9680  2019-11-18 16:32:20.928299      1         6.5            928299.0   \n",
      "11555 2019-11-18 16:33:50.904065      1         6.5            904065.0   \n",
      "13428 2019-11-18 16:35:20.913755      1         6.5            913755.0   \n",
      "15300 2019-11-18 16:36:50.926198      1         6.5            926198.0   \n",
      "17176 2019-11-18 16:38:20.889798      1         6.5            889798.0   \n",
      "19051 2019-11-18 16:39:50.917611      1         6.5            917611.0   \n",
      "20924 2019-11-18 16:41:20.902473      1         6.5            902473.0   \n",
      "22799 2019-11-18 16:42:50.927619      1         6.5            927619.0   \n",
      "24670 2019-11-18 16:44:20.933563      1         6.5            933563.0   \n",
      "26541 2019-11-18 16:45:50.909282      1         6.5            909282.0   \n",
      "28415 2019-11-18 16:47:20.895928      1         6.5            895928.0   \n",
      "30291 2019-11-18 16:48:50.920353      1         6.5            920353.0   \n",
      "32161 2019-11-18 16:50:20.914307      1         6.5            914307.0   \n",
      "34034 2019-11-18 16:51:50.936622      1         6.5            936622.0   \n",
      "35908 2019-11-18 16:53:20.901071      1         6.5            901071.0   \n",
      "37784 2019-11-18 16:54:50.903457      1         6.5            903457.0   \n",
      "39655 2019-11-18 16:56:20.911070      1         6.5            911070.0   \n",
      "41529 2019-11-18 16:57:50.904569      1         6.5            904569.0   \n",
      "43404 2019-11-18 16:59:20.918693      1         6.5            918693.0   \n",
      "45274 2019-11-18 17:00:50.905730      1         6.5            905730.0   \n",
      "47147 2019-11-18 17:02:20.924862      1         6.5            924862.0   \n",
      "49022 2019-11-18 17:03:50.928933      1         6.5            928933.0   \n",
      "50898 2019-11-18 17:05:20.930234      1         6.5            930234.0   \n",
      "52769 2019-11-18 17:06:50.910832      1         6.5            910832.0   \n",
      "54643 2019-11-18 17:08:20.924777      1         6.5            924777.0   \n",
      "56517 2019-11-18 17:09:50.893301      1         6.5            893301.0   \n",
      "58388 2019-11-18 17:11:20.918241      1         6.5            918241.0   \n",
      "60263 2019-11-18 17:12:50.909320      1         6.5            909320.0   \n",
      "62136 2019-11-18 17:14:20.911643      1         6.5            911643.0   \n",
      "64008 2019-11-18 17:15:50.920802      1         6.5            920802.0   \n",
      "65884 2019-11-18 17:17:20.901654      1         6.5            901654.0   \n",
      "67758 2019-11-18 17:18:50.891924      1         6.5            891924.0   \n",
      "69630 2019-11-18 17:20:20.893999      1         6.5            893999.0   \n",
      "71501 2019-11-18 17:21:50.904036      1         6.5            904036.0   \n",
      "73377 2019-11-18 17:23:20.936693      1         6.5            936693.0   \n",
      "75250 2019-11-18 17:24:50.918364      1         6.5            918364.0   \n",
      "\n",
      "       Index Limit1 High  ... Questionable Range Digits    Resistance Sense  \\\n",
      "311      312           F  ...            F       .00001 -3.651078e+03    2W   \n",
      "2182    2183           F  ...            F       .00001  8.871610e+06    2W   \n",
      "4058    4059           F  ...            F       .00001  2.716014e+06    2W   \n",
      "5931    5932           F  ...            F       .00001  2.422086e+06    2W   \n",
      "7803    7804           F  ...            F       .00001  2.387303e+06    2W   \n",
      "9680    9681           F  ...            F       .00001  2.473250e+06    2W   \n",
      "11555  11556           F  ...            F       .00001  2.746038e+06    2W   \n",
      "13428  13429           F  ...            F       .00001  3.179917e+06    2W   \n",
      "15300  15301           F  ...            F       .00001  3.595661e+06    2W   \n",
      "17176  17177           F  ...            F       .00001  3.936113e+06    2W   \n",
      "19051  19052           F  ...            F       .00001  3.968963e+06    2W   \n",
      "20924  20925           F  ...            F       .00001  3.634353e+06    2W   \n",
      "22799  22800           F  ...            F       .00001  3.346707e+06    2W   \n",
      "24670  24671           F  ...            F       .00001  3.077919e+06    2W   \n",
      "26541  26542           F  ...            F       .00001  2.891611e+06    2W   \n",
      "28415  28416           F  ...            F       .00001  2.682595e+06    2W   \n",
      "30291  30292           F  ...            F       .00001  2.554974e+06    2W   \n",
      "32161  32162           F  ...            F       .00001  2.411187e+06    2W   \n",
      "34034  34035           F  ...            F       .00001  2.458214e+06    2W   \n",
      "35908  35909           F  ...            F       .00001  2.358833e+06    2W   \n",
      "37784  37785           F  ...            F       .00001 -2.494889e+03    2W   \n",
      "39655  39656           F  ...            F       .00001  2.077455e+06    2W   \n",
      "41529  41530           F  ...            F       .00001  2.132715e+06    2W   \n",
      "43404  43405           F  ...            F       .00001  2.133711e+06    2W   \n",
      "45274  45275           F  ...            F       .00001  2.141148e+06    2W   \n",
      "47147  47148           F  ...            F       .00001  2.109068e+06    2W   \n",
      "49022  49023           F  ...            F       .00001  2.159345e+06    2W   \n",
      "50898  50899           F  ...            F       .00001  2.325451e+06    2W   \n",
      "52769  52770           F  ...            F       .00001  2.929912e+06    2W   \n",
      "54643  54644           F  ...            F       .00001  3.970037e+06    2W   \n",
      "56517  56518           F  ...            F       .00001  4.790411e+06    2W   \n",
      "58388  58389           F  ...            F       .00001  4.826983e+06    2W   \n",
      "60263  60264           F  ...            F       .00001  4.468444e+06    2W   \n",
      "62136  62137           F  ...            F       .00001  4.102611e+06    2W   \n",
      "64008  64009           F  ...            F       .00001  3.743013e+06    2W   \n",
      "65884  65885           F  ...            F       .00001  3.365542e+06    2W   \n",
      "67758  67759           F  ...            F       .00001  3.072195e+06    2W   \n",
      "69630  69631           F  ...            F       .00001  2.752675e+06    2W   \n",
      "71501  71502           F  ...            F       .00001  2.722792e+06    2W   \n",
      "73377  73378           F  ...            F       .00001  2.488223e+06    2W   \n",
      "75250  75251           F  ...            F       .00001  1.884091e+04    2W   \n",
      "\n",
      "      Source Limit Start Group Terminal      Time    Unit   Unit.1  \n",
      "311              F           F    Front  16:24:50  Amp DC  Volt DC  \n",
      "2182             F           F    Front  16:26:20  Amp DC  Volt DC  \n",
      "4058             F           F    Front  16:27:50  Amp DC  Volt DC  \n",
      "5931             F           F    Front  16:29:20  Amp DC  Volt DC  \n",
      "7803             F           F    Front  16:30:50  Amp DC  Volt DC  \n",
      "9680             F           F    Front  16:32:20  Amp DC  Volt DC  \n",
      "11555            F           F    Front  16:33:50  Amp DC  Volt DC  \n",
      "13428            F           F    Front  16:35:20  Amp DC  Volt DC  \n",
      "15300            F           F    Front  16:36:50  Amp DC  Volt DC  \n",
      "17176            F           F    Front  16:38:20  Amp DC  Volt DC  \n",
      "19051            F           F    Front  16:39:50  Amp DC  Volt DC  \n",
      "20924            F           F    Front  16:41:20  Amp DC  Volt DC  \n",
      "22799            F           F    Front  16:42:50  Amp DC  Volt DC  \n",
      "24670            F           F    Front  16:44:20  Amp DC  Volt DC  \n",
      "26541            F           F    Front  16:45:50  Amp DC  Volt DC  \n",
      "28415            F           F    Front  16:47:20  Amp DC  Volt DC  \n",
      "30291            F           F    Front  16:48:50  Amp DC  Volt DC  \n",
      "32161            F           F    Front  16:50:20  Amp DC  Volt DC  \n",
      "34034            F           F    Front  16:51:50  Amp DC  Volt DC  \n",
      "35908            F           F    Front  16:53:20  Amp DC  Volt DC  \n",
      "37784            F           F    Front  16:54:50  Amp DC  Volt DC  \n",
      "39655            F           F    Front  16:56:20  Amp DC  Volt DC  \n",
      "41529            F           F    Front  16:57:50  Amp DC  Volt DC  \n",
      "43404            F           F    Front  16:59:20  Amp DC  Volt DC  \n",
      "45274            F           F    Front  17:00:50  Amp DC  Volt DC  \n",
      "47147            F           F    Front  17:02:20  Amp DC  Volt DC  \n",
      "49022            F           F    Front  17:03:50  Amp DC  Volt DC  \n",
      "50898            F           F    Front  17:05:20  Amp DC  Volt DC  \n",
      "52769            F           F    Front  17:06:50  Amp DC  Volt DC  \n",
      "54643            F           F    Front  17:08:20  Amp DC  Volt DC  \n",
      "56517            F           F    Front  17:09:50  Amp DC  Volt DC  \n",
      "58388            F           F    Front  17:11:20  Amp DC  Volt DC  \n",
      "60263            F           F    Front  17:12:50  Amp DC  Volt DC  \n",
      "62136            F           F    Front  17:14:20  Amp DC  Volt DC  \n",
      "64008            F           F    Front  17:15:50  Amp DC  Volt DC  \n",
      "65884            F           F    Front  17:17:20  Amp DC  Volt DC  \n",
      "67758            F           F    Front  17:18:50  Amp DC  Volt DC  \n",
      "69630            F           F    Front  17:20:20  Amp DC  Volt DC  \n",
      "71501            F           F    Front  17:21:50  Amp DC  Volt DC  \n",
      "73377            F           F    Front  17:23:20  Amp DC  Volt DC  \n",
      "75250            F           F    Front  17:24:50  Amp DC  Volt DC  \n",
      "\n",
      "[41 rows x 27 columns]\n"
     ]
    }
   ],
   "source": [
    "temp_df=pd.DataFrame(columns=[\"Value\",\"Reading\",\"TimeDelta\"])\n",
    "one_point=pd.DataFrame(columns=[\"Value\",\"Reading\",\"TimeDelta\"])\n",
    "l = [a * 0.1 for a in range(0, 11)]\n",
    "l += [a * 0.1 for a in range(9, -11,-1)]\n",
    "l += [a * 0.1 for a in range(-9, 1)]\n",
    "\n",
    "for idx,elem in enumerate(l):\n",
    "    temp_df=df[(df['Value'] >=elem-0.05) & (df['Value'] < elem+0.05)& (df['TimeDelta'] < (idx*step_time +first_level_time))]    \n",
    "    one_point=one_point.append(temp_df.iloc[-1,:])   \n",
    "print(one_point)\n",
    "# temp_df.head(10)"
   ]
  },
  {
   "cell_type": "code",
   "execution_count": 57,
   "metadata": {},
   "outputs": [
    {
     "data": {
      "text/plain": [
       "'memr_4_at_18#11#2019_new/memr-4_18#11#2019#13#00#00_steptime_90.csv_hyst.html'"
      ]
     },
     "execution_count": 57,
     "metadata": {},
     "output_type": "execute_result"
    }
   ],
   "source": [
    "t1=step_time*10+first_level_time\n",
    "t2=step_time*20+first_level_time\n",
    "t3=step_time*30+first_level_time\n",
    "s1=step_time*10\n",
    "s2=step_time*20\n",
    "s3=step_time*30\n",
    "datas =[go.Scatter(\n",
    "        x=one_point[\"Value\"][one_point[\"TimeDelta\"]<t1],\n",
    "        y=one_point[\"Reading\"][one_point[\"TimeDelta\"]<t1],\n",
    "        name='hyst1'\n",
    "        ),\n",
    "        go.Scatter(\n",
    "        x=one_point[\"Value\"][(one_point[\"TimeDelta\"]>s1)&(one_point[\"TimeDelta\"]<t2)],\n",
    "        y=one_point[\"Reading\"][(one_point[\"TimeDelta\"]>s1)&(one_point[\"TimeDelta\"]<t2)],\n",
    "        name='hyst2'\n",
    "        ),\n",
    "        go.Scatter(\n",
    "        x=one_point[\"Value\"][(one_point[\"TimeDelta\"]>s2)&(one_point[\"TimeDelta\"]<t3)],\n",
    "        y=one_point[\"Reading\"][(one_point[\"TimeDelta\"]>s2)&(one_point[\"TimeDelta\"]<t3)],\n",
    "        name='hyst3'\n",
    "        ),\n",
    "        go.Scatter(\n",
    "        x=one_point[\"Value\"][one_point[\"TimeDelta\"]>s3],\n",
    "        y=one_point[\"Reading\"][one_point[\"TimeDelta\"]>s3],\n",
    "        name='hyst4'\n",
    "        )]\n",
    "layout = go.Layout(\n",
    "    title='{}_hyst'.format(file),\n",
    "    xaxis=dict(\n",
    "        title=\"volts\",\n",
    "        showgrid=True,\n",
    "        zeroline=True,\n",
    "        showline=True,\n",
    "        mirror='ticks',\n",
    "        gridcolor='#bdbdbd',\n",
    "        gridwidth=2,\n",
    "        zerolinecolor='#969696',\n",
    "        zerolinewidth=4,\n",
    "        linecolor='#636363',\n",
    "        linewidth=6\n",
    "    ),\n",
    "    yaxis=dict(\n",
    "        title=\"amps\",\n",
    "        showgrid=True,\n",
    "        zeroline=True,\n",
    "        showline=True,\n",
    "        mirror='ticks',\n",
    "        gridcolor='#bdbdbd',\n",
    "        gridwidth=2,\n",
    "        zerolinecolor='#969696',\n",
    "        zerolinewidth=4,\n",
    "        linecolor='#636363',\n",
    "        linewidth=6\n",
    "    ),\n",
    "    autosize=False,\n",
    "    width=1920,\n",
    "    height=1080\n",
    ")\n",
    "\n",
    "# cоздаем объект Figure и визуализируем его\n",
    "fig = go.Figure(data=datas, layout=layout)\n",
    "# fig.write_image(\"{}/{}_hyst.png\".format(folder,file))\n",
    "#iplot(fig, show_link=False)\n",
    "plotly.offline.plot(fig,filename=\"{}/{}_hyst.html\".format(folder,file),show_link=False, auto_open=False)"
   ]
  },
  {
   "cell_type": "code",
   "execution_count": 58,
   "metadata": {},
   "outputs": [
    {
     "data": {
      "text/plain": [
       "'memr_4_at_18#11#2019_new/memr-4_18#11#2019#13#00#00_steptime_90.csv_curr.html'"
      ]
     },
     "execution_count": 58,
     "metadata": {},
     "output_type": "execute_result"
    }
   ],
   "source": [
    "datas =[go.Scatter(\n",
    "        x=df['TimeDelta'],\n",
    "        y=df['Reading'])]\n",
    "layout = go.Layout(\n",
    "    title=\"{}_curr\".format(folder),\n",
    "    xaxis=dict(\n",
    "        title=\"TIME\",\n",
    "        showgrid=True,\n",
    "        zeroline=True,\n",
    "        showline=True,\n",
    "        mirror='ticks',\n",
    "        gridcolor='#bdbdbd',\n",
    "        gridwidth=2,\n",
    "        zerolinecolor='#969696',\n",
    "        zerolinewidth=4,\n",
    "        linecolor='#636363',\n",
    "        linewidth=6\n",
    "    ),\n",
    "    yaxis=dict(\n",
    "        title=\"AMPS\",\n",
    "        showgrid=True,\n",
    "        zeroline=True,\n",
    "        showline=True,\n",
    "        mirror='ticks',\n",
    "        gridcolor='#bdbdbd',\n",
    "        gridwidth=2,\n",
    "        zerolinecolor='#969696',\n",
    "        zerolinewidth=4,\n",
    "        linecolor='#636363',\n",
    "        linewidth=6\n",
    "    )\n",
    ")\n",
    "\n",
    "# cоздаем объект Figure и визуализируем его\n",
    "fig1 = go.Figure(data=datas, layout=layout)\n",
    "#iplot(fig, show_link=False)\n",
    "plotly.offline.plot(fig1,filename=\"{}/{}_curr.html\".format(folder, file),show_link=False)"
   ]
  },
  {
   "cell_type": "code",
   "execution_count": 59,
   "metadata": {},
   "outputs": [
    {
     "data": {
      "text/plain": [
       "'memr_4_at_18#11#2019_new/memr-4_18#11#2019#13#00#00_steptime_90.csv_volts.html'"
      ]
     },
     "execution_count": 59,
     "metadata": {},
     "output_type": "execute_result"
    }
   ],
   "source": [
    "datas =[go.Scatter(\n",
    "        x=df['TimeDelta'],\n",
    "        y=df['Value'])]\n",
    "layout = go.Layout(\n",
    "    title=\"{}_volts\".format(folder),\n",
    "    xaxis=dict(\n",
    "        title=\"TIME\",\n",
    "        showgrid=True,\n",
    "        zeroline=True,\n",
    "        showline=True,\n",
    "        mirror='ticks',\n",
    "        gridcolor='#bdbdbd',\n",
    "        gridwidth=2,\n",
    "        zerolinecolor='#969696',\n",
    "        zerolinewidth=4,\n",
    "        linecolor='#636363',\n",
    "        linewidth=6\n",
    "    ),\n",
    "    yaxis=dict(\n",
    "        title=\"VOLTS\",\n",
    "        showgrid=True,\n",
    "        zeroline=True,\n",
    "        showline=True,\n",
    "        mirror='ticks',\n",
    "        gridcolor='#bdbdbd',\n",
    "        gridwidth=2,\n",
    "        zerolinecolor='#969696',\n",
    "        zerolinewidth=4,\n",
    "        linecolor='#636363',\n",
    "        linewidth=6\n",
    "    )\n",
    ")\n",
    "\n",
    "# cоздаем объект Figure и визуализируем его\n",
    "fig1 = go.Figure(data=datas, layout=layout)\n",
    "#iplot(fig, show_link=False)\n",
    "plotly.offline.plot(fig1,filename=\"{}/{}_volts.html\".format(folder, file),show_link=False)"
   ]
  },
  {
   "cell_type": "code",
   "execution_count": 60,
   "metadata": {},
   "outputs": [
    {
     "data": {
      "text/plain": [
       "3614.980925"
      ]
     },
     "execution_count": 60,
     "metadata": {},
     "output_type": "execute_result"
    }
   ],
   "source": [
    "volts = []\n",
    "for i in one_point[\"Value\"]:\n",
    "    volts.append(round(i, 1))\n",
    "\n",
    "amp = []\n",
    "for j in one_point[\"Reading\"]:\n",
    "    amp.append(j)\n",
    "\n",
    "res = []\n",
    "for t in range(0, 41):\n",
    "    x = round(volts[t] / amp[t])\n",
    "    if x < 0:\n",
    "        x *= -1\n",
    "    if x != 0:\n",
    "        res.append(x)\n",
    "        \n",
    "time = []\n",
    "for y in one_point[\"TimeDelta\"]:\n",
    "    time.append(y)\n",
    "time.pop(0)\n",
    "time.pop(19)\n",
    "time.pop()"
   ]
  },
  {
   "cell_type": "code",
   "execution_count": 61,
   "metadata": {},
   "outputs": [
    {
     "data": {
      "text/plain": [
       "'memr_4_at_18#11#2019_new/memr-4_18#11#2019#13#00#00_steptime_90.csv_resistance.html'"
      ]
     },
     "execution_count": 61,
     "metadata": {},
     "output_type": "execute_result"
    }
   ],
   "source": [
    "datas =[go.Scatter(\n",
    "        x=time,\n",
    "        y=res,\n",
    "        name='resistance_{}'.format(file)\n",
    "        )]\n",
    "layout = go.Layout(\n",
    "    title='{}_resistance'.format(file),\n",
    "    xaxis=dict(\n",
    "        title=\"time\",\n",
    "        showgrid=True,\n",
    "        zeroline=True,\n",
    "        showline=True,\n",
    "        mirror='ticks',\n",
    "        gridcolor='#bdbdbd',\n",
    "        gridwidth=2,\n",
    "        zerolinecolor='#969696',\n",
    "        zerolinewidth=4,\n",
    "        linecolor='#636363',\n",
    "        linewidth=6\n",
    "    ),\n",
    "    yaxis=dict(\n",
    "        title=\"resistance\",\n",
    "        showgrid=True,\n",
    "        zeroline=True,\n",
    "        showline=True,\n",
    "        mirror='ticks',\n",
    "        gridcolor='#bdbdbd',\n",
    "        gridwidth=2,\n",
    "        zerolinecolor='#969696',\n",
    "        zerolinewidth=4,\n",
    "        linecolor='#636363',\n",
    "        linewidth=6\n",
    "    ),\n",
    "    autosize=False,\n",
    "    width=1920,\n",
    "    height=1080\n",
    ")\n",
    "\n",
    "# cоздаем объект Figure и визуализируем его\n",
    "fig = go.Figure(data=datas, layout=layout)\n",
    "# fig.write_image(\"{}/{}_volt.png\".format(folder,file))\n",
    "#iplot(fig, show_link=False)\n",
    "plotly.offline.plot(fig,filename=\"{}/{}_resistance.html\".format(folder,file),show_link=False, auto_open=False)"
   ]
  },
  {
   "cell_type": "code",
   "execution_count": null,
   "metadata": {},
   "outputs": [],
   "source": []
  },
  {
   "cell_type": "code",
   "execution_count": 29,
   "metadata": {},
   "outputs": [
    {
     "data": {
      "text/html": [
       "        <script type=\"text/javascript\">\n",
       "        window.PlotlyConfig = {MathJaxConfig: 'local'};\n",
       "        if (window.MathJax) {MathJax.Hub.Config({SVG: {font: \"STIX-Web\"}});}\n",
       "        if (typeof require !== 'undefined') {\n",
       "        require.undef(\"plotly\");\n",
       "        requirejs.config({\n",
       "            paths: {\n",
       "                'plotly': ['https://cdn.plot.ly/plotly-latest.min']\n",
       "            }\n",
       "        });\n",
       "        require(['plotly'], function(Plotly) {\n",
       "            window._Plotly = Plotly;\n",
       "        });\n",
       "        }\n",
       "        </script>\n",
       "        "
      ]
     },
     "metadata": {},
     "output_type": "display_data"
    }
   ],
   "source": [
    "# отключим предупреждения Anaconda\n",
    "import warnings\n",
    "warnings.simplefilter('ignore')\n",
    "\n",
    "# будем отображать графики прямо в jupyter'e\n",
    "%matplotlib inline\n",
    "import seaborn as sns\n",
    "import matplotlib.pyplot as plt\n",
    "#графики в svg выглядят более четкими\n",
    "%config InlineBackend.figure_format = 'svg' \n",
    "\n",
    "#увеличим дефолтный размер графиков\n",
    "from pylab import rcParams\n",
    "rcParams['figure.figsize'] = 8, 5\n",
    "import pandas as pd\n",
    "import numpy as np\n",
    "from plotly.offline import download_plotlyjs, init_notebook_mode, plot, iplot\n",
    "import plotly\n",
    "import plotly.graph_objs as go\n",
    "\n",
    "init_notebook_mode(connected=True)\n",
    "\n",
    "import os"
   ]
  },
  {
   "cell_type": "code",
   "execution_count": 30,
   "metadata": {},
   "outputs": [],
   "source": [
    "folder=\"memr_2_at_14#11#2019_resistance\"\n",
    "memr_num= \"2\""
   ]
  },
  {
   "cell_type": "code",
   "execution_count": 31,
   "metadata": {},
   "outputs": [],
   "source": [
    "try:\n",
    "    os.mkdir(folder)\n",
    "except FileExistsError:\n",
    "    pass"
   ]
  },
  {
   "cell_type": "code",
   "execution_count": 41,
   "metadata": {},
   "outputs": [],
   "source": [
    "steps=[\"-0.2\"]\n",
    "data=pd.DataFrame()\n",
    "start=0\n",
    "for idx,i in enumerate(steps):    \n",
    "    tmp=pd.read_csv(\"{}/memr-2_14#11#2019#18#22#27_resistance.csv\".format(folder),names=[\"s\",\"m\",\"t\"])    \n",
    "    tmp=tmp.rolling(3,win_type=\"gaussian\").mean(std=1)\n",
    "    start+=tmp[\"t\"][tmp.shape[0]-1]    \n",
    "    tmp[\"t\"]+=start\n",
    "    data=data.append(tmp)"
   ]
  },
  {
   "cell_type": "code",
   "execution_count": 42,
   "metadata": {},
   "outputs": [
    {
     "data": {
      "text/plain": [
       "'memr_2_at_14#11#2019_resistance/mem2_curr.html'"
      ]
     },
     "execution_count": 42,
     "metadata": {},
     "output_type": "execute_result"
    }
   ],
   "source": [
    "datas =[go.Scatter(\n",
    "        x=data[\"t\"],\n",
    "        y=data[\"m\"],\n",
    "        name='mem{} curr'.format(memr_num)\n",
    "        )]\n",
    "layout = go.Layout(\n",
    "    title='mem{} curr'.format(memr_num),\n",
    "    xaxis=dict(\n",
    "        title=\"time\",\n",
    "        showgrid=True,\n",
    "        zeroline=True,\n",
    "        showline=True,\n",
    "        mirror='ticks',\n",
    "        gridcolor='#bdbdbd',\n",
    "        gridwidth=2,\n",
    "        zerolinecolor='#969696',\n",
    "        zerolinewidth=4,\n",
    "        linecolor='#636363',\n",
    "        linewidth=6\n",
    "    ),\n",
    "    yaxis=dict(\n",
    "        title=\"AMPS\",\n",
    "        showgrid=True,\n",
    "        zeroline=True,\n",
    "        showline=True,\n",
    "        mirror='ticks',\n",
    "        gridcolor='#bdbdbd',\n",
    "        gridwidth=2,\n",
    "        zerolinecolor='#969696',\n",
    "        zerolinewidth=4,\n",
    "        linecolor='#636363',\n",
    "        linewidth=6\n",
    "    )\n",
    ")\n",
    "\n",
    "# cоздаем объект Figure и визуализируем его\n",
    "fig = go.Figure(data=datas, layout=layout)\n",
    "#iplot(fig, show_link=False)\n",
    "plotly.offline.plot(fig,filename=\"{}/mem{}_curr.html\".format(folder,memr_num),show_link=False)"
   ]
  },
  {
   "cell_type": "code",
   "execution_count": 43,
   "metadata": {},
   "outputs": [],
   "source": [
    "data[\"r\"]=data[\"s\"]/data[\"m\"]"
   ]
  },
  {
   "cell_type": "code",
   "execution_count": 44,
   "metadata": {},
   "outputs": [
    {
     "data": {
      "text/plain": [
       "'memr_2_at_14#11#2019_resistance/mem2_res.html'"
      ]
     },
     "execution_count": 44,
     "metadata": {},
     "output_type": "execute_result"
    }
   ],
   "source": [
    "datas =[go.Scatter(\n",
    "        x=data[\"t\"],\n",
    "        y=data[\"r\"],\n",
    "        name='mem{} resistance'.format(memr_num)\n",
    "        )]\n",
    "layout = go.Layout(\n",
    "    title='mem{} resistance'.format(memr_num),\n",
    "    xaxis=dict(\n",
    "        title=\"time\",\n",
    "        showgrid=True,\n",
    "        zeroline=True,\n",
    "        showline=True,\n",
    "        mirror='ticks',\n",
    "        gridcolor='#bdbdbd',\n",
    "        gridwidth=2,\n",
    "        zerolinecolor='#969696',\n",
    "        zerolinewidth=4,\n",
    "        linecolor='#636363',\n",
    "        linewidth=6\n",
    "    ),\n",
    "    yaxis=dict(\n",
    "        title=\"ohms\",\n",
    "        showgrid=True,\n",
    "        zeroline=True,\n",
    "        showline=True,\n",
    "        mirror='ticks',\n",
    "        gridcolor='#bdbdbd',\n",
    "        gridwidth=2,\n",
    "        zerolinecolor='#969696',\n",
    "        zerolinewidth=4,\n",
    "        linecolor='#636363',\n",
    "        linewidth=6\n",
    "    )\n",
    ")\n",
    "\n",
    "# cоздаем объект Figure и визуализируем его\n",
    "fig = go.Figure(data=datas, layout=layout)\n",
    "#iplot(fig, show_link=False)\n",
    "plotly.offline.plot(fig,filename=\"{}/mem{}_res.html\".format(folder,memr_num),show_link=False)"
   ]
  },
  {
   "cell_type": "code",
   "execution_count": null,
   "metadata": {},
   "outputs": [],
   "source": []
  }
 ],
 "metadata": {
  "kernelspec": {
   "display_name": "Python 3",
   "language": "python",
   "name": "python3"
  },
  "language_info": {
   "codemirror_mode": {
    "name": "ipython",
    "version": 3
   },
   "file_extension": ".py",
   "mimetype": "text/x-python",
   "name": "python",
   "nbconvert_exporter": "python",
   "pygments_lexer": "ipython3",
   "version": "3.7.4"
  }
 },
 "nbformat": 4,
 "nbformat_minor": 2
}

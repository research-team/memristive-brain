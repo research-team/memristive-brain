{
 "cells": [
  {
   "cell_type": "code",
   "execution_count": 277,
   "metadata": {
    "pycharm": {
     "is_executing": false,
     "name": "#%%\n"
    }
   },
   "outputs": [
    {
     "data": {
      "text/html": [
       "        <script type=\"text/javascript\">\n",
       "        window.PlotlyConfig = {MathJaxConfig: 'local'};\n",
       "        if (window.MathJax) {MathJax.Hub.Config({SVG: {font: \"STIX-Web\"}});}\n",
       "        if (typeof require !== 'undefined') {\n",
       "        require.undef(\"plotly\");\n",
       "        requirejs.config({\n",
       "            paths: {\n",
       "                'plotly': ['https://cdn.plot.ly/plotly-latest.min']\n",
       "            }\n",
       "        });\n",
       "        require(['plotly'], function(Plotly) {\n",
       "            window._Plotly = Plotly;\n",
       "        });\n",
       "        }\n",
       "        </script>\n",
       "        "
      ]
     },
     "metadata": {},
     "output_type": "display_data"
    }
   ],
   "source": [
    "# отключим предупреждения Anaconda\n",
    "import warnings\n",
    "warnings.simplefilter('ignore')\n",
    "\n",
    "# будем отображать графики прямо в jupyter'e\n",
    "%matplotlib inline\n",
    "import seaborn as sns\n",
    "import matplotlib.pyplot as plt\n",
    "#графики в svg выглядят более четкими\n",
    "%config InlineBackend.figure_format = 'svg' \n",
    "\n",
    "#увеличим дефолтный размер графиков\n",
    "from pylab import rcParams\n",
    "rcParams['figure.figsize'] = 8, 5\n",
    "import pandas as pd\n",
    "import numpy as np\n",
    "from plotly.offline import download_plotlyjs, init_notebook_mode, plot, iplot\n",
    "import plotly\n",
    "import plotly.graph_objs as go\n",
    "\n",
    "init_notebook_mode(connected=True)"
   ]
  },
  {
   "cell_type": "code",
   "execution_count": 278,
   "metadata": {
    "pycharm": {
     "is_executing": false,
     "name": "#%%\n"
    }
   },
   "outputs": [],
   "source": [
    "plotly.io.orca.config.executable = \"C:\\\\Users\\\\yurra\\\\AppData\\\\Local\\\\Programs\\\\orca\\\\orca.exe\"\n",
    "plotly.io.orca.config.save()"
   ]
  },
  {
   "cell_type": "code",
   "execution_count": 279,
   "metadata": {
    "pycharm": {
     "is_executing": false,
     "name": "#%%\n"
    }
   },
   "outputs": [
    {
     "data": {
      "text/html": [
       "<div>\n",
       "<style scoped>\n",
       "    .dataframe tbody tr th:only-of-type {\n",
       "        vertical-align: middle;\n",
       "    }\n",
       "\n",
       "    .dataframe tbody tr th {\n",
       "        vertical-align: top;\n",
       "    }\n",
       "\n",
       "    .dataframe thead th {\n",
       "        text-align: right;\n",
       "    }\n",
       "</style>\n",
       "<table border=\"1\" class=\"dataframe\">\n",
       "  <thead>\n",
       "    <tr style=\"text-align: right;\">\n",
       "      <th></th>\n",
       "      <th>s</th>\n",
       "      <th>m</th>\n",
       "      <th>t</th>\n",
       "    </tr>\n",
       "  </thead>\n",
       "  <tbody>\n",
       "    <tr>\n",
       "      <th>0</th>\n",
       "      <td>-0.000016</td>\n",
       "      <td>-1.362394e-07</td>\n",
       "      <td>0.000000</td>\n",
       "    </tr>\n",
       "    <tr>\n",
       "      <th>1</th>\n",
       "      <td>-0.000014</td>\n",
       "      <td>-1.290402e-07</td>\n",
       "      <td>0.048123</td>\n",
       "    </tr>\n",
       "    <tr>\n",
       "      <th>2</th>\n",
       "      <td>-0.000017</td>\n",
       "      <td>-1.393755e-07</td>\n",
       "      <td>0.096232</td>\n",
       "    </tr>\n",
       "    <tr>\n",
       "      <th>3</th>\n",
       "      <td>-0.000016</td>\n",
       "      <td>-1.302407e-07</td>\n",
       "      <td>0.144353</td>\n",
       "    </tr>\n",
       "    <tr>\n",
       "      <th>4</th>\n",
       "      <td>-0.000014</td>\n",
       "      <td>-1.354274e-07</td>\n",
       "      <td>0.192497</td>\n",
       "    </tr>\n",
       "  </tbody>\n",
       "</table>\n",
       "</div>"
      ],
      "text/plain": [
       "          s             m         t\n",
       "0 -0.000016 -1.362394e-07  0.000000\n",
       "1 -0.000014 -1.290402e-07  0.048123\n",
       "2 -0.000017 -1.393755e-07  0.096232\n",
       "3 -0.000016 -1.302407e-07  0.144353\n",
       "4 -0.000014 -1.354274e-07  0.192497"
      ]
     },
     "execution_count": 279,
     "metadata": {},
     "output_type": "execute_result"
    }
   ],
   "source": [
    "# folder=\"memr_6_at_08#10#2019\"\n",
    "folder=\"memr_8_at_23#10#2019\"\n",
    "# file=\"08#10#2019#19#42#21_steptime_90\"\n",
    "file=\"memr-8_23#10#2019#13#19#59_steptime_90\"\n",
    "first_level_time=15\n",
    "step_time=90\n",
    "df=pd.read_csv(\"{}/{}.csv\".format(folder,file),names=[\"s\",\"m\",\"t\"])\n",
    "df.head()"
   ]
  },
  {
   "cell_type": "code",
   "execution_count": 280,
   "metadata": {
    "pycharm": {
     "is_executing": false,
     "name": "#%%\n"
    }
   },
   "outputs": [
    {
     "name": "stdout",
     "output_type": "stream",
     "text": [
      "              s             m           t\n",
      "311   -0.000015 -1.191123e-07    14.96357\n",
      "2183   0.100010 -1.163971e-09   104.98400\n",
      "4059   0.199999  8.869738e-08   194.96220\n",
      "5934   0.300004  1.708477e-07   284.98770\n",
      "7806   0.399991  2.542760e-07   374.96780\n",
      "9678   0.500024  3.424140e-07   464.99760\n",
      "11554  0.600006  4.289777e-07   554.96210\n",
      "13428  0.699995  5.048560e-07   644.95580\n",
      "15300  0.800014  5.775557e-07   734.96150\n",
      "17172  0.899999  6.554623e-07   824.98900\n",
      "19048  1.000020  7.049813e-07   914.99440\n",
      "20922  0.900000  5.308062e-07  1004.95800\n",
      "22798  0.800014  4.061618e-07  1094.99400\n",
      "24668  0.699998  3.075193e-07  1184.96000\n",
      "26541  0.600005  2.177056e-07  1274.97800\n",
      "28416  0.500025  1.474655e-07  1364.97800\n",
      "30292  0.399991  9.002743e-08  1454.99900\n",
      "32162  0.300004  2.750803e-08  1544.96600\n",
      "34035  0.200003 -1.848330e-08  1634.95700\n",
      "35911  0.100013 -6.476184e-08  1724.99900\n",
      "37786 -0.000012 -1.099122e-07  1814.96200\n",
      "39657 -0.099981 -1.385313e-07  1904.95500\n",
      "41532 -0.199990 -1.474769e-07  1994.99100\n",
      "43407 -0.299985 -1.151018e-07  2084.99200\n",
      "45277 -0.399986 -8.440547e-08  2174.97500\n",
      "47150 -0.499993 -7.154649e-08  2264.99100\n",
      "49025 -0.599993 -6.364371e-08  2354.99900\n",
      "50900 -0.699990 -5.634502e-08  2444.96600\n",
      "52771 -0.799990 -5.415477e-08  2534.95800\n",
      "54645 -0.899988 -5.398615e-08  2624.97900\n",
      "56520 -0.999994 -4.408303e-08  2714.99300\n",
      "58391 -0.899987 -3.663026e-08  2804.95600\n",
      "60266 -0.799990 -2.952802e-08  2894.95300\n",
      "62139 -0.699991 -2.384677e-08  2984.96600\n",
      "64011 -0.599994 -2.116685e-08  3074.97800\n",
      "65887 -0.499993 -1.650842e-08  3164.95900\n",
      "67762 -0.399988 -1.437329e-08  3254.99000\n",
      "69634 -0.299986 -1.190892e-08  3344.99400\n",
      "71505 -0.199992 -7.771996e-09  3434.98700\n",
      "73380 -0.099981 -5.470793e-09  3524.95500\n",
      "75254  0.000023 -2.641173e-10  3614.98400\n"
     ]
    }
   ],
   "source": [
    "temp_df=pd.DataFrame(columns=[\"s\",\"m\",\"t\"])\n",
    "one_point=pd.DataFrame(columns=[\"s\",\"m\",\"t\"])\n",
    "l = [a * 0.1 for a in range(0, 11)]\n",
    "l += [a * 0.1 for a in range(9, -11,-1)]\n",
    "l += [a * 0.1 for a in range(-9, 1)]\n",
    "\n",
    "for idx,elem in enumerate(l):\n",
    "    temp_df=df[(df['s'] >=elem-0.05) & (df['s'] < elem+0.05)& (df['t'] < (idx*step_time +first_level_time))]    \n",
    "    one_point=one_point.append(temp_df.iloc[-1,:])   \n",
    "print(one_point)\n",
    "# temp_df.head(10)"
   ]
  },
  {
   "cell_type": "code",
   "execution_count": 281,
   "metadata": {},
   "outputs": [
    {
     "data": {
      "text/plain": [
       "3614.984"
      ]
     },
     "execution_count": 281,
     "metadata": {},
     "output_type": "execute_result"
    }
   ],
   "source": [
    "volts = []\n",
    "for i in one_point[\"s\"]:\n",
    "    volts.append(round(i, 1))\n",
    "\n",
    "amp = []\n",
    "for j in one_point[\"m\"]:\n",
    "    amp.append(j)\n",
    "\n",
    "res = []\n",
    "for t in range(0, 41):\n",
    "    x = round(volts[t] / amp[t])\n",
    "    if x < 0:\n",
    "        x *= -1\n",
    "    if x != 0:\n",
    "        res.append(x)\n",
    "        \n",
    "time = []\n",
    "for y in one_point[\"t\"]:\n",
    "    time.append(y)\n",
    "time.pop(0)\n",
    "time.pop(19)\n",
    "time.pop()"
   ]
  },
  {
   "cell_type": "code",
   "execution_count": 282,
   "metadata": {},
   "outputs": [
    {
     "data": {
      "text/plain": [
       "'memr_8_at_23#10#2019/memr-8_23#10#2019#13#19#59_steptime_90_resistance.html'"
      ]
     },
     "execution_count": 282,
     "metadata": {},
     "output_type": "execute_result"
    }
   ],
   "source": [
    "datas =[go.Scatter(\n",
    "        x=time,\n",
    "        y=res,\n",
    "        name='resistance_{}'.format(file)\n",
    "        )]\n",
    "layout = go.Layout(\n",
    "    title='resistance_{}'.format(file),\n",
    "    xaxis=dict(\n",
    "        title=\"time\",\n",
    "        showgrid=True,\n",
    "        zeroline=True,\n",
    "        showline=True,\n",
    "        mirror='ticks',\n",
    "        gridcolor='#bdbdbd',\n",
    "        gridwidth=2,\n",
    "        zerolinecolor='#969696',\n",
    "        zerolinewidth=4,\n",
    "        linecolor='#636363',\n",
    "        linewidth=6\n",
    "    ),\n",
    "    yaxis=dict(\n",
    "        title=\"resistance\",\n",
    "        showgrid=True,\n",
    "        zeroline=True,\n",
    "        showline=True,\n",
    "        mirror='ticks',\n",
    "        gridcolor='#bdbdbd',\n",
    "        gridwidth=2,\n",
    "        zerolinecolor='#969696',\n",
    "        zerolinewidth=4,\n",
    "        linecolor='#636363',\n",
    "        linewidth=6\n",
    "    ),\n",
    "    autosize=False,\n",
    "    width=1920,\n",
    "    height=1080\n",
    ")\n",
    "\n",
    "# cоздаем объект Figure и визуализируем его\n",
    "fig = go.Figure(data=datas, layout=layout)\n",
    "# fig.write_image(\"{}/{}_volt.png\".format(folder,file))\n",
    "#iplot(fig, show_link=False)\n",
    "plotly.offline.plot(fig,filename=\"{}/{}_resistance.html\".format(folder,file),show_link=False, auto_open=False)"
   ]
  },
  {
   "cell_type": "code",
   "execution_count": 283,
   "metadata": {
    "pycharm": {
     "is_executing": false,
     "name": "#%%\n"
    }
   },
   "outputs": [
    {
     "data": {
      "text/plain": [
       "'memr_8_at_23#10#2019/memr-8_23#10#2019#13#19#59_steptime_90_volt.html'"
      ]
     },
     "execution_count": 283,
     "metadata": {},
     "output_type": "execute_result"
    }
   ],
   "source": [
    "datas =[go.Scatter(\n",
    "        x=df[\"t\"],\n",
    "        y=df[\"s\"],\n",
    "        name='volts_{}'.format(file)\n",
    "        )]\n",
    "layout = go.Layout(\n",
    "    title='volts_{}'.format(file),\n",
    "    xaxis=dict(\n",
    "        title=\"time\",\n",
    "        showgrid=True,\n",
    "        zeroline=True,\n",
    "        showline=True,\n",
    "        mirror='ticks',\n",
    "        gridcolor='#bdbdbd',\n",
    "        gridwidth=2,\n",
    "        zerolinecolor='#969696',\n",
    "        zerolinewidth=4,\n",
    "        linecolor='#636363',\n",
    "        linewidth=6\n",
    "    ),\n",
    "    yaxis=dict(\n",
    "        title=\"volts\",\n",
    "        showgrid=True,\n",
    "        zeroline=True,\n",
    "        showline=True,\n",
    "        mirror='ticks',\n",
    "        gridcolor='#bdbdbd',\n",
    "        gridwidth=2,\n",
    "        zerolinecolor='#969696',\n",
    "        zerolinewidth=4,\n",
    "        linecolor='#636363',\n",
    "        linewidth=6\n",
    "    ),\n",
    "    autosize=False,\n",
    "    width=1920,\n",
    "    height=1080\n",
    ")\n",
    "\n",
    "# cоздаем объект Figure и визуализируем его\n",
    "fig = go.Figure(data=datas, layout=layout)\n",
    "# fig.write_image(\"{}/{}_volt.png\".format(folder,file))\n",
    "#iplot(fig, show_link=False)\n",
    "plotly.offline.plot(fig,filename=\"{}/{}_volt.html\".format(folder,file),show_link=False, auto_open=False)"
   ]
  },
  {
   "cell_type": "code",
   "execution_count": 284,
   "metadata": {
    "pycharm": {
     "is_executing": false,
     "name": "#%%\n"
    }
   },
   "outputs": [
    {
     "data": {
      "text/plain": [
       "'memr_8_at_23#10#2019/memr-8_23#10#2019#13#19#59_steptime_90_curr.html'"
      ]
     },
     "execution_count": 284,
     "metadata": {},
     "output_type": "execute_result"
    }
   ],
   "source": [
    "datas =[go.Scatter(\n",
    "        x=df[\"t\"],\n",
    "        y=df[\"m\"],\n",
    "        name='curr_{}'.format(file)\n",
    "        )]\n",
    "layout = go.Layout(\n",
    "    title='curr_{}'.format(file),\n",
    "    xaxis=dict(\n",
    "        title=\"time\",\n",
    "        showgrid=True,\n",
    "        zeroline=True,\n",
    "        showline=True,\n",
    "        mirror='ticks',\n",
    "        gridcolor='#bdbdbd',\n",
    "        gridwidth=2,\n",
    "        zerolinecolor='#969696',\n",
    "        zerolinewidth=4,\n",
    "        linecolor='#636363',\n",
    "        linewidth=6\n",
    "    ),\n",
    "    yaxis=dict(\n",
    "        title=\"curr\",\n",
    "        showgrid=True,\n",
    "        zeroline=True,\n",
    "        showline=True,\n",
    "        mirror='ticks',\n",
    "        gridcolor='#bdbdbd',\n",
    "        gridwidth=2,\n",
    "        zerolinecolor='#969696',\n",
    "        zerolinewidth=4,\n",
    "        linecolor='#636363',\n",
    "        linewidth=6\n",
    "    ),\n",
    "    autosize=False,\n",
    "    width=1920,\n",
    "    height=1080\n",
    ")\n",
    "\n",
    "# cоздаем объект Figure и визуализируем его\n",
    "fig = go.Figure(data=datas, layout=layout)\n",
    "# fig.write_image(\"{}/{}_curr.png\".format(folder,file))\n",
    "#iplot(fig, show_link=False)\n",
    "plotly.offline.plot(fig,filename=\"{}/{}_curr.html\".format(folder,file),show_link=False, auto_open=False)"
   ]
  },
  {
   "cell_type": "code",
   "execution_count": 285,
   "metadata": {
    "pycharm": {
     "is_executing": false,
     "name": "#%%\n"
    }
   },
   "outputs": [
    {
     "data": {
      "text/plain": [
       "'memr_8_at_23#10#2019/memr-8_23#10#2019#13#19#59_steptime_90_hyst.html'"
      ]
     },
     "execution_count": 285,
     "metadata": {},
     "output_type": "execute_result"
    }
   ],
   "source": [
    "t1=step_time*10+first_level_time\n",
    "t2=step_time*20+first_level_time\n",
    "t3=step_time*30+first_level_time\n",
    "s1=step_time*10\n",
    "s2=step_time*20\n",
    "s3=step_time*30\n",
    "datas =[go.Scatter(\n",
    "        x=one_point[\"s\"][one_point[\"t\"]<t1],\n",
    "        y=one_point[\"m\"][one_point[\"t\"]<t1],\n",
    "        name='hyst1'\n",
    "        ),\n",
    "        go.Scatter(\n",
    "        x=one_point[\"s\"][(one_point[\"t\"]>s1)&(one_point[\"t\"]<t2)],\n",
    "        y=one_point[\"m\"][(one_point[\"t\"]>s1)&(one_point[\"t\"]<t2)],\n",
    "        name='hyst2'\n",
    "        ),\n",
    "        go.Scatter(\n",
    "        x=one_point[\"s\"][(one_point[\"t\"]>s2)&(one_point[\"t\"]<t3)],\n",
    "        y=one_point[\"m\"][(one_point[\"t\"]>s2)&(one_point[\"t\"]<t3)],\n",
    "        name='hyst3'\n",
    "        ),\n",
    "        go.Scatter(\n",
    "        x=one_point[\"s\"][one_point[\"t\"]>s3],\n",
    "        y=one_point[\"m\"][one_point[\"t\"]>s3],\n",
    "        name='hyst4'\n",
    "        )]\n",
    "layout = go.Layout(\n",
    "    title='hyst_{}'.format(file),\n",
    "    xaxis=dict(\n",
    "        title=\"volts\",\n",
    "        showgrid=True,\n",
    "        zeroline=True,\n",
    "        showline=True,\n",
    "        mirror='ticks',\n",
    "        gridcolor='#bdbdbd',\n",
    "        gridwidth=2,\n",
    "        zerolinecolor='#969696',\n",
    "        zerolinewidth=4,\n",
    "        linecolor='#636363',\n",
    "        linewidth=6\n",
    "    ),\n",
    "    yaxis=dict(\n",
    "        title=\"amps\",\n",
    "        showgrid=True,\n",
    "        zeroline=True,\n",
    "        showline=True,\n",
    "        mirror='ticks',\n",
    "        gridcolor='#bdbdbd',\n",
    "        gridwidth=2,\n",
    "        zerolinecolor='#969696',\n",
    "        zerolinewidth=4,\n",
    "        linecolor='#636363',\n",
    "        linewidth=6\n",
    "    ),\n",
    "    autosize=False,\n",
    "    width=1920,\n",
    "    height=1080\n",
    ")\n",
    "\n",
    "# cоздаем объект Figure и визуализируем его\n",
    "fig = go.Figure(data=datas, layout=layout)\n",
    "# fig.write_image(\"{}/{}_hyst.png\".format(folder,file))\n",
    "#iplot(fig, show_link=False)\n",
    "plotly.offline.plot(fig,filename=\"{}/{}_hyst.html\".format(folder,file),show_link=False, auto_open=False)"
   ]
  },
  {
   "cell_type": "code",
   "execution_count": null,
   "metadata": {},
   "outputs": [],
   "source": []
  }
 ],
 "metadata": {
  "kernelspec": {
   "display_name": "Python 3",
   "language": "python",
   "name": "python3"
  },
  "language_info": {
   "codemirror_mode": {
    "name": "ipython",
    "version": 3
   },
   "file_extension": ".py",
   "mimetype": "text/x-python",
   "name": "python",
   "nbconvert_exporter": "python",
   "pygments_lexer": "ipython3",
   "version": "3.7.3"
  },
  "pycharm": {
   "stem_cell": {
    "cell_type": "raw",
    "metadata": {
     "collapsed": false
    },
    "source": []
   }
  }
 },
 "nbformat": 4,
 "nbformat_minor": 1
}

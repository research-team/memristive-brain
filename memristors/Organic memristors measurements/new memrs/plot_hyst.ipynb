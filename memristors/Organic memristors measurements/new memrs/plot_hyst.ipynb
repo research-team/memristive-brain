{
 "cells": [
  {
   "cell_type": "code",
   "execution_count": 99,
   "outputs": [
    {
     "data": {
      "text/html": "        <script type=\"text/javascript\">\n        window.PlotlyConfig = {MathJaxConfig: 'local'};\n        if (window.MathJax) {MathJax.Hub.Config({SVG: {font: \"STIX-Web\"}});}\n        if (typeof require !== 'undefined') {\n        require.undef(\"plotly\");\n        requirejs.config({\n            paths: {\n                'plotly': ['https://cdn.plot.ly/plotly-latest.min']\n            }\n        });\n        require(['plotly'], function(Plotly) {\n            window._Plotly = Plotly;\n        });\n        }\n        </script>\n        "
     },
     "metadata": {},
     "output_type": "display_data"
    }
   ],
   "source": [
    "# отключим предупреждения Anaconda\n",
    "import warnings\n",
    "warnings.simplefilter('ignore')\n",
    "\n",
    "# будем отображать графики прямо в jupyter'e\n",
    "%matplotlib inline\n",
    "import seaborn as sns\n",
    "import matplotlib.pyplot as plt\n",
    "#графики в svg выглядят более четкими\n",
    "%config InlineBackend.figure_format = 'svg' \n",
    "\n",
    "#увеличим дефолтный размер графиков\n",
    "from pylab import rcParams\n",
    "rcParams['figure.figsize'] = 8, 5\n",
    "import pandas as pd\n",
    "import numpy as np\n",
    "from plotly.offline import download_plotlyjs, init_notebook_mode, plot, iplot\n",
    "import plotly\n",
    "import plotly.graph_objs as go\n",
    "\n",
    "init_notebook_mode(connected=True)"
   ],
   "metadata": {
    "collapsed": false,
    "pycharm": {
     "name": "#%%\n",
     "is_executing": false
    }
   }
  },
  {
   "cell_type": "code",
   "execution_count": 100,
   "outputs": [],
   "source": [
    "plotly.io.orca.config.executable = \"C:\\\\Users\\\\yurra\\\\AppData\\\\Local\\\\Programs\\\\orca\\\\orca.exe\"\n",
    "plotly.io.orca.config.save()"
   ],
   "metadata": {
    "collapsed": false,
    "pycharm": {
     "name": "#%%\n",
     "is_executing": false
    }
   }
  },
  {
   "cell_type": "code",
   "execution_count": 101,
   "outputs": [
    {
     "data": {
      "text/plain": "          s             m         t\n0  0.000015  1.264816e-08  0.000000\n1  0.000015  1.722037e-08  0.048093\n2  0.000015  1.189892e-08  0.096180\n3  0.000016  1.479111e-08  0.144259\n4  0.000011  1.344124e-08  0.192328",
      "text/html": "<div>\n<style scoped>\n    .dataframe tbody tr th:only-of-type {\n        vertical-align: middle;\n    }\n\n    .dataframe tbody tr th {\n        vertical-align: top;\n    }\n\n    .dataframe thead th {\n        text-align: right;\n    }\n</style>\n<table border=\"1\" class=\"dataframe\">\n  <thead>\n    <tr style=\"text-align: right;\">\n      <th></th>\n      <th>s</th>\n      <th>m</th>\n      <th>t</th>\n    </tr>\n  </thead>\n  <tbody>\n    <tr>\n      <th>0</th>\n      <td>0.000015</td>\n      <td>1.264816e-08</td>\n      <td>0.000000</td>\n    </tr>\n    <tr>\n      <th>1</th>\n      <td>0.000015</td>\n      <td>1.722037e-08</td>\n      <td>0.048093</td>\n    </tr>\n    <tr>\n      <th>2</th>\n      <td>0.000015</td>\n      <td>1.189892e-08</td>\n      <td>0.096180</td>\n    </tr>\n    <tr>\n      <th>3</th>\n      <td>0.000016</td>\n      <td>1.479111e-08</td>\n      <td>0.144259</td>\n    </tr>\n    <tr>\n      <th>4</th>\n      <td>0.000011</td>\n      <td>1.344124e-08</td>\n      <td>0.192328</td>\n    </tr>\n  </tbody>\n</table>\n</div>"
     },
     "metadata": {},
     "output_type": "execute_result",
     "execution_count": 101
    }
   ],
   "source": [
    "# folder=\"memr_6_at_08#10#2019\"\n",
    "folder=\"memr_number_6_at_08#10#2019\"\n",
    "# file=\"08#10#2019#19#42#21_steptime_90\"\n",
    "file=\"08#10#2019#17#21#37_steptime_60\"\n",
    "first_level_time=15\n",
    "step_time=60\n",
    "df=pd.read_csv(\"{}/{}.csv\".format(folder,file),names=[\"s\",\"m\",\"t\"])\n",
    "df.head()"
   ],
   "metadata": {
    "collapsed": false,
    "pycharm": {
     "name": "#%%\n",
     "is_executing": false
    }
   }
  },
  {
   "cell_type": "code",
   "execution_count": 102,
   "outputs": [
    {
     "name": "stdout",
     "text": [
      "              s             m           t\n297    0.000015 -1.212538e-09    14.28083\n1547   0.100011  4.250996e-08    74.30926\n2798   0.200001  9.410887e-08   134.35710\n4047   0.300006  1.396646e-07   194.36840\n5295   0.399995  2.034862e-07   254.41170\n6544   0.500020  2.598101e-07   314.44270\n7795   0.600007  3.264444e-07   374.49300\n9044   0.699999  4.065547e-07   434.52750\n10292  0.800017  4.896712e-07   494.55990\n11544  0.900001  5.810425e-07   554.60390\n12794  1.000022  6.897968e-07   614.60650\n14046  0.900002  6.155468e-07   674.64740\n15294  0.800020  5.400208e-07   734.68020\n16543  0.700000  4.701098e-07   794.70740\n17794  0.600009  3.886760e-07   854.75700\n19042  0.500024  3.047013e-07   914.77130\n20290  0.399996  2.291041e-07   974.81310\n21539  0.300005  1.442708e-07  1034.82300\n22790  0.200002  6.762657e-08  1094.86800\n24039  0.100014  4.617505e-09  1154.90500\n25287 -0.000011 -5.283673e-08  1214.94300\n26537 -0.099986 -1.063980e-07  1274.97700\n27788 -0.199993 -1.506838e-07  1334.99800\n29034 -0.299988 -1.917639e-07  1394.96900\n30282 -0.399991 -2.290621e-07  1454.96300\n31532 -0.499995 -2.643214e-07  1514.98000\n32783 -0.599993 -3.016128e-07  1574.97400\n34030 -0.699991 -3.342851e-07  1634.96700\n35279 -0.799988 -3.570147e-07  1694.98100\n36529 -0.899983 -3.428344e-07  1754.96800\n37776 -0.999989 -2.814322e-07  1814.95500\n39027 -0.899981 -1.993361e-07  1874.99200\n40275 -0.799985 -1.573437e-07  1934.95600\n41523 -0.699985 -1.399050e-07  1994.99500\n42774 -0.599991 -1.257495e-07  2054.98700\n44023 -0.499993 -1.107228e-07  2114.95400\n45272 -0.399988 -9.828746e-08  2174.99100\n46518 -0.299990 -7.791660e-08  2234.96000\n47769 -0.199997 -5.802140e-08  2294.98600\n49018 -0.099991 -3.107980e-08  2354.97800\n50266  0.000008  2.230081e-10  2414.99600\n"
     ],
     "output_type": "stream"
    }
   ],
   "source": [
    "temp_df=pd.DataFrame(columns=[\"s\",\"m\",\"t\"])\n",
    "one_point=pd.DataFrame(columns=[\"s\",\"m\",\"t\"])\n",
    "l = [a * 0.1 for a in range(0, 11)]\n",
    "l += [a * 0.1 for a in range(9, -11,-1)]\n",
    "l += [a * 0.1 for a in range(-9, 1)]\n",
    "\n",
    "for idx,elem in enumerate(l):\n",
    "    temp_df=df[(df['s'] >=elem-0.05) & (df['s'] < elem+0.05)& (df['t'] < (idx*step_time +first_level_time))]    \n",
    "    one_point=one_point.append(temp_df.iloc[-1,:])   \n",
    "print(one_point)\n",
    "# temp_df.head(10)"
   ],
   "metadata": {
    "collapsed": false,
    "pycharm": {
     "name": "#%%\n",
     "is_executing": false
    }
   }
  },
  {
   "cell_type": "code",
   "execution_count": 103,
   "outputs": [
    {
     "data": {
      "text/plain": "'memr_number_6_at_08#10#2019/08#10#2019#17#21#37_steptime_60_volt.html'"
     },
     "metadata": {},
     "output_type": "execute_result",
     "execution_count": 103
    }
   ],
   "source": [
    "datas =[go.Scatter(\n",
    "        x=df[\"t\"],\n",
    "        y=df[\"s\"],\n",
    "        name='volts_{}'.format(file)\n",
    "        )]\n",
    "layout = go.Layout(\n",
    "    title='volts_{}'.format(file),\n",
    "    xaxis=dict(\n",
    "        title=\"time\",\n",
    "        showgrid=True,\n",
    "        zeroline=True,\n",
    "        showline=True,\n",
    "        mirror='ticks',\n",
    "        gridcolor='#bdbdbd',\n",
    "        gridwidth=2,\n",
    "        zerolinecolor='#969696',\n",
    "        zerolinewidth=4,\n",
    "        linecolor='#636363',\n",
    "        linewidth=6\n",
    "    ),\n",
    "    yaxis=dict(\n",
    "        title=\"volts\",\n",
    "        showgrid=True,\n",
    "        zeroline=True,\n",
    "        showline=True,\n",
    "        mirror='ticks',\n",
    "        gridcolor='#bdbdbd',\n",
    "        gridwidth=2,\n",
    "        zerolinecolor='#969696',\n",
    "        zerolinewidth=4,\n",
    "        linecolor='#636363',\n",
    "        linewidth=6\n",
    "    ),\n",
    "    autosize=False,\n",
    "    width=1920,\n",
    "    height=1080\n",
    ")\n",
    "\n",
    "# cоздаем объект Figure и визуализируем его\n",
    "fig = go.Figure(data=datas, layout=layout)\n",
    "fig.write_image(\"{}/{}_volt.png\".format(folder,file))\n",
    "#iplot(fig, show_link=False)\n",
    "plotly.offline.plot(fig,filename=\"{}/{}_volt.html\".format(folder,file),show_link=False, auto_open=False)"
   ],
   "metadata": {
    "collapsed": false,
    "pycharm": {
     "name": "#%%\n",
     "is_executing": false
    }
   }
  },
  {
   "cell_type": "code",
   "execution_count": 104,
   "outputs": [
    {
     "data": {
      "text/plain": "'memr_number_6_at_08#10#2019/08#10#2019#17#21#37_steptime_60_curr.html'"
     },
     "metadata": {},
     "output_type": "execute_result",
     "execution_count": 104
    }
   ],
   "source": [
    "datas =[go.Scatter(\n",
    "        x=df[\"t\"],\n",
    "        y=df[\"m\"],\n",
    "        name='curr_{}'.format(file)\n",
    "        )]\n",
    "layout = go.Layout(\n",
    "    title='curr_{}'.format(file),\n",
    "    xaxis=dict(\n",
    "        title=\"time\",\n",
    "        showgrid=True,\n",
    "        zeroline=True,\n",
    "        showline=True,\n",
    "        mirror='ticks',\n",
    "        gridcolor='#bdbdbd',\n",
    "        gridwidth=2,\n",
    "        zerolinecolor='#969696',\n",
    "        zerolinewidth=4,\n",
    "        linecolor='#636363',\n",
    "        linewidth=6\n",
    "    ),\n",
    "    yaxis=dict(\n",
    "        title=\"curr\",\n",
    "        showgrid=True,\n",
    "        zeroline=True,\n",
    "        showline=True,\n",
    "        mirror='ticks',\n",
    "        gridcolor='#bdbdbd',\n",
    "        gridwidth=2,\n",
    "        zerolinecolor='#969696',\n",
    "        zerolinewidth=4,\n",
    "        linecolor='#636363',\n",
    "        linewidth=6\n",
    "    ),\n",
    "    autosize=False,\n",
    "    width=1920,\n",
    "    height=1080\n",
    ")\n",
    "\n",
    "# cоздаем объект Figure и визуализируем его\n",
    "fig = go.Figure(data=datas, layout=layout)\n",
    "fig.write_image(\"{}/{}_curr.png\".format(folder,file))\n",
    "#iplot(fig, show_link=False)\n",
    "plotly.offline.plot(fig,filename=\"{}/{}_curr.html\".format(folder,file),show_link=False, auto_open=False)"
   ],
   "metadata": {
    "collapsed": false,
    "pycharm": {
     "name": "#%%\n",
     "is_executing": false
    }
   }
  },
  {
   "cell_type": "code",
   "execution_count": 105,
   "outputs": [
    {
     "data": {
      "text/plain": "'memr_number_6_at_08#10#2019/08#10#2019#17#21#37_steptime_60_hyst.html'"
     },
     "metadata": {},
     "output_type": "execute_result",
     "execution_count": 105
    }
   ],
   "source": [
    "t1=step_time*10+first_level_time\n",
    "t2=step_time*20+first_level_time\n",
    "t3=step_time*30+first_level_time\n",
    "s1=step_time*10\n",
    "s2=step_time*20\n",
    "s3=step_time*30\n",
    "datas =[go.Scatter(\n",
    "        x=one_point[\"s\"][one_point[\"t\"]<t1],\n",
    "        y=one_point[\"m\"][one_point[\"t\"]<t1],\n",
    "        name='hyst1'\n",
    "        ),\n",
    "        go.Scatter(\n",
    "        x=one_point[\"s\"][(one_point[\"t\"]>s1)&(one_point[\"t\"]<t2)],\n",
    "        y=one_point[\"m\"][(one_point[\"t\"]>s1)&(one_point[\"t\"]<t2)],\n",
    "        name='hyst2'\n",
    "        ),\n",
    "        go.Scatter(\n",
    "        x=one_point[\"s\"][(one_point[\"t\"]>s2)&(one_point[\"t\"]<t3)],\n",
    "        y=one_point[\"m\"][(one_point[\"t\"]>s2)&(one_point[\"t\"]<t3)],\n",
    "        name='hyst3'\n",
    "        ),\n",
    "        go.Scatter(\n",
    "        x=one_point[\"s\"][one_point[\"t\"]>s3],\n",
    "        y=one_point[\"m\"][one_point[\"t\"]>s3],\n",
    "        name='hyst4'\n",
    "        )]\n",
    "layout = go.Layout(\n",
    "    title='hyst_{}'.format(file),\n",
    "    xaxis=dict(\n",
    "        title=\"volts\",\n",
    "        showgrid=True,\n",
    "        zeroline=True,\n",
    "        showline=True,\n",
    "        mirror='ticks',\n",
    "        gridcolor='#bdbdbd',\n",
    "        gridwidth=2,\n",
    "        zerolinecolor='#969696',\n",
    "        zerolinewidth=4,\n",
    "        linecolor='#636363',\n",
    "        linewidth=6\n",
    "    ),\n",
    "    yaxis=dict(\n",
    "        title=\"amps\",\n",
    "        showgrid=True,\n",
    "        zeroline=True,\n",
    "        showline=True,\n",
    "        mirror='ticks',\n",
    "        gridcolor='#bdbdbd',\n",
    "        gridwidth=2,\n",
    "        zerolinecolor='#969696',\n",
    "        zerolinewidth=4,\n",
    "        linecolor='#636363',\n",
    "        linewidth=6\n",
    "    ),\n",
    "    autosize=False,\n",
    "    width=1920,\n",
    "    height=1080\n",
    ")\n",
    "\n",
    "# cоздаем объект Figure и визуализируем его\n",
    "fig = go.Figure(data=datas, layout=layout)\n",
    "fig.write_image(\"{}/{}_hyst.png\".format(folder,file))\n",
    "#iplot(fig, show_link=False)\n",
    "plotly.offline.plot(fig,filename=\"{}/{}_hyst.html\".format(folder,file),show_link=False, auto_open=False)"
   ],
   "metadata": {
    "collapsed": false,
    "pycharm": {
     "name": "#%%\n",
     "is_executing": false
    }
   }
  }
 ],
 "metadata": {
  "kernelspec": {
   "display_name": "Python 3",
   "language": "python",
   "name": "python3"
  },
  "language_info": {
   "codemirror_mode": {
    "name": "ipython",
    "version": 2
   },
   "file_extension": ".py",
   "mimetype": "text/x-python",
   "name": "python",
   "nbconvert_exporter": "python",
   "pygments_lexer": "ipython2",
   "version": "2.7.6"
  },
  "pycharm": {
   "stem_cell": {
    "cell_type": "raw",
    "source": [],
    "metadata": {
     "collapsed": false
    }
   }
  }
 },
 "nbformat": 4,
 "nbformat_minor": 0
}
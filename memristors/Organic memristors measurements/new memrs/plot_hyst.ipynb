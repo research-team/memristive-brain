{
 "cells": [
  {
   "cell_type": "code",
   "execution_count": 255,
   "metadata": {
    "pycharm": {
     "is_executing": false,
     "name": "#%%\n"
    }
   },
   "outputs": [
    {
     "data": {
      "text/html": [
       "        <script type=\"text/javascript\">\n",
       "        window.PlotlyConfig = {MathJaxConfig: 'local'};\n",
       "        if (window.MathJax) {MathJax.Hub.Config({SVG: {font: \"STIX-Web\"}});}\n",
       "        if (typeof require !== 'undefined') {\n",
       "        require.undef(\"plotly\");\n",
       "        requirejs.config({\n",
       "            paths: {\n",
       "                'plotly': ['https://cdn.plot.ly/plotly-latest.min']\n",
       "            }\n",
       "        });\n",
       "        require(['plotly'], function(Plotly) {\n",
       "            window._Plotly = Plotly;\n",
       "        });\n",
       "        }\n",
       "        </script>\n",
       "        "
      ]
     },
     "metadata": {},
     "output_type": "display_data"
    }
   ],
   "source": [
    "# отключим предупреждения Anaconda\n",
    "import warnings\n",
    "warnings.simplefilter('ignore')\n",
    "\n",
    "# будем отображать графики прямо в jupyter'e\n",
    "%matplotlib inline\n",
    "import seaborn as sns\n",
    "import matplotlib.pyplot as plt\n",
    "#графики в svg выглядят более четкими\n",
    "%config InlineBackend.figure_format = 'svg' \n",
    "\n",
    "#увеличим дефолтный размер графиков\n",
    "from pylab import rcParams\n",
    "rcParams['figure.figsize'] = 8, 5\n",
    "import pandas as pd\n",
    "import numpy as np\n",
    "from plotly.offline import download_plotlyjs, init_notebook_mode, plot, iplot\n",
    "import plotly\n",
    "import plotly.graph_objs as go\n",
    "\n",
    "init_notebook_mode(connected=True)"
   ]
  },
  {
   "cell_type": "code",
   "execution_count": 256,
   "metadata": {
    "pycharm": {
     "is_executing": false,
     "name": "#%%\n"
    }
   },
   "outputs": [],
   "source": [
    "plotly.io.orca.config.executable = \"C:\\\\Users\\\\yurra\\\\AppData\\\\Local\\\\Programs\\\\orca\\\\orca.exe\"\n",
    "plotly.io.orca.config.save()"
   ]
  },
  {
   "cell_type": "code",
   "execution_count": 257,
   "metadata": {
    "pycharm": {
     "is_executing": false,
     "name": "#%%\n"
    }
   },
   "outputs": [
    {
     "data": {
      "text/html": [
       "<div>\n",
       "<style scoped>\n",
       "    .dataframe tbody tr th:only-of-type {\n",
       "        vertical-align: middle;\n",
       "    }\n",
       "\n",
       "    .dataframe tbody tr th {\n",
       "        vertical-align: top;\n",
       "    }\n",
       "\n",
       "    .dataframe thead th {\n",
       "        text-align: right;\n",
       "    }\n",
       "</style>\n",
       "<table border=\"1\" class=\"dataframe\">\n",
       "  <thead>\n",
       "    <tr style=\"text-align: right;\">\n",
       "      <th></th>\n",
       "      <th>s</th>\n",
       "      <th>m</th>\n",
       "      <th>t</th>\n",
       "    </tr>\n",
       "  </thead>\n",
       "  <tbody>\n",
       "    <tr>\n",
       "      <th>0</th>\n",
       "      <td>-0.199996</td>\n",
       "      <td>-3.263589e-07</td>\n",
       "      <td>0.000000</td>\n",
       "    </tr>\n",
       "    <tr>\n",
       "      <th>1</th>\n",
       "      <td>-0.199991</td>\n",
       "      <td>-3.038735e-07</td>\n",
       "      <td>0.047988</td>\n",
       "    </tr>\n",
       "    <tr>\n",
       "      <th>2</th>\n",
       "      <td>-0.199996</td>\n",
       "      <td>-3.143832e-07</td>\n",
       "      <td>0.095966</td>\n",
       "    </tr>\n",
       "    <tr>\n",
       "      <th>3</th>\n",
       "      <td>-0.199993</td>\n",
       "      <td>-2.889643e-07</td>\n",
       "      <td>0.143955</td>\n",
       "    </tr>\n",
       "    <tr>\n",
       "      <th>4</th>\n",
       "      <td>-0.199992</td>\n",
       "      <td>-2.970117e-07</td>\n",
       "      <td>0.191897</td>\n",
       "    </tr>\n",
       "  </tbody>\n",
       "</table>\n",
       "</div>"
      ],
      "text/plain": [
       "          s             m         t\n",
       "0 -0.199996 -3.263589e-07  0.000000\n",
       "1 -0.199991 -3.038735e-07  0.047988\n",
       "2 -0.199996 -3.143832e-07  0.095966\n",
       "3 -0.199993 -2.889643e-07  0.143955\n",
       "4 -0.199992 -2.970117e-07  0.191897"
      ]
     },
     "execution_count": 257,
     "metadata": {},
     "output_type": "execute_result"
    }
   ],
   "source": [
    "# folder=\"memr_6_at_08#10#2019\"\n",
    "folder=\"memr_9_at_21#10#2019\"\n",
    "# file=\"08#10#2019#19#42#21_steptime_90\"\n",
    "file=\"memr-9_21#10#2019#20#53#30_steptime_900\"\n",
    "first_level_time=15\n",
    "step_time=90\n",
    "df=pd.read_csv(\"{}/{}.csv\".format(folder,file),names=[\"s\",\"m\",\"t\"])\n",
    "df.head()"
   ]
  },
  {
   "cell_type": "code",
   "execution_count": 258,
   "metadata": {
    "pycharm": {
     "is_executing": false,
     "name": "#%%\n"
    }
   },
   "outputs": [
    {
     "ename": "IndexError",
     "evalue": "single positional indexer is out-of-bounds",
     "output_type": "error",
     "traceback": [
      "\u001b[0;31m---------------------------------------------------------------------------\u001b[0m",
      "\u001b[0;31mIndexError\u001b[0m                                Traceback (most recent call last)",
      "\u001b[0;32m<ipython-input-258-9f15eaf17534>\u001b[0m in \u001b[0;36m<module>\u001b[0;34m\u001b[0m\n\u001b[1;32m      7\u001b[0m \u001b[0;32mfor\u001b[0m \u001b[0midx\u001b[0m\u001b[0;34m,\u001b[0m\u001b[0melem\u001b[0m \u001b[0;32min\u001b[0m \u001b[0menumerate\u001b[0m\u001b[0;34m(\u001b[0m\u001b[0ml\u001b[0m\u001b[0;34m)\u001b[0m\u001b[0;34m:\u001b[0m\u001b[0;34m\u001b[0m\u001b[0;34m\u001b[0m\u001b[0m\n\u001b[1;32m      8\u001b[0m     \u001b[0mtemp_df\u001b[0m\u001b[0;34m=\u001b[0m\u001b[0mdf\u001b[0m\u001b[0;34m[\u001b[0m\u001b[0;34m(\u001b[0m\u001b[0mdf\u001b[0m\u001b[0;34m[\u001b[0m\u001b[0;34m's'\u001b[0m\u001b[0;34m]\u001b[0m \u001b[0;34m>=\u001b[0m\u001b[0melem\u001b[0m\u001b[0;34m-\u001b[0m\u001b[0;36m0.05\u001b[0m\u001b[0;34m)\u001b[0m \u001b[0;34m&\u001b[0m \u001b[0;34m(\u001b[0m\u001b[0mdf\u001b[0m\u001b[0;34m[\u001b[0m\u001b[0;34m's'\u001b[0m\u001b[0;34m]\u001b[0m \u001b[0;34m<\u001b[0m \u001b[0melem\u001b[0m\u001b[0;34m+\u001b[0m\u001b[0;36m0.05\u001b[0m\u001b[0;34m)\u001b[0m\u001b[0;34m&\u001b[0m \u001b[0;34m(\u001b[0m\u001b[0mdf\u001b[0m\u001b[0;34m[\u001b[0m\u001b[0;34m't'\u001b[0m\u001b[0;34m]\u001b[0m \u001b[0;34m<\u001b[0m \u001b[0;34m(\u001b[0m\u001b[0midx\u001b[0m\u001b[0;34m*\u001b[0m\u001b[0mstep_time\u001b[0m \u001b[0;34m+\u001b[0m\u001b[0mfirst_level_time\u001b[0m\u001b[0;34m)\u001b[0m\u001b[0;34m)\u001b[0m\u001b[0;34m]\u001b[0m\u001b[0;34m\u001b[0m\u001b[0;34m\u001b[0m\u001b[0m\n\u001b[0;32m----> 9\u001b[0;31m     \u001b[0mone_point\u001b[0m\u001b[0;34m=\u001b[0m\u001b[0mone_point\u001b[0m\u001b[0;34m.\u001b[0m\u001b[0mappend\u001b[0m\u001b[0;34m(\u001b[0m\u001b[0mtemp_df\u001b[0m\u001b[0;34m.\u001b[0m\u001b[0miloc\u001b[0m\u001b[0;34m[\u001b[0m\u001b[0;34m-\u001b[0m\u001b[0;36m1\u001b[0m\u001b[0;34m,\u001b[0m\u001b[0;34m:\u001b[0m\u001b[0;34m]\u001b[0m\u001b[0;34m)\u001b[0m\u001b[0;34m\u001b[0m\u001b[0;34m\u001b[0m\u001b[0m\n\u001b[0m\u001b[1;32m     10\u001b[0m \u001b[0mprint\u001b[0m\u001b[0;34m(\u001b[0m\u001b[0mone_point\u001b[0m\u001b[0;34m)\u001b[0m\u001b[0;34m\u001b[0m\u001b[0;34m\u001b[0m\u001b[0m\n\u001b[1;32m     11\u001b[0m \u001b[0;31m# temp_df.head(10)\u001b[0m\u001b[0;34m\u001b[0m\u001b[0;34m\u001b[0m\u001b[0;34m\u001b[0m\u001b[0m\n",
      "\u001b[0;32m/home/yura/anaconda3/lib/python3.7/site-packages/pandas/core/indexing.py\u001b[0m in \u001b[0;36m__getitem__\u001b[0;34m(self, key)\u001b[0m\n\u001b[1;32m   1492\u001b[0m             \u001b[0;32mexcept\u001b[0m \u001b[0;34m(\u001b[0m\u001b[0mKeyError\u001b[0m\u001b[0;34m,\u001b[0m \u001b[0mIndexError\u001b[0m\u001b[0;34m,\u001b[0m \u001b[0mAttributeError\u001b[0m\u001b[0;34m)\u001b[0m\u001b[0;34m:\u001b[0m\u001b[0;34m\u001b[0m\u001b[0;34m\u001b[0m\u001b[0m\n\u001b[1;32m   1493\u001b[0m                 \u001b[0;32mpass\u001b[0m\u001b[0;34m\u001b[0m\u001b[0;34m\u001b[0m\u001b[0m\n\u001b[0;32m-> 1494\u001b[0;31m             \u001b[0;32mreturn\u001b[0m \u001b[0mself\u001b[0m\u001b[0;34m.\u001b[0m\u001b[0m_getitem_tuple\u001b[0m\u001b[0;34m(\u001b[0m\u001b[0mkey\u001b[0m\u001b[0;34m)\u001b[0m\u001b[0;34m\u001b[0m\u001b[0;34m\u001b[0m\u001b[0m\n\u001b[0m\u001b[1;32m   1495\u001b[0m         \u001b[0;32melse\u001b[0m\u001b[0;34m:\u001b[0m\u001b[0;34m\u001b[0m\u001b[0;34m\u001b[0m\u001b[0m\n\u001b[1;32m   1496\u001b[0m             \u001b[0;31m# we by definition only have the 0th axis\u001b[0m\u001b[0;34m\u001b[0m\u001b[0;34m\u001b[0m\u001b[0;34m\u001b[0m\u001b[0m\n",
      "\u001b[0;32m/home/yura/anaconda3/lib/python3.7/site-packages/pandas/core/indexing.py\u001b[0m in \u001b[0;36m_getitem_tuple\u001b[0;34m(self, tup)\u001b[0m\n\u001b[1;32m   2141\u001b[0m     \u001b[0;32mdef\u001b[0m \u001b[0m_getitem_tuple\u001b[0m\u001b[0;34m(\u001b[0m\u001b[0mself\u001b[0m\u001b[0;34m,\u001b[0m \u001b[0mtup\u001b[0m\u001b[0;34m)\u001b[0m\u001b[0;34m:\u001b[0m\u001b[0;34m\u001b[0m\u001b[0;34m\u001b[0m\u001b[0m\n\u001b[1;32m   2142\u001b[0m \u001b[0;34m\u001b[0m\u001b[0m\n\u001b[0;32m-> 2143\u001b[0;31m         \u001b[0mself\u001b[0m\u001b[0;34m.\u001b[0m\u001b[0m_has_valid_tuple\u001b[0m\u001b[0;34m(\u001b[0m\u001b[0mtup\u001b[0m\u001b[0;34m)\u001b[0m\u001b[0;34m\u001b[0m\u001b[0;34m\u001b[0m\u001b[0m\n\u001b[0m\u001b[1;32m   2144\u001b[0m         \u001b[0;32mtry\u001b[0m\u001b[0;34m:\u001b[0m\u001b[0;34m\u001b[0m\u001b[0;34m\u001b[0m\u001b[0m\n\u001b[1;32m   2145\u001b[0m             \u001b[0;32mreturn\u001b[0m \u001b[0mself\u001b[0m\u001b[0;34m.\u001b[0m\u001b[0m_getitem_lowerdim\u001b[0m\u001b[0;34m(\u001b[0m\u001b[0mtup\u001b[0m\u001b[0;34m)\u001b[0m\u001b[0;34m\u001b[0m\u001b[0;34m\u001b[0m\u001b[0m\n",
      "\u001b[0;32m/home/yura/anaconda3/lib/python3.7/site-packages/pandas/core/indexing.py\u001b[0m in \u001b[0;36m_has_valid_tuple\u001b[0;34m(self, key)\u001b[0m\n\u001b[1;32m    221\u001b[0m                 \u001b[0;32mraise\u001b[0m \u001b[0mIndexingError\u001b[0m\u001b[0;34m(\u001b[0m\u001b[0;34m'Too many indexers'\u001b[0m\u001b[0;34m)\u001b[0m\u001b[0;34m\u001b[0m\u001b[0;34m\u001b[0m\u001b[0m\n\u001b[1;32m    222\u001b[0m             \u001b[0;32mtry\u001b[0m\u001b[0;34m:\u001b[0m\u001b[0;34m\u001b[0m\u001b[0;34m\u001b[0m\u001b[0m\n\u001b[0;32m--> 223\u001b[0;31m                 \u001b[0mself\u001b[0m\u001b[0;34m.\u001b[0m\u001b[0m_validate_key\u001b[0m\u001b[0;34m(\u001b[0m\u001b[0mk\u001b[0m\u001b[0;34m,\u001b[0m \u001b[0mi\u001b[0m\u001b[0;34m)\u001b[0m\u001b[0;34m\u001b[0m\u001b[0;34m\u001b[0m\u001b[0m\n\u001b[0m\u001b[1;32m    224\u001b[0m             \u001b[0;32mexcept\u001b[0m \u001b[0mValueError\u001b[0m\u001b[0;34m:\u001b[0m\u001b[0;34m\u001b[0m\u001b[0;34m\u001b[0m\u001b[0m\n\u001b[1;32m    225\u001b[0m                 raise ValueError(\"Location based indexing can only have \"\n",
      "\u001b[0;32m/home/yura/anaconda3/lib/python3.7/site-packages/pandas/core/indexing.py\u001b[0m in \u001b[0;36m_validate_key\u001b[0;34m(self, key, axis)\u001b[0m\n\u001b[1;32m   2068\u001b[0m             \u001b[0;32mreturn\u001b[0m\u001b[0;34m\u001b[0m\u001b[0;34m\u001b[0m\u001b[0m\n\u001b[1;32m   2069\u001b[0m         \u001b[0;32melif\u001b[0m \u001b[0mis_integer\u001b[0m\u001b[0;34m(\u001b[0m\u001b[0mkey\u001b[0m\u001b[0;34m)\u001b[0m\u001b[0;34m:\u001b[0m\u001b[0;34m\u001b[0m\u001b[0;34m\u001b[0m\u001b[0m\n\u001b[0;32m-> 2070\u001b[0;31m             \u001b[0mself\u001b[0m\u001b[0;34m.\u001b[0m\u001b[0m_validate_integer\u001b[0m\u001b[0;34m(\u001b[0m\u001b[0mkey\u001b[0m\u001b[0;34m,\u001b[0m \u001b[0maxis\u001b[0m\u001b[0;34m)\u001b[0m\u001b[0;34m\u001b[0m\u001b[0;34m\u001b[0m\u001b[0m\n\u001b[0m\u001b[1;32m   2071\u001b[0m         \u001b[0;32melif\u001b[0m \u001b[0misinstance\u001b[0m\u001b[0;34m(\u001b[0m\u001b[0mkey\u001b[0m\u001b[0;34m,\u001b[0m \u001b[0mtuple\u001b[0m\u001b[0;34m)\u001b[0m\u001b[0;34m:\u001b[0m\u001b[0;34m\u001b[0m\u001b[0;34m\u001b[0m\u001b[0m\n\u001b[1;32m   2072\u001b[0m             \u001b[0;31m# a tuple should already have been caught by this point\u001b[0m\u001b[0;34m\u001b[0m\u001b[0;34m\u001b[0m\u001b[0;34m\u001b[0m\u001b[0m\n",
      "\u001b[0;32m/home/yura/anaconda3/lib/python3.7/site-packages/pandas/core/indexing.py\u001b[0m in \u001b[0;36m_validate_integer\u001b[0;34m(self, key, axis)\u001b[0m\n\u001b[1;32m   2137\u001b[0m         \u001b[0mlen_axis\u001b[0m \u001b[0;34m=\u001b[0m \u001b[0mlen\u001b[0m\u001b[0;34m(\u001b[0m\u001b[0mself\u001b[0m\u001b[0;34m.\u001b[0m\u001b[0mobj\u001b[0m\u001b[0;34m.\u001b[0m\u001b[0m_get_axis\u001b[0m\u001b[0;34m(\u001b[0m\u001b[0maxis\u001b[0m\u001b[0;34m)\u001b[0m\u001b[0;34m)\u001b[0m\u001b[0;34m\u001b[0m\u001b[0;34m\u001b[0m\u001b[0m\n\u001b[1;32m   2138\u001b[0m         \u001b[0;32mif\u001b[0m \u001b[0mkey\u001b[0m \u001b[0;34m>=\u001b[0m \u001b[0mlen_axis\u001b[0m \u001b[0;32mor\u001b[0m \u001b[0mkey\u001b[0m \u001b[0;34m<\u001b[0m \u001b[0;34m-\u001b[0m\u001b[0mlen_axis\u001b[0m\u001b[0;34m:\u001b[0m\u001b[0;34m\u001b[0m\u001b[0;34m\u001b[0m\u001b[0m\n\u001b[0;32m-> 2139\u001b[0;31m             \u001b[0;32mraise\u001b[0m \u001b[0mIndexError\u001b[0m\u001b[0;34m(\u001b[0m\u001b[0;34m\"single positional indexer is out-of-bounds\"\u001b[0m\u001b[0;34m)\u001b[0m\u001b[0;34m\u001b[0m\u001b[0;34m\u001b[0m\u001b[0m\n\u001b[0m\u001b[1;32m   2140\u001b[0m \u001b[0;34m\u001b[0m\u001b[0m\n\u001b[1;32m   2141\u001b[0m     \u001b[0;32mdef\u001b[0m \u001b[0m_getitem_tuple\u001b[0m\u001b[0;34m(\u001b[0m\u001b[0mself\u001b[0m\u001b[0;34m,\u001b[0m \u001b[0mtup\u001b[0m\u001b[0;34m)\u001b[0m\u001b[0;34m:\u001b[0m\u001b[0;34m\u001b[0m\u001b[0;34m\u001b[0m\u001b[0m\n",
      "\u001b[0;31mIndexError\u001b[0m: single positional indexer is out-of-bounds"
     ]
    }
   ],
   "source": [
    "temp_df=pd.DataFrame(columns=[\"s\",\"m\",\"t\"])\n",
    "one_point=pd.DataFrame(columns=[\"s\",\"m\",\"t\"])\n",
    "l = [a * 0.1 for a in range(0, 11)]\n",
    "l += [a * 0.1 for a in range(9, -11,-1)]\n",
    "l += [a * 0.1 for a in range(-9, 1)]\n",
    "\n",
    "for idx,elem in enumerate(l):\n",
    "    temp_df=df[(df['s'] >=elem-0.05) & (df['s'] < elem+0.05)& (df['t'] < (idx*step_time +first_level_time))]    \n",
    "    one_point=one_point.append(temp_df.iloc[-1,:])   \n",
    "print(one_point)\n",
    "# temp_df.head(10)"
   ]
  },
  {
   "cell_type": "code",
   "execution_count": 253,
   "metadata": {},
   "outputs": [
    {
     "data": {
      "text/plain": [
       "3614.984"
      ]
     },
     "execution_count": 253,
     "metadata": {},
     "output_type": "execute_result"
    }
   ],
   "source": [
    "volts = []\n",
    "for i in one_point[\"s\"]:\n",
    "    volts.append(round(i, 1))\n",
    "\n",
    "amp = []\n",
    "for j in one_point[\"m\"]:\n",
    "    amp.append(j)\n",
    "\n",
    "res = []\n",
    "for t in range(0, 41):\n",
    "    x = round(volts[t] / amp[t])\n",
    "    if x < 0:\n",
    "        x *= -1\n",
    "    if x != 0:\n",
    "        res.append(x)\n",
    "        \n",
    "time = []\n",
    "for y in one_point[\"t\"]:\n",
    "    time.append(y)\n",
    "time.pop(0)\n",
    "time.pop(19)\n",
    "time.pop()"
   ]
  },
  {
   "cell_type": "code",
   "execution_count": 259,
   "metadata": {},
   "outputs": [
    {
     "data": {
      "text/plain": [
       "'memr_9_at_21#10#2019/memr-9_21#10#2019#20#53#30_steptime_900_resistance.html'"
      ]
     },
     "execution_count": 259,
     "metadata": {},
     "output_type": "execute_result"
    }
   ],
   "source": [
    "datas =[go.Scatter(\n",
    "        x=time,\n",
    "        y=res,\n",
    "        name='resistance_{}'.format(file)\n",
    "        )]\n",
    "layout = go.Layout(\n",
    "    title='resistance_{}'.format(file),\n",
    "    xaxis=dict(\n",
    "        title=\"time\",\n",
    "        showgrid=True,\n",
    "        zeroline=True,\n",
    "        showline=True,\n",
    "        mirror='ticks',\n",
    "        gridcolor='#bdbdbd',\n",
    "        gridwidth=2,\n",
    "        zerolinecolor='#969696',\n",
    "        zerolinewidth=4,\n",
    "        linecolor='#636363',\n",
    "        linewidth=6\n",
    "    ),\n",
    "    yaxis=dict(\n",
    "        title=\"resistance\",\n",
    "        showgrid=True,\n",
    "        zeroline=True,\n",
    "        showline=True,\n",
    "        mirror='ticks',\n",
    "        gridcolor='#bdbdbd',\n",
    "        gridwidth=2,\n",
    "        zerolinecolor='#969696',\n",
    "        zerolinewidth=4,\n",
    "        linecolor='#636363',\n",
    "        linewidth=6\n",
    "    ),\n",
    "    autosize=False,\n",
    "    width=1920,\n",
    "    height=1080\n",
    ")\n",
    "\n",
    "# cоздаем объект Figure и визуализируем его\n",
    "fig = go.Figure(data=datas, layout=layout)\n",
    "# fig.write_image(\"{}/{}_volt.png\".format(folder,file))\n",
    "#iplot(fig, show_link=False)\n",
    "plotly.offline.plot(fig,filename=\"{}/{}_resistance.html\".format(folder,file),show_link=False, auto_open=False)"
   ]
  },
  {
   "cell_type": "code",
   "execution_count": 261,
   "metadata": {
    "pycharm": {
     "is_executing": false,
     "name": "#%%\n"
    }
   },
   "outputs": [
    {
     "data": {
      "text/plain": [
       "'memr_9_at_21#10#2019/memr-9_21#10#2019#20#53#30_steptime_900_volt.html'"
      ]
     },
     "execution_count": 261,
     "metadata": {},
     "output_type": "execute_result"
    }
   ],
   "source": [
    "datas =[go.Scatter(\n",
    "        x=df[\"t\"],\n",
    "        y=df[\"s\"],\n",
    "        name='volts_{}'.format(file)\n",
    "        )]\n",
    "layout = go.Layout(\n",
    "    title='volts_{}'.format(file),\n",
    "    xaxis=dict(\n",
    "        title=\"time\",\n",
    "        showgrid=True,\n",
    "        zeroline=True,\n",
    "        showline=True,\n",
    "        mirror='ticks',\n",
    "        gridcolor='#bdbdbd',\n",
    "        gridwidth=2,\n",
    "        zerolinecolor='#969696',\n",
    "        zerolinewidth=4,\n",
    "        linecolor='#636363',\n",
    "        linewidth=6\n",
    "    ),\n",
    "    yaxis=dict(\n",
    "        title=\"volts\",\n",
    "        showgrid=True,\n",
    "        zeroline=True,\n",
    "        showline=True,\n",
    "        mirror='ticks',\n",
    "        gridcolor='#bdbdbd',\n",
    "        gridwidth=2,\n",
    "        zerolinecolor='#969696',\n",
    "        zerolinewidth=4,\n",
    "        linecolor='#636363',\n",
    "        linewidth=6\n",
    "    ),\n",
    "    autosize=False,\n",
    "    width=1920,\n",
    "    height=1080\n",
    ")\n",
    "\n",
    "# cоздаем объект Figure и визуализируем его\n",
    "fig = go.Figure(data=datas, layout=layout)\n",
    "# fig.write_image(\"{}/{}_volt.png\".format(folder,file))\n",
    "#iplot(fig, show_link=False)\n",
    "plotly.offline.plot(fig,filename=\"{}/{}_volt.html\".format(folder,file),show_link=False, auto_open=False)"
   ]
  },
  {
   "cell_type": "code",
   "execution_count": 260,
   "metadata": {
    "pycharm": {
     "is_executing": false,
     "name": "#%%\n"
    }
   },
   "outputs": [
    {
     "data": {
      "text/plain": [
       "'memr_9_at_21#10#2019/memr-9_21#10#2019#20#53#30_steptime_900_curr.html'"
      ]
     },
     "execution_count": 260,
     "metadata": {},
     "output_type": "execute_result"
    }
   ],
   "source": [
    "datas =[go.Scatter(\n",
    "        x=df[\"t\"],\n",
    "        y=df[\"m\"],\n",
    "        name='curr_{}'.format(file)\n",
    "        )]\n",
    "layout = go.Layout(\n",
    "    title='curr_{}'.format(file),\n",
    "    xaxis=dict(\n",
    "        title=\"time\",\n",
    "        showgrid=True,\n",
    "        zeroline=True,\n",
    "        showline=True,\n",
    "        mirror='ticks',\n",
    "        gridcolor='#bdbdbd',\n",
    "        gridwidth=2,\n",
    "        zerolinecolor='#969696',\n",
    "        zerolinewidth=4,\n",
    "        linecolor='#636363',\n",
    "        linewidth=6\n",
    "    ),\n",
    "    yaxis=dict(\n",
    "        title=\"curr\",\n",
    "        showgrid=True,\n",
    "        zeroline=True,\n",
    "        showline=True,\n",
    "        mirror='ticks',\n",
    "        gridcolor='#bdbdbd',\n",
    "        gridwidth=2,\n",
    "        zerolinecolor='#969696',\n",
    "        zerolinewidth=4,\n",
    "        linecolor='#636363',\n",
    "        linewidth=6\n",
    "    ),\n",
    "    autosize=False,\n",
    "    width=1920,\n",
    "    height=1080\n",
    ")\n",
    "\n",
    "# cоздаем объект Figure и визуализируем его\n",
    "fig = go.Figure(data=datas, layout=layout)\n",
    "# fig.write_image(\"{}/{}_curr.png\".format(folder,file))\n",
    "#iplot(fig, show_link=False)\n",
    "plotly.offline.plot(fig,filename=\"{}/{}_curr.html\".format(folder,file),show_link=False, auto_open=False)"
   ]
  },
  {
   "cell_type": "code",
   "execution_count": 187,
   "metadata": {
    "pycharm": {
     "is_executing": false,
     "name": "#%%\n"
    }
   },
   "outputs": [
    {
     "data": {
      "text/plain": [
       "'memr_9_at_11#10#2019/memr-9_11#10#2019#15#32#17_steptime_90_hyst.html'"
      ]
     },
     "execution_count": 187,
     "metadata": {},
     "output_type": "execute_result"
    }
   ],
   "source": [
    "t1=step_time*10+first_level_time\n",
    "t2=step_time*20+first_level_time\n",
    "t3=step_time*30+first_level_time\n",
    "s1=step_time*10\n",
    "s2=step_time*20\n",
    "s3=step_time*30\n",
    "datas =[go.Scatter(\n",
    "        x=one_point[\"s\"][one_point[\"t\"]<t1],\n",
    "        y=one_point[\"m\"][one_point[\"t\"]<t1],\n",
    "        name='hyst1'\n",
    "        ),\n",
    "        go.Scatter(\n",
    "        x=one_point[\"s\"][(one_point[\"t\"]>s1)&(one_point[\"t\"]<t2)],\n",
    "        y=one_point[\"m\"][(one_point[\"t\"]>s1)&(one_point[\"t\"]<t2)],\n",
    "        name='hyst2'\n",
    "        ),\n",
    "        go.Scatter(\n",
    "        x=one_point[\"s\"][(one_point[\"t\"]>s2)&(one_point[\"t\"]<t3)],\n",
    "        y=one_point[\"m\"][(one_point[\"t\"]>s2)&(one_point[\"t\"]<t3)],\n",
    "        name='hyst3'\n",
    "        ),\n",
    "        go.Scatter(\n",
    "        x=one_point[\"s\"][one_point[\"t\"]>s3],\n",
    "        y=one_point[\"m\"][one_point[\"t\"]>s3],\n",
    "        name='hyst4'\n",
    "        )]\n",
    "layout = go.Layout(\n",
    "    title='hyst_{}'.format(file),\n",
    "    xaxis=dict(\n",
    "        title=\"volts\",\n",
    "        showgrid=True,\n",
    "        zeroline=True,\n",
    "        showline=True,\n",
    "        mirror='ticks',\n",
    "        gridcolor='#bdbdbd',\n",
    "        gridwidth=2,\n",
    "        zerolinecolor='#969696',\n",
    "        zerolinewidth=4,\n",
    "        linecolor='#636363',\n",
    "        linewidth=6\n",
    "    ),\n",
    "    yaxis=dict(\n",
    "        title=\"amps\",\n",
    "        showgrid=True,\n",
    "        zeroline=True,\n",
    "        showline=True,\n",
    "        mirror='ticks',\n",
    "        gridcolor='#bdbdbd',\n",
    "        gridwidth=2,\n",
    "        zerolinecolor='#969696',\n",
    "        zerolinewidth=4,\n",
    "        linecolor='#636363',\n",
    "        linewidth=6\n",
    "    ),\n",
    "    autosize=False,\n",
    "    width=1920,\n",
    "    height=1080\n",
    ")\n",
    "\n",
    "# cоздаем объект Figure и визуализируем его\n",
    "fig = go.Figure(data=datas, layout=layout)\n",
    "# fig.write_image(\"{}/{}_hyst.png\".format(folder,file))\n",
    "#iplot(fig, show_link=False)\n",
    "plotly.offline.plot(fig,filename=\"{}/{}_hyst.html\".format(folder,file),show_link=False, auto_open=False)"
   ]
  },
  {
   "cell_type": "code",
   "execution_count": null,
   "metadata": {},
   "outputs": [],
   "source": []
  }
 ],
 "metadata": {
  "kernelspec": {
   "display_name": "Python 3",
   "language": "python",
   "name": "python3"
  },
  "language_info": {
   "codemirror_mode": {
    "name": "ipython",
    "version": 3
   },
   "file_extension": ".py",
   "mimetype": "text/x-python",
   "name": "python",
   "nbconvert_exporter": "python",
   "pygments_lexer": "ipython3",
   "version": "3.7.3"
  },
  "pycharm": {
   "stem_cell": {
    "cell_type": "raw",
    "metadata": {
     "collapsed": false
    },
    "source": []
   }
  }
 },
 "nbformat": 4,
 "nbformat_minor": 1
}

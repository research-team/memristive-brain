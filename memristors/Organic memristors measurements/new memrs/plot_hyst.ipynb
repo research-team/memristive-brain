{
 "cells": [
  {
   "cell_type": "code",
   "execution_count": 66,
   "metadata": {
    "pycharm": {
     "is_executing": false,
     "name": "#%%\n"
    }
   },
   "outputs": [
    {
     "data": {
      "text/html": [
       "        <script type=\"text/javascript\">\n",
       "        window.PlotlyConfig = {MathJaxConfig: 'local'};\n",
       "        if (window.MathJax) {MathJax.Hub.Config({SVG: {font: \"STIX-Web\"}});}\n",
       "        if (typeof require !== 'undefined') {\n",
       "        require.undef(\"plotly\");\n",
       "        requirejs.config({\n",
       "            paths: {\n",
       "                'plotly': ['https://cdn.plot.ly/plotly-latest.min']\n",
       "            }\n",
       "        });\n",
       "        require(['plotly'], function(Plotly) {\n",
       "            window._Plotly = Plotly;\n",
       "        });\n",
       "        }\n",
       "        </script>\n",
       "        "
      ]
     },
     "metadata": {},
     "output_type": "display_data"
    }
   ],
   "source": [
    "# отключим предупреждения Anaconda\n",
    "import warnings\n",
    "warnings.simplefilter('ignore')\n",
    "\n",
    "# будем отображать графики прямо в jupyter'e\n",
    "%matplotlib inline\n",
    "import seaborn as sns\n",
    "import matplotlib.pyplot as plt\n",
    "#графики в svg выглядят более четкими\n",
    "%config InlineBackend.figure_format = 'svg' \n",
    "\n",
    "#увеличим дефолтный размер графиков\n",
    "from pylab import rcParams\n",
    "rcParams['figure.figsize'] = 8, 5\n",
    "import pandas as pd\n",
    "import numpy as np\n",
    "from plotly.offline import download_plotlyjs, init_notebook_mode, plot, iplot\n",
    "import plotly\n",
    "import plotly.graph_objs as go\n",
    "\n",
    "init_notebook_mode(connected=True)"
   ]
  },
  {
   "cell_type": "code",
   "execution_count": 67,
   "metadata": {
    "pycharm": {
     "is_executing": false,
     "name": "#%%\n"
    }
   },
   "outputs": [],
   "source": [
    "plotly.io.orca.config.executable = \"C:\\\\Users\\\\yurra\\\\AppData\\\\Local\\\\Programs\\\\orca\\\\orca.exe\"\n",
    "plotly.io.orca.config.save()"
   ]
  },
  {
   "cell_type": "code",
   "execution_count": 68,
   "metadata": {
    "pycharm": {
     "is_executing": false,
     "name": "#%%\n"
    }
   },
   "outputs": [
    {
     "data": {
      "text/html": [
       "<div>\n",
       "<style scoped>\n",
       "    .dataframe tbody tr th:only-of-type {\n",
       "        vertical-align: middle;\n",
       "    }\n",
       "\n",
       "    .dataframe tbody tr th {\n",
       "        vertical-align: top;\n",
       "    }\n",
       "\n",
       "    .dataframe thead th {\n",
       "        text-align: right;\n",
       "    }\n",
       "</style>\n",
       "<table border=\"1\" class=\"dataframe\">\n",
       "  <thead>\n",
       "    <tr style=\"text-align: right;\">\n",
       "      <th></th>\n",
       "      <th>s</th>\n",
       "      <th>m</th>\n",
       "      <th>t</th>\n",
       "    </tr>\n",
       "  </thead>\n",
       "  <tbody>\n",
       "    <tr>\n",
       "      <th>0</th>\n",
       "      <td>-2.176762e-05</td>\n",
       "      <td>-8.547013e-08</td>\n",
       "      <td>0.000000</td>\n",
       "    </tr>\n",
       "    <tr>\n",
       "      <th>1</th>\n",
       "      <td>-4.291534e-07</td>\n",
       "      <td>-3.034402e-08</td>\n",
       "      <td>0.048122</td>\n",
       "    </tr>\n",
       "    <tr>\n",
       "      <th>2</th>\n",
       "      <td>-1.528263e-05</td>\n",
       "      <td>-9.042014e-08</td>\n",
       "      <td>0.096116</td>\n",
       "    </tr>\n",
       "    <tr>\n",
       "      <th>3</th>\n",
       "      <td>-1.275539e-05</td>\n",
       "      <td>-4.679059e-08</td>\n",
       "      <td>0.144183</td>\n",
       "    </tr>\n",
       "    <tr>\n",
       "      <th>4</th>\n",
       "      <td>-7.677078e-06</td>\n",
       "      <td>-5.923794e-08</td>\n",
       "      <td>0.192240</td>\n",
       "    </tr>\n",
       "  </tbody>\n",
       "</table>\n",
       "</div>"
      ],
      "text/plain": [
       "              s             m         t\n",
       "0 -2.176762e-05 -8.547013e-08  0.000000\n",
       "1 -4.291534e-07 -3.034402e-08  0.048122\n",
       "2 -1.528263e-05 -9.042014e-08  0.096116\n",
       "3 -1.275539e-05 -4.679059e-08  0.144183\n",
       "4 -7.677078e-06 -5.923794e-08  0.192240"
      ]
     },
     "execution_count": 68,
     "metadata": {},
     "output_type": "execute_result"
    }
   ],
   "source": [
    "# folder=\"memr_6_at_08#10#2019\"\n",
    "folder=\"memr_3_at_10#10#2019\"\n",
    "# file=\"08#10#2019#19#42#21_steptime_90\"\n",
    "file=\"memr-3_10#10#2019#20#59#14_steptime_90\"\n",
    "first_level_time=15\n",
    "step_time=90\n",
    "df=pd.read_csv(\"{}/{}.csv\".format(folder,file),names=[\"s\",\"m\",\"t\"])\n",
    "df.head()"
   ]
  },
  {
   "cell_type": "code",
   "execution_count": 69,
   "metadata": {
    "pycharm": {
     "is_executing": false,
     "name": "#%%\n"
    }
   },
   "outputs": [
    {
     "name": "stdout",
     "output_type": "stream",
     "text": [
      "              s             m           t\n",
      "312   -0.000015 -7.281032e-08    14.99967\n",
      "2184   0.100026  1.627708e-07   104.98070\n",
      "4059   0.200026  3.701993e-07   194.97870\n",
      "5933   0.300034  6.131191e-07   284.98410\n",
      "7805   0.400033  8.172308e-07   374.97630\n",
      "9678   0.500080  1.103739e-06   464.97680\n",
      "11554  0.600066  1.477487e-06   554.99040\n",
      "13427  0.700068  1.847013e-06   644.96450\n",
      "15299  0.800103  2.300910e-06   734.98020\n",
      "17172  0.900084  2.662137e-06   824.98520\n",
      "19047  1.000114  3.026863e-06   914.96860\n",
      "20921  0.900096  2.570101e-06  1004.95400\n",
      "22797  0.800110  2.265433e-06  1094.99300\n",
      "24669  0.700085  1.949727e-06  1184.99000\n",
      "26541  0.600083  1.622231e-06  1274.97300\n",
      "28415  0.500093  1.275504e-06  1364.95900\n",
      "30289  0.400058  9.588954e-07  1454.99900\n",
      "32161  0.300059  6.253740e-07  1544.99800\n",
      "34034  0.200052  3.274674e-07  1634.98900\n",
      "35908  0.100057  9.520299e-08  1724.96000\n",
      "37781  0.000021 -1.378887e-07  1814.97100\n",
      "39653 -0.099958 -2.686667e-07  1904.99300\n",
      "41527 -0.199967 -3.822957e-07  1994.98400\n",
      "43402 -0.299980 -4.050724e-07  2084.97400\n",
      "45274 -0.399992 -3.282261e-07  2174.97900\n",
      "47147 -0.500011 -2.835508e-07  2264.99500\n",
      "49021 -0.600008 -1.999983e-07  2354.95900\n",
      "50896 -0.700032 -1.901641e-07  2444.96000\n",
      "52768 -0.800025 -1.565817e-07  2534.99500\n",
      "54641 -0.900047 -1.481820e-07  2624.97200\n",
      "56516 -1.000059 -1.057901e-07  2714.97200\n",
      "58389 -0.900040 -8.047882e-08  2804.96200\n",
      "60264 -0.800032 -5.640377e-08  2894.96200\n",
      "62137 -0.700021 -3.948662e-08  2984.97600\n",
      "64009 -0.600016 -6.869031e-08  3074.97400\n",
      "65885 -0.500007 -6.708833e-08  3164.98600\n",
      "67759 -0.399991 -2.581455e-08  3254.98300\n",
      "69631 -0.299983 -3.716577e-08  3344.97600\n",
      "71504 -0.199979 -2.676534e-08  3434.99300\n",
      "73379 -0.099958 -3.259775e-08  3524.96600\n",
      "75253  0.000051  2.556408e-09  3614.98800\n"
     ]
    }
   ],
   "source": [
    "temp_df=pd.DataFrame(columns=[\"s\",\"m\",\"t\"])\n",
    "one_point=pd.DataFrame(columns=[\"s\",\"m\",\"t\"])\n",
    "l = [a * 0.1 for a in range(0, 11)]\n",
    "l += [a * 0.1 for a in range(9, -11,-1)]\n",
    "l += [a * 0.1 for a in range(-9, 1)]\n",
    "\n",
    "for idx,elem in enumerate(l):\n",
    "    temp_df=df[(df['s'] >=elem-0.05) & (df['s'] < elem+0.05)& (df['t'] < (idx*step_time +first_level_time))]    \n",
    "    one_point=one_point.append(temp_df.iloc[-1,:])   \n",
    "print(one_point)\n",
    "# temp_df.head(10)"
   ]
  },
  {
   "cell_type": "code",
   "execution_count": 70,
   "metadata": {
    "pycharm": {
     "is_executing": false,
     "name": "#%%\n"
    }
   },
   "outputs": [
    {
     "data": {
      "text/plain": [
       "'memr_3_at_10#10#2019/memr-3_10#10#2019#20#59#14_steptime_90_volt.html'"
      ]
     },
     "execution_count": 70,
     "metadata": {},
     "output_type": "execute_result"
    }
   ],
   "source": [
    "datas =[go.Scatter(\n",
    "        x=df[\"t\"],\n",
    "        y=df[\"s\"],\n",
    "        name='volts_{}'.format(file)\n",
    "        )]\n",
    "layout = go.Layout(\n",
    "    title='volts_{}'.format(file),\n",
    "    xaxis=dict(\n",
    "        title=\"time\",\n",
    "        showgrid=True,\n",
    "        zeroline=True,\n",
    "        showline=True,\n",
    "        mirror='ticks',\n",
    "        gridcolor='#bdbdbd',\n",
    "        gridwidth=2,\n",
    "        zerolinecolor='#969696',\n",
    "        zerolinewidth=4,\n",
    "        linecolor='#636363',\n",
    "        linewidth=6\n",
    "    ),\n",
    "    yaxis=dict(\n",
    "        title=\"volts\",\n",
    "        showgrid=True,\n",
    "        zeroline=True,\n",
    "        showline=True,\n",
    "        mirror='ticks',\n",
    "        gridcolor='#bdbdbd',\n",
    "        gridwidth=2,\n",
    "        zerolinecolor='#969696',\n",
    "        zerolinewidth=4,\n",
    "        linecolor='#636363',\n",
    "        linewidth=6\n",
    "    ),\n",
    "    autosize=False,\n",
    "    width=1920,\n",
    "    height=1080\n",
    ")\n",
    "\n",
    "# cоздаем объект Figure и визуализируем его\n",
    "fig = go.Figure(data=datas, layout=layout)\n",
    "# fig.write_image(\"{}/{}_volt.png\".format(folder,file))\n",
    "#iplot(fig, show_link=False)\n",
    "plotly.offline.plot(fig,filename=\"{}/{}_volt.html\".format(folder,file),show_link=False, auto_open=False)"
   ]
  },
  {
   "cell_type": "code",
   "execution_count": 71,
   "metadata": {
    "pycharm": {
     "is_executing": false,
     "name": "#%%\n"
    }
   },
   "outputs": [
    {
     "data": {
      "text/plain": [
       "'memr_3_at_10#10#2019/memr-3_10#10#2019#20#59#14_steptime_90_curr.html'"
      ]
     },
     "execution_count": 71,
     "metadata": {},
     "output_type": "execute_result"
    }
   ],
   "source": [
    "datas =[go.Scatter(\n",
    "        x=df[\"t\"],\n",
    "        y=df[\"m\"],\n",
    "        name='curr_{}'.format(file)\n",
    "        )]\n",
    "layout = go.Layout(\n",
    "    title='curr_{}'.format(file),\n",
    "    xaxis=dict(\n",
    "        title=\"time\",\n",
    "        showgrid=True,\n",
    "        zeroline=True,\n",
    "        showline=True,\n",
    "        mirror='ticks',\n",
    "        gridcolor='#bdbdbd',\n",
    "        gridwidth=2,\n",
    "        zerolinecolor='#969696',\n",
    "        zerolinewidth=4,\n",
    "        linecolor='#636363',\n",
    "        linewidth=6\n",
    "    ),\n",
    "    yaxis=dict(\n",
    "        title=\"curr\",\n",
    "        showgrid=True,\n",
    "        zeroline=True,\n",
    "        showline=True,\n",
    "        mirror='ticks',\n",
    "        gridcolor='#bdbdbd',\n",
    "        gridwidth=2,\n",
    "        zerolinecolor='#969696',\n",
    "        zerolinewidth=4,\n",
    "        linecolor='#636363',\n",
    "        linewidth=6\n",
    "    ),\n",
    "    autosize=False,\n",
    "    width=1920,\n",
    "    height=1080\n",
    ")\n",
    "\n",
    "# cоздаем объект Figure и визуализируем его\n",
    "fig = go.Figure(data=datas, layout=layout)\n",
    "# fig.write_image(\"{}/{}_curr.png\".format(folder,file))\n",
    "#iplot(fig, show_link=False)\n",
    "plotly.offline.plot(fig,filename=\"{}/{}_curr.html\".format(folder,file),show_link=False, auto_open=False)"
   ]
  },
  {
   "cell_type": "code",
   "execution_count": 72,
   "metadata": {
    "pycharm": {
     "is_executing": false,
     "name": "#%%\n"
    }
   },
   "outputs": [
    {
     "data": {
      "text/plain": [
       "'memr_3_at_10#10#2019/memr-3_10#10#2019#20#59#14_steptime_90_hyst.html'"
      ]
     },
     "execution_count": 72,
     "metadata": {},
     "output_type": "execute_result"
    }
   ],
   "source": [
    "t1=step_time*10+first_level_time\n",
    "t2=step_time*20+first_level_time\n",
    "t3=step_time*30+first_level_time\n",
    "s1=step_time*10\n",
    "s2=step_time*20\n",
    "s3=step_time*30\n",
    "datas =[go.Scatter(\n",
    "        x=one_point[\"s\"][one_point[\"t\"]<t1],\n",
    "        y=one_point[\"m\"][one_point[\"t\"]<t1],\n",
    "        name='hyst1'\n",
    "        ),\n",
    "        go.Scatter(\n",
    "        x=one_point[\"s\"][(one_point[\"t\"]>s1)&(one_point[\"t\"]<t2)],\n",
    "        y=one_point[\"m\"][(one_point[\"t\"]>s1)&(one_point[\"t\"]<t2)],\n",
    "        name='hyst2'\n",
    "        ),\n",
    "        go.Scatter(\n",
    "        x=one_point[\"s\"][(one_point[\"t\"]>s2)&(one_point[\"t\"]<t3)],\n",
    "        y=one_point[\"m\"][(one_point[\"t\"]>s2)&(one_point[\"t\"]<t3)],\n",
    "        name='hyst3'\n",
    "        ),\n",
    "        go.Scatter(\n",
    "        x=one_point[\"s\"][one_point[\"t\"]>s3],\n",
    "        y=one_point[\"m\"][one_point[\"t\"]>s3],\n",
    "        name='hyst4'\n",
    "        )]\n",
    "layout = go.Layout(\n",
    "    title='hyst_{}'.format(file),\n",
    "    xaxis=dict(\n",
    "        title=\"volts\",\n",
    "        showgrid=True,\n",
    "        zeroline=True,\n",
    "        showline=True,\n",
    "        mirror='ticks',\n",
    "        gridcolor='#bdbdbd',\n",
    "        gridwidth=2,\n",
    "        zerolinecolor='#969696',\n",
    "        zerolinewidth=4,\n",
    "        linecolor='#636363',\n",
    "        linewidth=6\n",
    "    ),\n",
    "    yaxis=dict(\n",
    "        title=\"amps\",\n",
    "        showgrid=True,\n",
    "        zeroline=True,\n",
    "        showline=True,\n",
    "        mirror='ticks',\n",
    "        gridcolor='#bdbdbd',\n",
    "        gridwidth=2,\n",
    "        zerolinecolor='#969696',\n",
    "        zerolinewidth=4,\n",
    "        linecolor='#636363',\n",
    "        linewidth=6\n",
    "    ),\n",
    "    autosize=False,\n",
    "    width=1920,\n",
    "    height=1080\n",
    ")\n",
    "\n",
    "# cоздаем объект Figure и визуализируем его\n",
    "fig = go.Figure(data=datas, layout=layout)\n",
    "# fig.write_image(\"{}/{}_hyst.png\".format(folder,file))\n",
    "#iplot(fig, show_link=False)\n",
    "plotly.offline.plot(fig,filename=\"{}/{}_hyst.html\".format(folder,file),show_link=False, auto_open=False)"
   ]
  },
  {
   "cell_type": "code",
   "execution_count": null,
   "metadata": {},
   "outputs": [],
   "source": []
  }
 ],
 "metadata": {
  "kernelspec": {
   "display_name": "Python 3",
   "language": "python",
   "name": "python3"
  },
  "language_info": {
   "codemirror_mode": {
    "name": "ipython",
    "version": 3
   },
   "file_extension": ".py",
   "mimetype": "text/x-python",
   "name": "python",
   "nbconvert_exporter": "python",
   "pygments_lexer": "ipython3",
   "version": "3.7.3"
  },
  "pycharm": {
   "stem_cell": {
    "cell_type": "raw",
    "metadata": {
     "collapsed": false
    },
    "source": []
   }
  }
 },
 "nbformat": 4,
 "nbformat_minor": 1
}

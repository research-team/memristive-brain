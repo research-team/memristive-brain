{
 "cells": [
  {
   "cell_type": "code",
   "execution_count": 87,
   "metadata": {
    "pycharm": {
     "is_executing": false,
     "name": "#%%\n"
    }
   },
   "outputs": [
    {
     "data": {
      "text/html": [
       "        <script type=\"text/javascript\">\n",
       "        window.PlotlyConfig = {MathJaxConfig: 'local'};\n",
       "        if (window.MathJax) {MathJax.Hub.Config({SVG: {font: \"STIX-Web\"}});}\n",
       "        if (typeof require !== 'undefined') {\n",
       "        require.undef(\"plotly\");\n",
       "        requirejs.config({\n",
       "            paths: {\n",
       "                'plotly': ['https://cdn.plot.ly/plotly-latest.min']\n",
       "            }\n",
       "        });\n",
       "        require(['plotly'], function(Plotly) {\n",
       "            window._Plotly = Plotly;\n",
       "        });\n",
       "        }\n",
       "        </script>\n",
       "        "
      ]
     },
     "metadata": {},
     "output_type": "display_data"
    }
   ],
   "source": [
    "# отключим предупреждения Anaconda\n",
    "import warnings\n",
    "warnings.simplefilter('ignore')\n",
    "\n",
    "# будем отображать графики прямо в jupyter'e\n",
    "%matplotlib inline\n",
    "import seaborn as sns\n",
    "import matplotlib.pyplot as plt\n",
    "#графики в svg выглядят более четкими\n",
    "%config InlineBackend.figure_format = 'svg' \n",
    "\n",
    "#увеличим дефолтный размер графиков\n",
    "from pylab import rcParams\n",
    "rcParams['figure.figsize'] = 8, 5\n",
    "import pandas as pd\n",
    "import numpy as np\n",
    "from plotly.offline import download_plotlyjs, init_notebook_mode, plot, iplot\n",
    "import plotly\n",
    "import plotly.graph_objs as go\n",
    "\n",
    "init_notebook_mode(connected=True)"
   ]
  },
  {
   "cell_type": "code",
   "execution_count": 88,
   "metadata": {
    "pycharm": {
     "is_executing": false,
     "name": "#%%\n"
    }
   },
   "outputs": [],
   "source": [
    "plotly.io.orca.config.executable = \"C:\\\\Users\\\\yurra\\\\AppData\\\\Local\\\\Programs\\\\orca\\\\orca.exe\"\n",
    "plotly.io.orca.config.save()"
   ]
  },
  {
   "cell_type": "code",
   "execution_count": 89,
   "metadata": {
    "pycharm": {
     "is_executing": false,
     "name": "#%%\n"
    }
   },
   "outputs": [
    {
     "data": {
      "text/html": [
       "<div>\n",
       "<style scoped>\n",
       "    .dataframe tbody tr th:only-of-type {\n",
       "        vertical-align: middle;\n",
       "    }\n",
       "\n",
       "    .dataframe tbody tr th {\n",
       "        vertical-align: top;\n",
       "    }\n",
       "\n",
       "    .dataframe thead th {\n",
       "        text-align: right;\n",
       "    }\n",
       "</style>\n",
       "<table border=\"1\" class=\"dataframe\">\n",
       "  <thead>\n",
       "    <tr style=\"text-align: right;\">\n",
       "      <th></th>\n",
       "      <th>s</th>\n",
       "      <th>m</th>\n",
       "      <th>t</th>\n",
       "    </tr>\n",
       "  </thead>\n",
       "  <tbody>\n",
       "    <tr>\n",
       "      <th>0</th>\n",
       "      <td>-1.306534e-05</td>\n",
       "      <td>-4.246136e-07</td>\n",
       "      <td>0.000000</td>\n",
       "    </tr>\n",
       "    <tr>\n",
       "      <th>1</th>\n",
       "      <td>-1.952648e-05</td>\n",
       "      <td>-3.959634e-07</td>\n",
       "      <td>0.048060</td>\n",
       "    </tr>\n",
       "    <tr>\n",
       "      <th>2</th>\n",
       "      <td>-5.912781e-06</td>\n",
       "      <td>-3.863044e-07</td>\n",
       "      <td>0.096141</td>\n",
       "    </tr>\n",
       "    <tr>\n",
       "      <th>3</th>\n",
       "      <td>-2.262592e-05</td>\n",
       "      <td>-4.348825e-07</td>\n",
       "      <td>0.144224</td>\n",
       "    </tr>\n",
       "    <tr>\n",
       "      <th>4</th>\n",
       "      <td>-6.914139e-07</td>\n",
       "      <td>-3.617592e-07</td>\n",
       "      <td>0.192284</td>\n",
       "    </tr>\n",
       "  </tbody>\n",
       "</table>\n",
       "</div>"
      ],
      "text/plain": [
       "              s             m         t\n",
       "0 -1.306534e-05 -4.246136e-07  0.000000\n",
       "1 -1.952648e-05 -3.959634e-07  0.048060\n",
       "2 -5.912781e-06 -3.863044e-07  0.096141\n",
       "3 -2.262592e-05 -4.348825e-07  0.144224\n",
       "4 -6.914139e-07 -3.617592e-07  0.192284"
      ]
     },
     "execution_count": 89,
     "metadata": {},
     "output_type": "execute_result"
    }
   ],
   "source": [
    "# folder=\"memr_6_at_08#10#2019\"\n",
    "folder=\"memr_9_at_11#10#2019\"\n",
    "# file=\"08#10#2019#19#42#21_steptime_90\"\n",
    "file=\"memr-9_11#10#2019#15#32#17_steptime_90\"\n",
    "first_level_time=15\n",
    "step_time=90\n",
    "df=pd.read_csv(\"{}/{}.csv\".format(folder,file),names=[\"s\",\"m\",\"t\"])\n",
    "df.head()"
   ]
  },
  {
   "cell_type": "code",
   "execution_count": 90,
   "metadata": {
    "pycharm": {
     "is_executing": false,
     "name": "#%%\n"
    }
   },
   "outputs": [
    {
     "name": "stdout",
     "output_type": "stream",
     "text": [
      "              s             m           t\n",
      "311   -0.000011 -2.729152e-07    14.95497\n",
      "2184   0.100012  2.254654e-07   104.99610\n",
      "4057   0.200015  5.012083e-07   194.97540\n",
      "5932   0.299999  7.974015e-07   284.98690\n",
      "7805   0.399979  1.295634e-06   374.98570\n",
      "9677   0.500015  2.034375e-06   464.95880\n",
      "11551  0.600005  2.815071e-06   554.98650\n",
      "13425  0.699988  3.441107e-06   644.96320\n",
      "15298  0.800008  3.765229e-06   734.99500\n",
      "17170  0.899997  4.133576e-06   824.96890\n",
      "19046  1.000008  4.523838e-06   914.98420\n",
      "20921  0.899988  4.192184e-06  1004.98400\n",
      "22796  0.800019  3.796348e-06  1094.98800\n",
      "24668  0.699994  3.343318e-06  1184.98800\n",
      "26541  0.600011  2.670583e-06  1274.99300\n",
      "28415  0.500022  2.077574e-06  1364.96300\n",
      "30288  0.399996  1.445403e-06  1454.96600\n",
      "32160  0.299997  8.790583e-07  1544.95800\n",
      "34034  0.200004  3.976302e-07  1634.98400\n",
      "35909  0.100012  2.603720e-08  1724.99100\n",
      "37782 -0.000007 -1.410810e-07  1814.99200\n",
      "39654 -0.099987 -2.518558e-07  1904.97500\n",
      "41528 -0.199987 -9.718642e-08  1994.96700\n",
      "43403 -0.299984 -6.057799e-08  2084.97000\n",
      "45275 -0.399993 -8.601582e-08  2174.95300\n",
      "47148 -0.499993 -6.370719e-08  2264.97000\n",
      "49023 -0.600000 -9.241849e-08  2354.99500\n",
      "50897 -0.699982 -1.359167e-08  2444.97500\n",
      "52769 -0.799988 -2.229117e-08  2534.96700\n",
      "54643 -0.899981 -2.536399e-08  2624.99800\n",
      "56517 -0.999997 -7.444487e-08  2714.95200\n",
      "58391 -0.899993 -7.033377e-08  2804.98500\n",
      "60266 -0.799995 -2.625420e-08  2894.98700\n",
      "62139 -0.699991 -3.580844e-08  2984.99500\n",
      "64011 -0.599985  3.150126e-09  3074.97300\n",
      "65886 -0.499997 -4.659960e-08  3164.98300\n",
      "67760 -0.400000 -4.527756e-08  3254.97800\n",
      "69632 -0.299985  8.166353e-09  3344.96200\n",
      "71505 -0.199998 -2.329507e-08  3434.96800\n",
      "73380 -0.099977  2.141169e-08  3524.96000\n",
      "75254  0.000016 -1.928038e-08  3614.97700\n"
     ]
    }
   ],
   "source": [
    "temp_df=pd.DataFrame(columns=[\"s\",\"m\",\"t\"])\n",
    "one_point=pd.DataFrame(columns=[\"s\",\"m\",\"t\"])\n",
    "l = [a * 0.1 for a in range(0, 11)]\n",
    "l += [a * 0.1 for a in range(9, -11,-1)]\n",
    "l += [a * 0.1 for a in range(-9, 1)]\n",
    "\n",
    "for idx,elem in enumerate(l):\n",
    "    temp_df=df[(df['s'] >=elem-0.05) & (df['s'] < elem+0.05)& (df['t'] < (idx*step_time +first_level_time))]    \n",
    "    one_point=one_point.append(temp_df.iloc[-1,:])   \n",
    "print(one_point)\n",
    "# temp_df.head(10)"
   ]
  },
  {
   "cell_type": "code",
   "execution_count": 91,
   "metadata": {
    "pycharm": {
     "is_executing": false,
     "name": "#%%\n"
    }
   },
   "outputs": [
    {
     "data": {
      "text/plain": [
       "'memr_9_at_11#10#2019/memr-9_11#10#2019#15#32#17_steptime_90_volt.html'"
      ]
     },
     "execution_count": 91,
     "metadata": {},
     "output_type": "execute_result"
    }
   ],
   "source": [
    "datas =[go.Scatter(\n",
    "        x=df[\"t\"],\n",
    "        y=df[\"s\"],\n",
    "        name='volts_{}'.format(file)\n",
    "        )]\n",
    "layout = go.Layout(\n",
    "    title='volts_{}'.format(file),\n",
    "    xaxis=dict(\n",
    "        title=\"time\",\n",
    "        showgrid=True,\n",
    "        zeroline=True,\n",
    "        showline=True,\n",
    "        mirror='ticks',\n",
    "        gridcolor='#bdbdbd',\n",
    "        gridwidth=2,\n",
    "        zerolinecolor='#969696',\n",
    "        zerolinewidth=4,\n",
    "        linecolor='#636363',\n",
    "        linewidth=6\n",
    "    ),\n",
    "    yaxis=dict(\n",
    "        title=\"volts\",\n",
    "        showgrid=True,\n",
    "        zeroline=True,\n",
    "        showline=True,\n",
    "        mirror='ticks',\n",
    "        gridcolor='#bdbdbd',\n",
    "        gridwidth=2,\n",
    "        zerolinecolor='#969696',\n",
    "        zerolinewidth=4,\n",
    "        linecolor='#636363',\n",
    "        linewidth=6\n",
    "    ),\n",
    "    autosize=False,\n",
    "    width=1920,\n",
    "    height=1080\n",
    ")\n",
    "\n",
    "# cоздаем объект Figure и визуализируем его\n",
    "fig = go.Figure(data=datas, layout=layout)\n",
    "# fig.write_image(\"{}/{}_volt.png\".format(folder,file))\n",
    "#iplot(fig, show_link=False)\n",
    "plotly.offline.plot(fig,filename=\"{}/{}_volt.html\".format(folder,file),show_link=False, auto_open=False)"
   ]
  },
  {
   "cell_type": "code",
   "execution_count": 92,
   "metadata": {
    "pycharm": {
     "is_executing": false,
     "name": "#%%\n"
    }
   },
   "outputs": [
    {
     "data": {
      "text/plain": [
       "'memr_9_at_11#10#2019/memr-9_11#10#2019#15#32#17_steptime_90_curr.html'"
      ]
     },
     "execution_count": 92,
     "metadata": {},
     "output_type": "execute_result"
    }
   ],
   "source": [
    "datas =[go.Scatter(\n",
    "        x=df[\"t\"],\n",
    "        y=df[\"m\"],\n",
    "        name='curr_{}'.format(file)\n",
    "        )]\n",
    "layout = go.Layout(\n",
    "    title='curr_{}'.format(file),\n",
    "    xaxis=dict(\n",
    "        title=\"time\",\n",
    "        showgrid=True,\n",
    "        zeroline=True,\n",
    "        showline=True,\n",
    "        mirror='ticks',\n",
    "        gridcolor='#bdbdbd',\n",
    "        gridwidth=2,\n",
    "        zerolinecolor='#969696',\n",
    "        zerolinewidth=4,\n",
    "        linecolor='#636363',\n",
    "        linewidth=6\n",
    "    ),\n",
    "    yaxis=dict(\n",
    "        title=\"curr\",\n",
    "        showgrid=True,\n",
    "        zeroline=True,\n",
    "        showline=True,\n",
    "        mirror='ticks',\n",
    "        gridcolor='#bdbdbd',\n",
    "        gridwidth=2,\n",
    "        zerolinecolor='#969696',\n",
    "        zerolinewidth=4,\n",
    "        linecolor='#636363',\n",
    "        linewidth=6\n",
    "    ),\n",
    "    autosize=False,\n",
    "    width=1920,\n",
    "    height=1080\n",
    ")\n",
    "\n",
    "# cоздаем объект Figure и визуализируем его\n",
    "fig = go.Figure(data=datas, layout=layout)\n",
    "# fig.write_image(\"{}/{}_curr.png\".format(folder,file))\n",
    "#iplot(fig, show_link=False)\n",
    "plotly.offline.plot(fig,filename=\"{}/{}_curr.html\".format(folder,file),show_link=False, auto_open=False)"
   ]
  },
  {
   "cell_type": "code",
   "execution_count": 93,
   "metadata": {
    "pycharm": {
     "is_executing": false,
     "name": "#%%\n"
    }
   },
   "outputs": [
    {
     "data": {
      "text/plain": [
       "'memr_9_at_11#10#2019/memr-9_11#10#2019#15#32#17_steptime_90_hyst.html'"
      ]
     },
     "execution_count": 93,
     "metadata": {},
     "output_type": "execute_result"
    }
   ],
   "source": [
    "t1=step_time*10+first_level_time\n",
    "t2=step_time*20+first_level_time\n",
    "t3=step_time*30+first_level_time\n",
    "s1=step_time*10\n",
    "s2=step_time*20\n",
    "s3=step_time*30\n",
    "datas =[go.Scatter(\n",
    "        x=one_point[\"s\"][one_point[\"t\"]<t1],\n",
    "        y=one_point[\"m\"][one_point[\"t\"]<t1],\n",
    "        name='hyst1'\n",
    "        ),\n",
    "        go.Scatter(\n",
    "        x=one_point[\"s\"][(one_point[\"t\"]>s1)&(one_point[\"t\"]<t2)],\n",
    "        y=one_point[\"m\"][(one_point[\"t\"]>s1)&(one_point[\"t\"]<t2)],\n",
    "        name='hyst2'\n",
    "        ),\n",
    "        go.Scatter(\n",
    "        x=one_point[\"s\"][(one_point[\"t\"]>s2)&(one_point[\"t\"]<t3)],\n",
    "        y=one_point[\"m\"][(one_point[\"t\"]>s2)&(one_point[\"t\"]<t3)],\n",
    "        name='hyst3'\n",
    "        ),\n",
    "        go.Scatter(\n",
    "        x=one_point[\"s\"][one_point[\"t\"]>s3],\n",
    "        y=one_point[\"m\"][one_point[\"t\"]>s3],\n",
    "        name='hyst4'\n",
    "        )]\n",
    "layout = go.Layout(\n",
    "    title='hyst_{}'.format(file),\n",
    "    xaxis=dict(\n",
    "        title=\"volts\",\n",
    "        showgrid=True,\n",
    "        zeroline=True,\n",
    "        showline=True,\n",
    "        mirror='ticks',\n",
    "        gridcolor='#bdbdbd',\n",
    "        gridwidth=2,\n",
    "        zerolinecolor='#969696',\n",
    "        zerolinewidth=4,\n",
    "        linecolor='#636363',\n",
    "        linewidth=6\n",
    "    ),\n",
    "    yaxis=dict(\n",
    "        title=\"amps\",\n",
    "        showgrid=True,\n",
    "        zeroline=True,\n",
    "        showline=True,\n",
    "        mirror='ticks',\n",
    "        gridcolor='#bdbdbd',\n",
    "        gridwidth=2,\n",
    "        zerolinecolor='#969696',\n",
    "        zerolinewidth=4,\n",
    "        linecolor='#636363',\n",
    "        linewidth=6\n",
    "    ),\n",
    "    autosize=False,\n",
    "    width=1920,\n",
    "    height=1080\n",
    ")\n",
    "\n",
    "# cоздаем объект Figure и визуализируем его\n",
    "fig = go.Figure(data=datas, layout=layout)\n",
    "# fig.write_image(\"{}/{}_hyst.png\".format(folder,file))\n",
    "#iplot(fig, show_link=False)\n",
    "plotly.offline.plot(fig,filename=\"{}/{}_hyst.html\".format(folder,file),show_link=False, auto_open=False)"
   ]
  },
  {
   "cell_type": "code",
   "execution_count": null,
   "metadata": {},
   "outputs": [],
   "source": []
  }
 ],
 "metadata": {
  "kernelspec": {
   "display_name": "Python 3",
   "language": "python",
   "name": "python3"
  },
  "language_info": {
   "codemirror_mode": {
    "name": "ipython",
    "version": 3
   },
   "file_extension": ".py",
   "mimetype": "text/x-python",
   "name": "python",
   "nbconvert_exporter": "python",
   "pygments_lexer": "ipython3",
   "version": "3.7.3"
  },
  "pycharm": {
   "stem_cell": {
    "cell_type": "raw",
    "metadata": {
     "collapsed": false
    },
    "source": []
   }
  }
 },
 "nbformat": 4,
 "nbformat_minor": 1
}

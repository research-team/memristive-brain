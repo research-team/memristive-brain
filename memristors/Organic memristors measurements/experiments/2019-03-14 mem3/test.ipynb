{
 "cells": [
  {
   "cell_type": "code",
   "execution_count": 27,
   "metadata": {},
   "outputs": [],
   "source": [
    "# отключим предупреждения Anaconda\n",
    "import warnings\n",
    "warnings.simplefilter('ignore')\n",
    "\n",
    "# будем отображать графики прямо в jupyter'e\n",
    "%matplotlib inline\n",
    "import seaborn as sns\n",
    "import matplotlib.pyplot as plt\n",
    "#графики в svg выглядят более четкими\n",
    "%config InlineBackend.figure_format = 'svg' \n",
    "\n",
    "#увеличим дефолтный размер графиков\n",
    "from pylab import rcParams\n",
    "rcParams['figure.figsize'] = 8, 5\n",
    "import pandas as pd"
   ]
  },
  {
   "cell_type": "code",
   "execution_count": 28,
   "metadata": {
    "scrolled": true
   },
   "outputs": [
    {
     "data": {
      "text/html": [
       "        <script type=\"text/javascript\">\n",
       "        window.PlotlyConfig = {MathJaxConfig: 'local'};\n",
       "        if (window.MathJax) {MathJax.Hub.Config({SVG: {font: \"STIX-Web\"}});}\n",
       "        if (typeof require !== 'undefined') {\n",
       "        require.undef(\"plotly\");\n",
       "        requirejs.config({\n",
       "            paths: {\n",
       "                'plotly': ['https://cdn.plot.ly/plotly-latest.min']\n",
       "            }\n",
       "        });\n",
       "        require(['plotly'], function(Plotly) {\n",
       "            window._Plotly = Plotly;\n",
       "        });\n",
       "        }\n",
       "        </script>\n",
       "        "
      ]
     },
     "metadata": {},
     "output_type": "display_data"
    }
   ],
   "source": [
    "from plotly.offline import download_plotlyjs, init_notebook_mode, plot, iplot\n",
    "import plotly\n",
    "import plotly.graph_objs as go\n",
    "\n",
    "init_notebook_mode(connected=True)"
   ]
  },
  {
   "cell_type": "code",
   "execution_count": 29,
   "metadata": {
    "collapsed": true
   },
   "outputs": [
    {
     "name": "stdout",
     "output_type": "stream",
     "text": [
      "<class 'pandas.core.frame.DataFrame'>\n",
      "RangeIndex: 3999 entries, 0 to 3998\n",
      "Data columns (total 23 columns):\n",
      "Index                 3999 non-null object\n",
      "Reading               3999 non-null object\n",
      "Unit                  3999 non-null object\n",
      "Range Digits          3999 non-null object\n",
      "Disp Digits           3999 non-null object\n",
      "Math                  3999 non-null object\n",
      "Limit1 High           3999 non-null object\n",
      "Limit1 Low            3999 non-null object\n",
      "Limit2 High           3999 non-null object\n",
      "Limit2 Low            3999 non-null object\n",
      "Terminal              3999 non-null object\n",
      "Questionable          3999 non-null object\n",
      "Origin                3999 non-null object\n",
      "Value                 3999 non-null object\n",
      "Unit.1                3999 non-null object\n",
      "Digits                3999 non-null object\n",
      "Output                3999 non-null object\n",
      "Sense                 3999 non-null object\n",
      "Source Limit          3999 non-null object\n",
      "Overtemp              3999 non-null object\n",
      "Date                  3999 non-null object\n",
      "Time                  3999 non-null object\n",
      "Fractional Seconds    3999 non-null object\n",
      "dtypes: object(23)\n",
      "memory usage: 718.6+ KB\n",
      "None\n"
     ]
    }
   ],
   "source": [
    "df=pd.read_csv(\"m2019031403.csv\",dtype='object')\n",
    "df['Fractional Seconds']=df['Fractional Seconds'].astype('object')\n",
    "#print(df.info())"
   ]
  },
  {
   "cell_type": "code",
   "execution_count": 30,
   "metadata": {},
   "outputs": [],
   "source": [
    "e=df['Fractional Seconds'][0]\n",
    "df['Fractional Seconds']=df['Fractional Seconds'].map(lambda x:int(float(x)*10**(len(x)-1))//1000)"
   ]
  },
  {
   "cell_type": "code",
   "execution_count": 31,
   "metadata": {},
   "outputs": [],
   "source": [
    "df['Reading']=df['Reading'].astype('float64')\n",
    "df['Value']=df['Value'].astype('float64')\n",
    "#print(df.info())"
   ]
  },
  {
   "cell_type": "code",
   "execution_count": 33,
   "metadata": {},
   "outputs": [],
   "source": [
    "from datetime import datetime as dt\n",
    "import numpy as np\n",
    "arr=[dt.strptime(df['Date'][i]+\" \"+df['Time'][i]+\" \"+str(df['Fractional Seconds'][i]),\"%m/%d/%Y %H:%M:%S %f\") for i in range(len(df['Date']))]\n",
    "data=np.array(arr)\n",
    "df['Datetime']=pd.Series(data)"
   ]
  },
  {
   "cell_type": "code",
   "execution_count": 34,
   "metadata": {},
   "outputs": [],
   "source": [
    "df['TimeDelta']=(df['Datetime']-df['Datetime'][0])\n",
    "df['TimeDelta']=df['TimeDelta'].map(lambda x:x.total_seconds())"
   ]
  },
  {
   "cell_type": "code",
   "execution_count": 35,
   "metadata": {
    "collapsed": true
   },
   "outputs": [
    {
     "name": "stdout",
     "output_type": "stream",
     "text": [
      "0       6.987498e+07\n",
      "1       7.513207e+07\n",
      "2       7.641029e+07\n",
      "3       7.748871e+07\n",
      "4       7.806915e+07\n",
      "5       7.890458e+07\n",
      "6       7.834492e+07\n",
      "7       7.879090e+07\n",
      "8       7.894148e+07\n",
      "9       7.854769e+07\n",
      "10      7.854238e+07\n",
      "11      7.826793e+07\n",
      "12      7.598015e+07\n",
      "13      7.817288e+07\n",
      "14      7.805509e+07\n",
      "15      7.831381e+07\n",
      "16      7.732990e+07\n",
      "17      7.915917e+07\n",
      "18      7.766173e+07\n",
      "19      7.697926e+07\n",
      "20      7.770929e+07\n",
      "21      7.745382e+07\n",
      "22      7.651553e+07\n",
      "23      7.619936e+07\n",
      "24      7.623050e+07\n",
      "25      7.634054e+07\n",
      "26      7.639454e+07\n",
      "27      7.694700e+07\n",
      "28      7.616600e+07\n",
      "29      7.603085e+07\n",
      "            ...     \n",
      "3969    2.157524e+07\n",
      "3970    2.176941e+07\n",
      "3971    2.201821e+07\n",
      "3972    2.194264e+07\n",
      "3973    2.205510e+07\n",
      "3974    2.216823e+07\n",
      "3975    2.220187e+07\n",
      "3976    2.234951e+07\n",
      "3977    2.249507e+07\n",
      "3978    2.259495e+07\n",
      "3979    2.266399e+07\n",
      "3980    2.280029e+07\n",
      "3981    2.287646e+07\n",
      "3982    2.300524e+07\n",
      "3983    2.315260e+07\n",
      "3984    2.325615e+07\n",
      "3985    2.333677e+07\n",
      "3986    2.354444e+07\n",
      "3987    2.361515e+07\n",
      "3988    2.364003e+07\n",
      "3989    2.381261e+07\n",
      "3990    2.397733e+07\n",
      "3991    2.407167e+07\n",
      "3992    2.415619e+07\n",
      "3993    2.424487e+07\n",
      "3994    2.441319e+07\n",
      "3995    2.451674e+07\n",
      "3996    2.463357e+07\n",
      "3997    2.473492e+07\n",
      "3998    2.490190e+07\n",
      "Name: Resistance, Length: 3999, dtype: float64\n"
     ]
    }
   ],
   "source": [
    "df['Resistance']=df['Value']/df['Reading']\n",
    "#print(df['Resistance'])"
   ]
  },
  {
   "cell_type": "code",
   "execution_count": 45,
   "metadata": {},
   "outputs": [
    {
     "data": {
      "text/plain": [
       "'hyst.html'"
      ]
     },
     "execution_count": 45,
     "metadata": {},
     "output_type": "execute_result"
    }
   ],
   "source": [
    "datas =[go.Scatter(\n",
    "        x=df['Value'][df['TimeDelta']<2363],\n",
    "        y=df['Reading'][df['TimeDelta']<2363],\n",
    "        name='grow'\n",
    "        ),go.Scatter(\n",
    "        x=df['Value'][df['TimeDelta']>2362],\n",
    "        y=df['Reading'][df['TimeDelta']>2362],\n",
    "        name='fall'\n",
    "        )]\n",
    "layout = go.Layout(\n",
    "    title='mem3 hyst',\n",
    "    xaxis=dict(\n",
    "        title=\"VOLTS\",\n",
    "        showgrid=True,\n",
    "        zeroline=True,\n",
    "        showline=True,\n",
    "        mirror='ticks',\n",
    "        gridcolor='#bdbdbd',\n",
    "        gridwidth=2,\n",
    "        zerolinecolor='#969696',\n",
    "        zerolinewidth=4,\n",
    "        linecolor='#636363',\n",
    "        linewidth=6\n",
    "    ),\n",
    "    yaxis=dict(\n",
    "        title=\"AMPS\",\n",
    "        showgrid=True,\n",
    "        zeroline=True,\n",
    "        showline=True,\n",
    "        mirror='ticks',\n",
    "        gridcolor='#bdbdbd',\n",
    "        gridwidth=2,\n",
    "        zerolinecolor='#969696',\n",
    "        zerolinewidth=4,\n",
    "        linecolor='#636363',\n",
    "        linewidth=6\n",
    "    )\n",
    ")\n",
    "\n",
    "# cоздаем объект Figure и визуализируем его\n",
    "fig1 = go.Figure(data=datas, layout=layout)\n",
    "#iplot(fig, show_link=False)\n",
    "plotly.offline.plot(fig1,filename=\"hyst.html\",show_link=False)"
   ]
  },
  {
   "cell_type": "code",
   "execution_count": 48,
   "metadata": {},
   "outputs": [
    {
     "data": {
      "text/plain": [
       "'volts.html'"
      ]
     },
     "execution_count": 48,
     "metadata": {},
     "output_type": "execute_result"
    }
   ],
   "source": [
    "datas =[go.Scatter(\n",
    "        x=df['TimeDelta'][df['TimeDelta']<2363],\n",
    "        y=df['Value'][df['TimeDelta']<2363],\n",
    "        name='voltage grow'\n",
    "        ),go.Scatter(\n",
    "        x=df['TimeDelta'][df['TimeDelta']>2362],\n",
    "        y=df['Value'][df['TimeDelta']>2362],\n",
    "        name='voltage fall'\n",
    "        )]\n",
    "layout = go.Layout(\n",
    "    title='mem3 voltage over time',\n",
    "    xaxis=dict(\n",
    "        title=\"TIME\",\n",
    "        showgrid=True,\n",
    "        zeroline=True,\n",
    "        showline=True,\n",
    "        mirror='ticks',\n",
    "        gridcolor='#bdbdbd',\n",
    "        gridwidth=2,\n",
    "        zerolinecolor='#969696',\n",
    "        zerolinewidth=4,\n",
    "        linecolor='#636363',\n",
    "        linewidth=6\n",
    "    ),\n",
    "    yaxis=dict(\n",
    "        title=\"VOLTS\",\n",
    "        showgrid=True,\n",
    "        zeroline=True,\n",
    "        showline=True,\n",
    "        mirror='ticks',\n",
    "        gridcolor='#bdbdbd',\n",
    "        gridwidth=2,\n",
    "        zerolinecolor='#969696',\n",
    "        zerolinewidth=4,\n",
    "        linecolor='#636363',\n",
    "        linewidth=6\n",
    "    )\n",
    ")\n",
    "\n",
    "# cоздаем объект Figure и визуализируем его\n",
    "fig1 = go.Figure(data=datas, layout=layout)\n",
    "#iplot(fig, show_link=False)\n",
    "plotly.offline.plot(fig1,filename=\"volts.html\",show_link=False)"
   ]
  },
  {
   "cell_type": "code",
   "execution_count": 50,
   "metadata": {},
   "outputs": [
    {
     "data": {
      "text/plain": [
       "'amps.html'"
      ]
     },
     "execution_count": 50,
     "metadata": {},
     "output_type": "execute_result"
    }
   ],
   "source": [
    "datas =[go.Scatter(\n",
    "        x=df['TimeDelta'][df['TimeDelta']<2363],\n",
    "        y=df['Reading'][df['TimeDelta']<2363],\n",
    "        name='voltage grow'\n",
    "        ),go.Scatter(\n",
    "        x=df['TimeDelta'][df['TimeDelta']>2362],\n",
    "        y=df['Reading'][df['TimeDelta']>2362],\n",
    "        name='voltage fall'\n",
    "        )]\n",
    "layout = go.Layout(\n",
    "    title='mem3 current over time',\n",
    "    xaxis=dict(\n",
    "        title=\"TIME\",\n",
    "        showgrid=True,\n",
    "        zeroline=True,\n",
    "        showline=True,\n",
    "        mirror='ticks',\n",
    "        gridcolor='#bdbdbd',\n",
    "        gridwidth=2,\n",
    "        zerolinecolor='#969696',\n",
    "        zerolinewidth=4,\n",
    "        linecolor='#636363',\n",
    "        linewidth=6\n",
    "    ),\n",
    "    yaxis=dict(\n",
    "        title=\"AMPS\",\n",
    "        showgrid=True,\n",
    "        zeroline=True,\n",
    "        showline=True,\n",
    "        mirror='ticks',\n",
    "        gridcolor='#bdbdbd',\n",
    "        gridwidth=2,\n",
    "        zerolinecolor='#969696',\n",
    "        zerolinewidth=4,\n",
    "        linecolor='#636363',\n",
    "        linewidth=6\n",
    "    )\n",
    ")\n",
    "\n",
    "# cоздаем объект Figure и визуализируем его\n",
    "fig1 = go.Figure(data=datas, layout=layout)\n",
    "#iplot(fig, show_link=False)\n",
    "plotly.offline.plot(fig1,filename=\"amps.html\",show_link=False)"
   ]
  },
  {
   "cell_type": "code",
   "execution_count": 52,
   "metadata": {},
   "outputs": [
    {
     "data": {
      "text/plain": [
       "'res.html'"
      ]
     },
     "execution_count": 52,
     "metadata": {},
     "output_type": "execute_result"
    }
   ],
   "source": [
    "datas =[go.Scatter(\n",
    "        x=df['TimeDelta'],\n",
    "        y=df['Resistance'],\n",
    "        name='res'\n",
    "        )]\n",
    "layout = go.Layout(\n",
    "    title='mem3 resistance',\n",
    "    xaxis=dict(\n",
    "        title=\"TIME\",\n",
    "        showgrid=True,\n",
    "        zeroline=True,\n",
    "        showline=True,\n",
    "        mirror='ticks',\n",
    "        gridcolor='#bdbdbd',\n",
    "        gridwidth=2,\n",
    "        zerolinecolor='#969696',\n",
    "        zerolinewidth=4,\n",
    "        linecolor='#636363',\n",
    "        linewidth=6\n",
    "    ),\n",
    "    yaxis=dict(\n",
    "        title=\"RESISTANCE\",\n",
    "        showgrid=True,\n",
    "        zeroline=True,\n",
    "        showline=True,\n",
    "        mirror='ticks',\n",
    "        gridcolor='#bdbdbd',\n",
    "        gridwidth=2,\n",
    "        zerolinecolor='#969696',\n",
    "        zerolinewidth=4,\n",
    "        linecolor='#636363',\n",
    "        linewidth=6\n",
    "    )\n",
    ")\n",
    "\n",
    "# cоздаем объект Figure и визуализируем его\n",
    "fig1 = go.Figure(data=datas, layout=layout)\n",
    "#iplot(fig, show_link=False)\n",
    "plotly.offline.plot(fig1,filename=\"res.html\",show_link=False)"
   ]
  },
  {
   "cell_type": "code",
   "execution_count": 53,
   "metadata": {},
   "outputs": [
    {
     "data": {
      "text/plain": [
       "'res0-1-0.html'"
      ]
     },
     "execution_count": 53,
     "metadata": {},
     "output_type": "execute_result"
    }
   ],
   "source": [
    "datas =[go.Scatter(\n",
    "        x=df['TimeDelta'][(df['TimeDelta']>500)&(df['TimeDelta']<2363)],\n",
    "        y=df['Resistance'][(df['TimeDelta']>500)&(df['TimeDelta']<2363)],\n",
    "        name='0-1v'\n",
    "        ),go.Scatter(\n",
    "        x=df['TimeDelta'][(df['TimeDelta']>2362)&(df['TimeDelta']<3800)],\n",
    "        y=df['Resistance'][(df['TimeDelta']>2362)&(df['TimeDelta']<3800)],\n",
    "        name='1-0v'\n",
    "        )]\n",
    "layout = go.Layout(\n",
    "    title='mem3 resistance 0-1-0 volt',\n",
    "    xaxis=dict(\n",
    "        title=\"TIME\",\n",
    "        showgrid=True,\n",
    "        zeroline=True,\n",
    "        showline=True,\n",
    "        mirror='ticks',\n",
    "        gridcolor='#bdbdbd',\n",
    "        gridwidth=2,\n",
    "        zerolinecolor='#969696',\n",
    "        zerolinewidth=4,\n",
    "        linecolor='#636363',\n",
    "        linewidth=6\n",
    "    ),\n",
    "    yaxis=dict(\n",
    "        title=\"RESISTANCE\",\n",
    "        showgrid=True,\n",
    "        zeroline=True,\n",
    "        showline=True,\n",
    "        mirror='ticks',\n",
    "        gridcolor='#bdbdbd',\n",
    "        gridwidth=2,\n",
    "        zerolinecolor='#969696',\n",
    "        zerolinewidth=4,\n",
    "        linecolor='#636363',\n",
    "        linewidth=6\n",
    "    )\n",
    ")\n",
    "\n",
    "# cоздаем объект Figure и визуализируем его\n",
    "fig1 = go.Figure(data=datas, layout=layout)\n",
    "#iplot(fig, show_link=False)\n",
    "plotly.offline.plot(fig1,filename=\"res0-1-0.html\",show_link=False)"
   ]
  },
  {
   "cell_type": "code",
   "execution_count": null,
   "metadata": {},
   "outputs": [],
   "source": []
  }
 ],
 "metadata": {
  "kernelspec": {
   "display_name": "Python 3",
   "language": "python",
   "name": "python3"
  },
  "language_info": {
   "codemirror_mode": {
    "name": "ipython",
    "version": 3
   },
   "file_extension": ".py",
   "mimetype": "text/x-python",
   "name": "python",
   "nbconvert_exporter": "python",
   "pygments_lexer": "ipython3",
   "version": "3.7.3"
  }
 },
 "nbformat": 4,
 "nbformat_minor": 2
}

{
 "cells": [
  {
   "cell_type": "code",
   "execution_count": 1,
   "metadata": {
    "pycharm": {
     "name": "#%%\n"
    }
   },
   "outputs": [
    {
     "data": {
      "text/html": [
       "        <script type=\"text/javascript\">\n",
       "        window.PlotlyConfig = {MathJaxConfig: 'local'};\n",
       "        if (window.MathJax) {MathJax.Hub.Config({SVG: {font: \"STIX-Web\"}});}\n",
       "        if (typeof require !== 'undefined') {\n",
       "        require.undef(\"plotly\");\n",
       "        requirejs.config({\n",
       "            paths: {\n",
       "                'plotly': ['https://cdn.plot.ly/plotly-latest.min']\n",
       "            }\n",
       "        });\n",
       "        require(['plotly'], function(Plotly) {\n",
       "            window._Plotly = Plotly;\n",
       "        });\n",
       "        }\n",
       "        </script>\n",
       "        "
      ]
     },
     "metadata": {},
     "output_type": "display_data"
    }
   ],
   "source": [
    "# отключим предупреждения Anaconda\n",
    "import warnings\n",
    "warnings.simplefilter('ignore')\n",
    "\n",
    "# будем отображать графики прямо в jupyter'e\n",
    "%matplotlib inline\n",
    "import seaborn as sns\n",
    "import matplotlib.pyplot as plt\n",
    "#графики в svg выглядят более четкими\n",
    "%config InlineBackend.figure_format = 'svg' \n",
    "\n",
    "#увеличим дефолтный размер графиков\n",
    "from pylab import rcParams\n",
    "rcParams['figure.figsize'] = 8, 5\n",
    "import pandas as pd\n",
    "import numpy as np\n",
    "from plotly.offline import download_plotlyjs, init_notebook_mode, plot, iplot\n",
    "import plotly\n",
    "import plotly.graph_objs as go\n",
    "\n",
    "init_notebook_mode(connected=True)\n"
   ]
  },
  {
   "cell_type": "code",
   "execution_count": 2,
   "metadata": {
    "pycharm": {
     "name": "#%%\n"
    }
   },
   "outputs": [
    {
     "data": {
      "text/html": [
       "<div>\n",
       "<style scoped>\n",
       "    .dataframe tbody tr th:only-of-type {\n",
       "        vertical-align: middle;\n",
       "    }\n",
       "\n",
       "    .dataframe tbody tr th {\n",
       "        vertical-align: top;\n",
       "    }\n",
       "\n",
       "    .dataframe thead th {\n",
       "        text-align: right;\n",
       "    }\n",
       "</style>\n",
       "<table border=\"1\" class=\"dataframe\">\n",
       "  <thead>\n",
       "    <tr style=\"text-align: right;\">\n",
       "      <th></th>\n",
       "      <th>s</th>\n",
       "      <th>m</th>\n",
       "      <th>t</th>\n",
       "    </tr>\n",
       "  </thead>\n",
       "  <tbody>\n",
       "    <tr>\n",
       "      <th>0</th>\n",
       "      <td>-0.2</td>\n",
       "      <td>-3.417134e-07</td>\n",
       "      <td>0.000000</td>\n",
       "    </tr>\n",
       "    <tr>\n",
       "      <th>1</th>\n",
       "      <td>-0.2</td>\n",
       "      <td>-3.131829e-07</td>\n",
       "      <td>0.082834</td>\n",
       "    </tr>\n",
       "    <tr>\n",
       "      <th>2</th>\n",
       "      <td>-0.2</td>\n",
       "      <td>-2.887279e-07</td>\n",
       "      <td>0.165630</td>\n",
       "    </tr>\n",
       "    <tr>\n",
       "      <th>3</th>\n",
       "      <td>-0.2</td>\n",
       "      <td>-2.676088e-07</td>\n",
       "      <td>0.248413</td>\n",
       "    </tr>\n",
       "    <tr>\n",
       "      <th>4</th>\n",
       "      <td>-0.2</td>\n",
       "      <td>-2.492571e-07</td>\n",
       "      <td>0.331205</td>\n",
       "    </tr>\n",
       "  </tbody>\n",
       "</table>\n",
       "</div>"
      ],
      "text/plain": [
       "     s             m         t\n",
       "0 -0.2 -3.417134e-07  0.000000\n",
       "1 -0.2 -3.131829e-07  0.082834\n",
       "2 -0.2 -2.887279e-07  0.165630\n",
       "3 -0.2 -2.676088e-07  0.248413\n",
       "4 -0.2 -2.492571e-07  0.331205"
      ]
     },
     "execution_count": 2,
     "metadata": {},
     "output_type": "execute_result"
    }
   ],
   "source": [
    "df=pd.read_csv(\"reset_mem3.csv\")\n",
    "df.head()"
   ]
  },
  {
   "cell_type": "code",
   "execution_count": 5,
   "metadata": {
    "pycharm": {
     "name": "#%%\n"
    }
   },
   "outputs": [
    {
     "data": {
      "text/plain": [
       "'Raw oscilloscope snapshots reset.html'"
      ]
     },
     "execution_count": 5,
     "metadata": {},
     "output_type": "execute_result"
    }
   ],
   "source": [
    "datas =[go.Scatter(\n",
    "        x=df[\"s\"],\n",
    "        y=df[\"m\"],\n",
    "        name='reset mem3'\n",
    "        )]\n",
    "layout = go.Layout(\n",
    "    title='Raw oscilloscope snapshots reset',\n",
    "    xaxis=dict(\n",
    "        title=\"VOLTS\",\n",
    "        showgrid=True,\n",
    "        zeroline=True,\n",
    "        showline=True,\n",
    "        mirror='ticks',\n",
    "        gridcolor='#bdbdbd',\n",
    "        gridwidth=2,\n",
    "        zerolinecolor='#969696',\n",
    "        zerolinewidth=4,\n",
    "        linecolor='#636363',\n",
    "        linewidth=6\n",
    "    ),\n",
    "    yaxis=dict(\n",
    "        title=\"AMPS\",\n",
    "        showgrid=True,\n",
    "        zeroline=True,\n",
    "        showline=True,\n",
    "        mirror='ticks',\n",
    "        gridcolor='#bdbdbd',\n",
    "        gridwidth=2,\n",
    "        zerolinecolor='#969696',\n",
    "        zerolinewidth=4,\n",
    "        linecolor='#636363',\n",
    "        linewidth=6\n",
    "    )\n",
    ")\n",
    "\n",
    "# cоздаем объект Figure и визуализируем его\n",
    "fig = go.Figure(data=datas, layout=layout)\n",
    "#iplot(fig, show_link=False)\n",
    "plotly.offline.plot(fig,filename=\"Raw oscilloscope snapshots reset.html\",show_link=False)"
   ]
  },
  {
   "cell_type": "code",
   "execution_count": 6,
   "metadata": {
    "pycharm": {
     "name": "#%%\n"
    }
   },
   "outputs": [],
   "source": [
    "df[\"r\"]=df[\"s\"]/df[\"m\"]"
   ]
  },
  {
   "cell_type": "code",
   "execution_count": 7,
   "metadata": {
    "pycharm": {
     "name": "#%%\n"
    }
   },
   "outputs": [
    {
     "data": {
      "text/plain": [
       "'Raw oscilloscope snapshots reset resistance.html'"
      ]
     },
     "execution_count": 7,
     "metadata": {},
     "output_type": "execute_result"
    }
   ],
   "source": [
    "datas =[go.Scatter(\n",
    "        x=df[\"t\"],\n",
    "        y=df[\"r\"],\n",
    "        name='reset mem3'\n",
    "        )]\n",
    "layout = go.Layout(\n",
    "    title='Raw oscilloscope snapshots reset resistance',\n",
    "    xaxis=dict(\n",
    "        title=\"VOLTS\",\n",
    "        showgrid=True,\n",
    "        zeroline=True,\n",
    "        showline=True,\n",
    "        mirror='ticks',\n",
    "        gridcolor='#bdbdbd',\n",
    "        gridwidth=2,\n",
    "        zerolinecolor='#969696',\n",
    "        zerolinewidth=4,\n",
    "        linecolor='#636363',\n",
    "        linewidth=6\n",
    "    ),\n",
    "    yaxis=dict(\n",
    "        title=\"AMPS\",\n",
    "        showgrid=True,\n",
    "        zeroline=True,\n",
    "        showline=True,\n",
    "        mirror='ticks',\n",
    "        gridcolor='#bdbdbd',\n",
    "        gridwidth=2,\n",
    "        zerolinecolor='#969696',\n",
    "        zerolinewidth=4,\n",
    "        linecolor='#636363',\n",
    "        linewidth=6\n",
    "    )\n",
    ")\n",
    "\n",
    "# cоздаем объект Figure и визуализируем его\n",
    "fig = go.Figure(data=datas, layout=layout)\n",
    "#iplot(fig, show_link=False)\n",
    "plotly.offline.plot(fig,filename=\"Raw oscilloscope snapshots reset resistance.html\",show_link=False)"
   ]
  },
  {
   "cell_type": "code",
   "execution_count": null,
   "metadata": {
    "pycharm": {
     "name": "#%%\n"
    }
   },
   "outputs": [],
   "source": [
    "df_filt=[]\n",
    "df2_filt=[]\n",
    "for d in df:\n",
    "    temp=d.sub(d[1], axis='rows')\n",
    "    temp=d.rolling(200,win_type=\"gaussian\").mean(std=3)\n",
    "    df_filt.append(temp)\n",
    "    df2_filt.append(temp.transpose()[1:])"
   ]
  },
  {
   "cell_type": "code",
   "execution_count": null,
   "metadata": {
    "pycharm": {
     "name": "#%%\n"
    }
   },
   "outputs": [],
   "source": [
    "for dfidx in range(len(df)):\n",
    "    datas =[go.Scatter(\n",
    "            x=df_filt[dfidx].index,\n",
    "            y=df_filt[dfidx][i],\n",
    "            name='{}'.format(time_delta[dfidx][i])\n",
    "            ) for i in range(10,len(time_delta[dfidx]),50)]\n",
    "    layout = go.Layout(\n",
    "        title='Filtered oscilloscope snapshots - phase shift {}'.format(dfidx*10),\n",
    "        xaxis=dict(\n",
    "            title=\"TIME\",\n",
    "            showgrid=True,\n",
    "            zeroline=True,\n",
    "            showline=True,\n",
    "            mirror='ticks',\n",
    "            gridcolor='#bdbdbd',\n",
    "            gridwidth=2,\n",
    "            zerolinecolor='#969696',\n",
    "            zerolinewidth=4,\n",
    "            linecolor='#636363',\n",
    "            linewidth=6\n",
    "        ),\n",
    "        yaxis=dict(\n",
    "            title=\"VOLTAGE\",\n",
    "            showgrid=True,\n",
    "            zeroline=True,\n",
    "            showline=True,\n",
    "            mirror='ticks',\n",
    "            gridcolor='#bdbdbd',\n",
    "            gridwidth=2,\n",
    "            zerolinecolor='#969696',\n",
    "            zerolinewidth=4,\n",
    "            linecolor='#636363',\n",
    "            linewidth=6\n",
    "        )\n",
    "    )\n",
    "\n",
    "    # cоздаем объект Figure и визуализируем его\n",
    "    fig = go.Figure(data=datas, layout=layout)\n",
    "    #iplot(fig, show_link=False)\n",
    "    plotly.offline.plot(fig,filename=\"Results_up/filt_time-voltage/Filtered oscilloscope snapshots - phase shift {}.html\".format(dfidx*10),show_link=False)"
   ]
  },
  {
   "cell_type": "code",
   "execution_count": null,
   "metadata": {
    "pycharm": {
     "name": "#%%\n"
    }
   },
   "outputs": [],
   "source": [
    "point_list=[1.75,4.25]"
   ]
  },
  {
   "cell_type": "code",
   "execution_count": null,
   "metadata": {
    "pycharm": {
     "name": "#%%\n"
    }
   },
   "outputs": [],
   "source": [
    "for dfidx in point_list:\n",
    "    datas =[go.Scatter(\n",
    "            x=time_delta[i],\n",
    "            y=df2_filt[i][dfidx],\n",
    "            name='phase {}'.format(i*10)\n",
    "            ) for i in range(len(df2_filt))]\n",
    "    layout = go.Layout(\n",
    "        title='Volts change at sigle screenshot time - timepoint {}'.format(dfidx),\n",
    "        xaxis=dict(\n",
    "            title=\"TIME\",\n",
    "            showgrid=True,\n",
    "            zeroline=True,\n",
    "            showline=True,\n",
    "            mirror='ticks',\n",
    "            gridcolor='#bdbdbd',\n",
    "            gridwidth=2,\n",
    "            zerolinecolor='#969696',\n",
    "            zerolinewidth=4,\n",
    "            linecolor='#636363',\n",
    "            linewidth=6\n",
    "        ),\n",
    "        yaxis=dict(\n",
    "            title=\"VOLTAGE\",\n",
    "            showgrid=True,\n",
    "            zeroline=True,\n",
    "            showline=True,\n",
    "            mirror='ticks',\n",
    "            gridcolor='#bdbdbd',\n",
    "            gridwidth=2,\n",
    "            zerolinecolor='#969696',\n",
    "            zerolinewidth=4,\n",
    "            linecolor='#636363',\n",
    "            linewidth=6\n",
    "        )\n",
    "    )\n",
    "\n",
    "    # cоздаем объект Figure и визуализируем его\n",
    "    fig = go.Figure(data=datas, layout=layout)\n",
    "    #iplot(fig, show_link=False)\n",
    "    plotly.offline.plot(fig,filename=\"Results_up/volt-time_change/Volts change at sigle screenshot time - timepoint{}.html\".format(dfidx),show_link=False)"
   ]
  },
  {
   "cell_type": "code",
   "execution_count": null,
   "metadata": {
    "pycharm": {
     "name": "#%%\n"
    }
   },
   "outputs": [],
   "source": [
    "def volts_to_res(u_signal,u_res):\n",
    "    return u_signal*1.2*10**6/u_res"
   ]
  },
  {
   "cell_type": "code",
   "execution_count": null,
   "metadata": {
    "pycharm": {
     "name": "#%%\n"
    }
   },
   "outputs": [],
   "source": [
    "df2_resistance = []\n",
    "for d in df2_filt:\n",
    "    df2_resistance.append(d.applymap(lambda x:volts_to_res(0.8,x)))"
   ]
  },
  {
   "cell_type": "code",
   "execution_count": null,
   "metadata": {
    "pycharm": {
     "name": "#%%\n"
    }
   },
   "outputs": [],
   "source": [
    "for dfidx in point_list:\n",
    "    datas =[go.Scatter(\n",
    "            x=time_delta[i],\n",
    "            y=df2_resistance[i][dfidx],\n",
    "            name='phase {}'.format(i*10)\n",
    "            ) for i in range(len(df2_filt))]\n",
    "    layout = go.Layout(\n",
    "        title='Resistance change at sigle screenshot time - timepoint {}'.format(dfidx),\n",
    "        xaxis=dict(\n",
    "            title=\"TIME\",\n",
    "            showgrid=True,\n",
    "            zeroline=True,\n",
    "            showline=True,\n",
    "            mirror='ticks',\n",
    "            gridcolor='#bdbdbd',\n",
    "            gridwidth=2,\n",
    "            zerolinecolor='#969696',\n",
    "            zerolinewidth=4,\n",
    "            linecolor='#636363',\n",
    "            linewidth=6\n",
    "        ),\n",
    "        yaxis=dict(\n",
    "            title=\"OHMS\",\n",
    "            showgrid=True,\n",
    "            zeroline=True,\n",
    "            showline=True,\n",
    "            mirror='ticks',\n",
    "            gridcolor='#bdbdbd',\n",
    "            gridwidth=2,\n",
    "            zerolinecolor='#969696',\n",
    "            zerolinewidth=4,\n",
    "            linecolor='#636363',\n",
    "            linewidth=6\n",
    "        )\n",
    "    )\n",
    "\n",
    "    # cоздаем объект Figure и визуализируем его\n",
    "    fig = go.Figure(data=datas, layout=layout)\n",
    "    #iplot(fig, show_link=False)\n",
    "    plotly.offline.plot(fig,filename=\"Results_up/res-time_change/Resistance change at sigle screenshot time - timepoint {}.html\".format(dfidx),show_link=False)"
   ]
  }
 ],
 "metadata": {
  "kernelspec": {
   "display_name": "Python 3",
   "language": "python",
   "name": "python3"
  },
  "language_info": {
   "codemirror_mode": {
    "name": "ipython",
    "version": 3
   },
   "file_extension": ".py",
   "mimetype": "text/x-python",
   "name": "python",
   "nbconvert_exporter": "python",
   "pygments_lexer": "ipython3",
   "version": "3.7.3"
  },
  "pycharm": {
   "stem_cell": {
    "cell_type": "raw",
    "source": [],
    "metadata": {
     "collapsed": false
    }
   }
  }
 },
 "nbformat": 4,
 "nbformat_minor": 1
}
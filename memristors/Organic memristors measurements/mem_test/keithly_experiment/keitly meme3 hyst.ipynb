{
 "cells": [
  {
   "cell_type": "code",
   "execution_count": 1,
   "metadata": {},
   "outputs": [
    {
     "data": {
      "text/html": [
       "        <script type=\"text/javascript\">\n",
       "        window.PlotlyConfig = {MathJaxConfig: 'local'};\n",
       "        if (window.MathJax) {MathJax.Hub.Config({SVG: {font: \"STIX-Web\"}});}\n",
       "        if (typeof require !== 'undefined') {\n",
       "        require.undef(\"plotly\");\n",
       "        requirejs.config({\n",
       "            paths: {\n",
       "                'plotly': ['https://cdn.plot.ly/plotly-latest.min']\n",
       "            }\n",
       "        });\n",
       "        require(['plotly'], function(Plotly) {\n",
       "            window._Plotly = Plotly;\n",
       "        });\n",
       "        }\n",
       "        </script>\n",
       "        "
      ]
     },
     "metadata": {},
     "output_type": "display_data"
    }
   ],
   "source": [
    "# отключим предупреждения Anaconda\n",
    "import warnings\n",
    "warnings.simplefilter('ignore')\n",
    "\n",
    "# будем отображать графики прямо в jupyter'e\n",
    "%matplotlib inline\n",
    "import seaborn as sns\n",
    "import matplotlib.pyplot as plt\n",
    "#графики в svg выглядят более четкими\n",
    "%config InlineBackend.figure_format = 'svg' \n",
    "\n",
    "#увеличим дефолтный размер графиков\n",
    "from pylab import rcParams\n",
    "rcParams['figure.figsize'] = 8, 5\n",
    "import pandas as pd\n",
    "import numpy as np\n",
    "\n",
    "from plotly.offline import download_plotlyjs, init_notebook_mode, plot, iplot\n",
    "import plotly\n",
    "import plotly.graph_objs as go\n",
    "\n",
    "init_notebook_mode(connected=True)"
   ]
  },
  {
   "cell_type": "code",
   "execution_count": 2,
   "metadata": {},
   "outputs": [],
   "source": [
    "data = pd.read_csv(\"res22_-0.2.csv\", names=[\"s\",\"m\",\"t\"])"
   ]
  },
  {
   "cell_type": "code",
   "execution_count": 3,
   "metadata": {},
   "outputs": [
    {
     "data": {
      "text/html": [
       "<div>\n",
       "<style scoped>\n",
       "    .dataframe tbody tr th:only-of-type {\n",
       "        vertical-align: middle;\n",
       "    }\n",
       "\n",
       "    .dataframe tbody tr th {\n",
       "        vertical-align: top;\n",
       "    }\n",
       "\n",
       "    .dataframe thead th {\n",
       "        text-align: right;\n",
       "    }\n",
       "</style>\n",
       "<table border=\"1\" class=\"dataframe\">\n",
       "  <thead>\n",
       "    <tr style=\"text-align: right;\">\n",
       "      <th></th>\n",
       "      <th>s</th>\n",
       "      <th>m</th>\n",
       "      <th>t</th>\n",
       "    </tr>\n",
       "  </thead>\n",
       "  <tbody>\n",
       "    <tr>\n",
       "      <th>83296</th>\n",
       "      <td>-0.199998</td>\n",
       "      <td>-2.783572e-09</td>\n",
       "      <td>6897.645599</td>\n",
       "    </tr>\n",
       "    <tr>\n",
       "      <th>83297</th>\n",
       "      <td>-0.199999</td>\n",
       "      <td>-2.791739e-09</td>\n",
       "      <td>6897.728210</td>\n",
       "    </tr>\n",
       "    <tr>\n",
       "      <th>83298</th>\n",
       "      <td>-0.199998</td>\n",
       "      <td>-2.786932e-09</td>\n",
       "      <td>6897.810852</td>\n",
       "    </tr>\n",
       "    <tr>\n",
       "      <th>83299</th>\n",
       "      <td>-0.199999</td>\n",
       "      <td>-2.785578e-09</td>\n",
       "      <td>6897.893494</td>\n",
       "    </tr>\n",
       "    <tr>\n",
       "      <th>83300</th>\n",
       "      <td>-0.199999</td>\n",
       "      <td>-2.782139e-09</td>\n",
       "      <td>6897.976105</td>\n",
       "    </tr>\n",
       "  </tbody>\n",
       "</table>\n",
       "</div>"
      ],
      "text/plain": [
       "              s             m            t\n",
       "83296 -0.199998 -2.783572e-09  6897.645599\n",
       "83297 -0.199999 -2.791739e-09  6897.728210\n",
       "83298 -0.199998 -2.786932e-09  6897.810852\n",
       "83299 -0.199999 -2.785578e-09  6897.893494\n",
       "83300 -0.199999 -2.782139e-09  6897.976105"
      ]
     },
     "execution_count": 3,
     "metadata": {},
     "output_type": "execute_result"
    }
   ],
   "source": [
    "data2=data.copy()\n",
    "prevt=0\n",
    "for i,e in enumerate(data2[\"t\"]):\n",
    "    if (i>0) and (data2.at[i, 't']==0):\n",
    "        prevt=data2.at[i-1, 't']\n",
    "    data2.at[i, 't']+=prevt\n",
    "data2.tail()"
   ]
  },
  {
   "cell_type": "code",
   "execution_count": 4,
   "metadata": {},
   "outputs": [
    {
     "data": {
      "text/plain": [
       "'input.html'"
      ]
     },
     "execution_count": 4,
     "metadata": {},
     "output_type": "execute_result"
    }
   ],
   "source": [
    "datas =[go.Scatter(\n",
    "            x=data2[\"t\"],\n",
    "            y=data2[\"s\"],\n",
    "            name='input')]\n",
    "layout = go.Layout(\n",
    "    title='input',\n",
    "    xaxis=dict(\n",
    "        title=\"time\",\n",
    "        showgrid=True,\n",
    "        zeroline=True,\n",
    "        showline=True,\n",
    "        mirror='ticks',\n",
    "        gridcolor='#bdbdbd',\n",
    "        gridwidth=2,\n",
    "        zerolinecolor='#969696',\n",
    "        zerolinewidth=4,\n",
    "        linecolor='#636363',\n",
    "        linewidth=6\n",
    "    ),\n",
    "    yaxis=dict(\n",
    "        title=\"voltage\",\n",
    "        showgrid=True,\n",
    "        zeroline=True,\n",
    "        showline=True,\n",
    "        mirror='ticks',\n",
    "        gridcolor='#bdbdbd',\n",
    "        gridwidth=2,\n",
    "        zerolinecolor='#969696',\n",
    "        zerolinewidth=4,\n",
    "        linecolor='#636363',\n",
    "        linewidth=6\n",
    "    )\n",
    ")\n",
    "\n",
    "# cоздаем объект Figure и визуализируем его\n",
    "fig = go.Figure(data=datas, layout=layout)\n",
    "#iplot(fig, show_link=False)\n",
    "plotly.offline.plot(fig,filename=\"input.html\",show_link=False)"
   ]
  },
  {
   "cell_type": "code",
   "execution_count": 5,
   "metadata": {},
   "outputs": [
    {
     "data": {
      "text/plain": [
       "'meausre.html'"
      ]
     },
     "execution_count": 5,
     "metadata": {},
     "output_type": "execute_result"
    }
   ],
   "source": [
    "datas =[go.Scatter(\n",
    "            x=data2[\"t\"],\n",
    "            y=data2[\"m\"],\n",
    "            name='measure')]\n",
    "layout = go.Layout(\n",
    "    title='measure',\n",
    "    xaxis=dict(\n",
    "        title=\"time\",\n",
    "        showgrid=True,\n",
    "        zeroline=True,\n",
    "        showline=True,\n",
    "        mirror='ticks',\n",
    "        gridcolor='#bdbdbd',\n",
    "        gridwidth=2,\n",
    "        zerolinecolor='#969696',\n",
    "        zerolinewidth=4,\n",
    "        linecolor='#636363',\n",
    "        linewidth=6\n",
    "    ),\n",
    "    yaxis=dict(\n",
    "        title=\"current\",\n",
    "        showgrid=True,\n",
    "        zeroline=True,\n",
    "        showline=True,\n",
    "        mirror='ticks',\n",
    "        gridcolor='#bdbdbd',\n",
    "        gridwidth=2,\n",
    "        zerolinecolor='#969696',\n",
    "        zerolinewidth=4,\n",
    "        linecolor='#636363',\n",
    "        linewidth=6\n",
    "    )\n",
    ")\n",
    "\n",
    "# cоздаем объект Figure и визуализируем его\n",
    "fig = go.Figure(data=datas, layout=layout)\n",
    "#iplot(fig, show_link=False)\n",
    "plotly.offline.plot(fig,filename=\"meausre.html\",show_link=False)"
   ]
  },
  {
   "cell_type": "code",
   "execution_count": 6,
   "metadata": {},
   "outputs": [
    {
     "data": {
      "text/plain": [
       "'hyst.html'"
      ]
     },
     "execution_count": 6,
     "metadata": {},
     "output_type": "execute_result"
    }
   ],
   "source": [
    "datas =[go.Scatter(\n",
    "            x=data2[\"s\"],\n",
    "            y=data2[\"m\"],\n",
    "            name='input')]\n",
    "layout = go.Layout(\n",
    "    title='hyst',\n",
    "    xaxis=dict(\n",
    "        title=\"voltage\",\n",
    "        showgrid=True,\n",
    "        zeroline=True,\n",
    "        showline=True,\n",
    "        mirror='ticks',\n",
    "        gridcolor='#bdbdbd',\n",
    "        gridwidth=2,\n",
    "        zerolinecolor='#969696',\n",
    "        zerolinewidth=4,\n",
    "        linecolor='#636363',\n",
    "        linewidth=6\n",
    "    ),\n",
    "    yaxis=dict(\n",
    "        title=\"current\",\n",
    "        showgrid=True,\n",
    "        zeroline=True,\n",
    "        showline=True,\n",
    "        mirror='ticks',\n",
    "        gridcolor='#bdbdbd',\n",
    "        gridwidth=2,\n",
    "        zerolinecolor='#969696',\n",
    "        zerolinewidth=4,\n",
    "        linecolor='#636363',\n",
    "        linewidth=6\n",
    "    )\n",
    ")\n",
    "\n",
    "# cоздаем объект Figure и визуализируем его\n",
    "fig = go.Figure(data=datas, layout=layout)\n",
    "#iplot(fig, show_link=False)\n",
    "plotly.offline.plot(fig,filename=\"hyst.html\",show_link=False)"
   ]
  },
  {
   "cell_type": "code",
   "execution_count": 7,
   "metadata": {},
   "outputs": [],
   "source": [
    "data2[\"r\"]=data2[\"s\"]/data2[\"m\"]"
   ]
  },
  {
   "cell_type": "code",
   "execution_count": 8,
   "metadata": {},
   "outputs": [
    {
     "data": {
      "text/plain": [
       "'resistance.html'"
      ]
     },
     "execution_count": 8,
     "metadata": {},
     "output_type": "execute_result"
    }
   ],
   "source": [
    "datas =[go.Scatter(\n",
    "            x=data2[\"t\"],\n",
    "            y=data2[\"r\"],\n",
    "            name='input')]\n",
    "layout = go.Layout(\n",
    "    title='resistance',\n",
    "    xaxis=dict(\n",
    "        title=\"time\",\n",
    "        showgrid=True,\n",
    "        zeroline=True,\n",
    "        showline=True,\n",
    "        mirror='ticks',\n",
    "        gridcolor='#bdbdbd',\n",
    "        gridwidth=2,\n",
    "        zerolinecolor='#969696',\n",
    "        zerolinewidth=4,\n",
    "        linecolor='#636363',\n",
    "        linewidth=6\n",
    "    ),\n",
    "    yaxis=dict(\n",
    "        title=\"resistance\",\n",
    "        showgrid=True,\n",
    "        zeroline=True,\n",
    "        showline=True,\n",
    "        mirror='ticks',\n",
    "        gridcolor='#bdbdbd',\n",
    "        gridwidth=2,\n",
    "        zerolinecolor='#969696',\n",
    "        zerolinewidth=4,\n",
    "        linecolor='#636363',\n",
    "        linewidth=6\n",
    "    )\n",
    ")\n",
    "\n",
    "# cоздаем объект Figure и визуализируем его\n",
    "fig = go.Figure(data=datas, layout=layout)\n",
    "#iplot(fig, show_link=False)\n",
    "plotly.offline.plot(fig,filename=\"resistance.html\",show_link=False)"
   ]
  },
  {
   "cell_type": "code",
   "execution_count": 9,
   "metadata": {},
   "outputs": [
    {
     "name": "stdout",
     "output_type": "stream",
     "text": [
      "              s             m            t             r\n",
      "55529  0.600006  1.296067e-09  4600.022728  4.629434e+08\n",
      "55530  0.600005  1.293170e-09  4600.105339  4.639801e+08\n",
      "55531  0.600006  1.290897e-09  4600.187958  4.647978e+08\n",
      "55532  0.600006  1.290664e-09  4600.270561  4.648814e+08\n",
      "55533  0.600005  1.290396e-09  4600.353180  4.649777e+08\n",
      "55534  0.600006  1.290943e-09  4600.435799  4.647809e+08\n",
      "55535  0.600006  1.292281e-09  4600.518402  4.642999e+08\n",
      "55536  0.600005  1.292279e-09  4600.601006  4.642998e+08\n",
      "55537  0.600005  1.290390e-09  4600.683617  4.649799e+08\n",
      "55538  0.600005  1.290610e-09  4600.766235  4.649004e+08\n",
      "55539  0.600006  1.292315e-09  4600.848846  4.642877e+08\n",
      "55540  0.600005  1.290551e-09  4600.931458  4.649216e+08\n",
      "55541  0.600004  1.289917e-09  4601.014069  4.651490e+08\n",
      "55542  0.600004  1.289993e-09  4601.096687  4.651217e+08\n",
      "55543  0.600005  1.290355e-09  4601.179314  4.649922e+08\n",
      "55544  0.600005  1.291204e-09  4601.261917  4.646861e+08\n",
      "55545  0.600004  1.291355e-09  4601.344521  4.646316e+08\n",
      "55546  0.600004  1.290331e-09  4601.427132  4.650004e+08\n",
      "55547  0.600005  1.288535e-09  4601.509743  4.656487e+08\n",
      "55548  0.600005  1.290733e-09  4601.592361  4.648558e+08\n",
      "55549  0.600004  1.289482e-09  4601.674973  4.653061e+08\n",
      "55550  0.600005  1.289913e-09  4601.757584  4.651515e+08\n",
      "55551  0.600005  1.291071e-09  4601.840218  4.647346e+08\n",
      "55552  0.600005  1.287598e-09  4601.922829  4.659881e+08\n",
      "55553  0.600005  1.290931e-09  4602.005432  4.647847e+08\n",
      "55554  0.600005  1.293187e-09  4602.088036  4.639740e+08\n",
      "55555  0.600004  1.293873e-09  4602.170654  4.637275e+08\n",
      "55556  0.600006  1.291164e-09  4602.253265  4.647016e+08\n",
      "55557  0.600005  1.291286e-09  4602.335869  4.646569e+08\n",
      "55558  0.600004  1.290795e-09  4602.418472  4.648330e+08\n",
      "...         ...           ...          ...           ...\n",
      "57921  0.600005  1.280194e-09  4797.631531  4.686830e+08\n",
      "57922  0.600004  1.279373e-09  4797.714142  4.689828e+08\n",
      "57923  0.600004  1.290417e-09  4797.796753  4.649689e+08\n",
      "57924  0.600004  1.279478e-09  4797.879364  4.689444e+08\n",
      "57925  0.600006  1.275448e-09  4797.961975  4.704278e+08\n",
      "57926  0.600005  1.282102e-09  4798.044586  4.679851e+08\n",
      "57927  0.600004  1.282322e-09  4798.127197  4.679047e+08\n",
      "57928  0.600004  1.286742e-09  4798.209808  4.662970e+08\n",
      "57929  0.500000  6.864638e-10  4798.209808  7.283712e+08\n",
      "57930  0.499999  6.725329e-10  4798.292424  7.434558e+08\n",
      "57931  0.499998  6.587081e-10  4798.375038  7.590590e+08\n",
      "57932  0.500000  6.505838e-10  4798.457670  7.685399e+08\n",
      "57933  0.500000  6.429531e-10  4798.540279  7.776611e+08\n",
      "57934  0.499999  6.341932e-10  4798.622893  7.884009e+08\n",
      "57935  0.499998  6.335532e-10  4798.705505  7.891967e+08\n",
      "57936  0.499999  6.305990e-10  4798.788119  7.928956e+08\n",
      "57937  0.500000  6.287730e-10  4798.870732  7.951992e+08\n",
      "57938  0.500000  6.255396e-10  4798.953355  7.993095e+08\n",
      "57939  0.499999  6.252189e-10  4799.035959  7.997185e+08\n",
      "57940  0.500000  6.198574e-10  4799.118564  8.066373e+08\n",
      "57941  0.500000  6.244228e-10  4799.201195  8.007389e+08\n",
      "57942  0.500000  6.174256e-10  4799.283810  8.098137e+08\n",
      "57943  0.499999  6.174374e-10  4799.366422  8.097978e+08\n",
      "57944  0.500000  6.181295e-10  4799.449041  8.088927e+08\n",
      "57945  0.500000  6.117843e-10  4799.531640  8.172815e+08\n",
      "57946  0.500000  6.176756e-10  4799.614256  8.094863e+08\n",
      "57947  0.499999  6.147035e-10  4799.696871  8.133978e+08\n",
      "57948  0.499999  6.220612e-10  4799.779476  8.037778e+08\n",
      "57949  0.499999  6.145640e-10  4799.862083  8.135825e+08\n",
      "57950  0.499999  6.096669e-10  4799.944706  8.201192e+08\n",
      "\n",
      "[2422 rows x 4 columns]\n"
     ]
    }
   ],
   "source": [
    "print(data2[(data2[\"t\"]>4600)&(data2[\"t\"]<4800)])"
   ]
  },
  {
   "cell_type": "code",
   "execution_count": null,
   "metadata": {},
   "outputs": [],
   "source": []
  }
 ],
 "metadata": {
  "kernelspec": {
   "display_name": "Python 3",
   "language": "python",
   "name": "python3"
  },
  "language_info": {
   "codemirror_mode": {
    "name": "ipython",
    "version": 3
   },
   "file_extension": ".py",
   "mimetype": "text/x-python",
   "name": "python",
   "nbconvert_exporter": "python",
   "pygments_lexer": "ipython3",
   "version": "3.7.3"
  }
 },
 "nbformat": 4,
 "nbformat_minor": 2
}
